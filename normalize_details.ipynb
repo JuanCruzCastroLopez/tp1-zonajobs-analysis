{
 "cells": [
  {
   "cell_type": "code",
   "execution_count": 236,
   "metadata": {},
   "outputs": [],
   "source": [
    "import numpy as np\n",
    "import pandas as pd\n",
    "import matplotlib.pyplot as plt\n",
    "import seaborn as sns\n",
    "import datetime as datetime\n",
    "import sys\n",
    "\n",
    "VALOR_CAMBIO_A_DOLAR = 19.54"
   ]
  },
  {
   "cell_type": "code",
   "execution_count": 237,
   "metadata": {},
   "outputs": [],
   "source": [
    "df = pd.read_csv('train.csv',\n",
    "        index_col='id',\n",
    "        dtype={'gimnasio': bool,\n",
    "                'usosmultiples': bool,\n",
    "                'escuelascercanas': bool,\n",
    "                'piscina': bool,\n",
    "                'centroscomercialescercanos': bool,\n",
    "                'tipodepropiedad': 'category',\n",
    "                'provincia': 'category',\n",
    "                'ciudad': 'category'\n",
    "            },\n",
    "        parse_dates=['fecha'])\n",
    "pd.set_option('display.float_format', '{:.2f}'.format)"
   ]
  },
  {
   "cell_type": "code",
   "execution_count": 238,
   "metadata": {},
   "outputs": [
    {
     "data": {
      "text/plain": [
       "id\n",
       "254099     True\n",
       "53461     False\n",
       "247984    False\n",
       "209067    False\n",
       "185997     True\n",
       "          ...  \n",
       "119879    False\n",
       "259178    False\n",
       "131932     True\n",
       "146867    False\n",
       "121958     True\n",
       "Name: tipodepropiedad, Length: 240000, dtype: bool"
      ]
     },
     "execution_count": 238,
     "metadata": {},
     "output_type": "execute_result"
    }
   ],
   "source": [
    "df['tipodepropiedad'].isin(['Apartamento'])"
   ]
  },
  {
   "cell_type": "code",
   "execution_count": 239,
   "metadata": {
    "scrolled": true
   },
   "outputs": [
    {
     "data": {
      "text/plain": [
       "Index(['titulo', 'descripcion', 'tipodepropiedad', 'direccion', 'ciudad',\n",
       "       'provincia', 'antiguedad', 'habitaciones', 'garages', 'banos',\n",
       "       'metroscubiertos', 'metrostotales', 'idzona', 'lat', 'lng', 'fecha',\n",
       "       'gimnasio', 'usosmultiples', 'piscina', 'escuelascercanas',\n",
       "       'centroscomercialescercanos', 'precio'],\n",
       "      dtype='object')"
      ]
     },
     "execution_count": 239,
     "metadata": {},
     "output_type": "execute_result"
    }
   ],
   "source": [
    "df.columns"
   ]
  },
  {
   "cell_type": "code",
   "execution_count": 240,
   "metadata": {},
   "outputs": [],
   "source": [
    "# Me quedo solo con las columnas que son importantes para nuestro analisis.\n",
    "# Quizas el titulo y la descripcion tampoco las use, pero primero habria que hacer  un analisis de ese campo\n",
    "df.drop(['direccion','idzona','lat','lng'], axis=1, inplace=True)"
   ]
  },
  {
   "cell_type": "code",
   "execution_count": 241,
   "metadata": {},
   "outputs": [
    {
     "data": {
      "text/plain": [
       "Index(['titulo', 'descripcion', 'tipodepropiedad', 'ciudad', 'provincia',\n",
       "       'antiguedad', 'habitaciones', 'garages', 'banos', 'metroscubiertos',\n",
       "       'metrostotales', 'fecha', 'gimnasio', 'usosmultiples', 'piscina',\n",
       "       'escuelascercanas', 'centroscomercialescercanos', 'precio'],\n",
       "      dtype='object')"
      ]
     },
     "execution_count": 241,
     "metadata": {},
     "output_type": "execute_result"
    }
   ],
   "source": [
    "df.columns"
   ]
  },
  {
   "cell_type": "code",
   "execution_count": 242,
   "metadata": {
    "scrolled": false
   },
   "outputs": [
    {
     "name": "stdout",
     "output_type": "stream",
     "text": [
      "Filas, columnas:  (240000, 18)\n",
      "Tipos: \n",
      " titulo                                object\n",
      "descripcion                           object\n",
      "tipodepropiedad                     category\n",
      "ciudad                              category\n",
      "provincia                           category\n",
      "antiguedad                           float64\n",
      "habitaciones                         float64\n",
      "garages                              float64\n",
      "banos                                float64\n",
      "metroscubiertos                      float64\n",
      "metrostotales                        float64\n",
      "fecha                         datetime64[ns]\n",
      "gimnasio                                bool\n",
      "usosmultiples                           bool\n",
      "piscina                                 bool\n",
      "escuelascercanas                        bool\n",
      "centroscomercialescercanos              bool\n",
      "precio                               float64\n",
      "dtype: object\n"
     ]
    }
   ],
   "source": [
    "# 1. Ver cuantos datos (observaciones) tenemos en total\n",
    "# 2. Ver cuantos atributos tiene cada observaci´on\n",
    "# 3. Ver el nombre y tipo de dato de cada observaci´on\n",
    "# 4. Ver cuantos valores faltantes existen y en que proporci´on se presentan para\n",
    "# cada atributo\n",
    "# Despues de parsear y filtrar los nulos, deberiamos poner cada columna en su tipo ideal.\n",
    "# df['antiguedad'] = df['antiguedad'].astype(int)     algo de este estilo\n",
    "\n",
    "print(\"Filas, columnas: \", df.shape)\n",
    "print(\"Tipos: \\n\", df.dtypes)"
   ]
  },
  {
   "cell_type": "code",
   "execution_count": 243,
   "metadata": {},
   "outputs": [
    {
     "data": {
      "text/plain": [
       "titulo                         5387\n",
       "descripcion                    1619\n",
       "tipodepropiedad                  46\n",
       "ciudad                          372\n",
       "provincia                       155\n",
       "antiguedad                    43555\n",
       "habitaciones                  22471\n",
       "garages                       37765\n",
       "banos                         26221\n",
       "metroscubiertos               17400\n",
       "metrostotales                 51467\n",
       "fecha                             0\n",
       "gimnasio                          0\n",
       "usosmultiples                     0\n",
       "piscina                           0\n",
       "escuelascercanas                  0\n",
       "centroscomercialescercanos        0\n",
       "precio                            0\n",
       "dtype: int64"
      ]
     },
     "execution_count": 243,
     "metadata": {},
     "output_type": "execute_result"
    }
   ],
   "source": [
    "# Cosas a observar de esto:\n",
    "# Propiedades sin ciudad ni provincia.\n",
    "# Muchas propiedades sin metroscubiertos y totales especificados. Estas columnas son claves para \n",
    "# el precio (falta demostrar)\n",
    "# 46 propiedades sin clasificacion de tipo de propiedad. \n",
    "# Habitaciones y Banos, muchos datos nulos. Sera que no tienen? Una casa no pude no tener habitacio ni bano...\n",
    "# Garages, piscina, salondeusosmultiples y gimnasio son extras. Supongo que el hecho de que no aparezcan \n",
    "# es que no los tienen.\n",
    "# Estos 4 extras, podrian reunirse en una categoria todas juntas para evaluar como crece el precio en base a esos\n",
    "# extras.\n",
    "# 43000 propiedades sin saber su antiguedad. Esto si ni idea como podemos reemplazarlos.\n",
    "\n",
    "df.isna().sum()"
   ]
  },
  {
   "cell_type": "code",
   "execution_count": 244,
   "metadata": {},
   "outputs": [
    {
     "data": {
      "text/html": [
       "<div>\n",
       "<style scoped>\n",
       "    .dataframe tbody tr th:only-of-type {\n",
       "        vertical-align: middle;\n",
       "    }\n",
       "\n",
       "    .dataframe tbody tr th {\n",
       "        vertical-align: top;\n",
       "    }\n",
       "\n",
       "    .dataframe thead th {\n",
       "        text-align: right;\n",
       "    }\n",
       "</style>\n",
       "<table border=\"1\" class=\"dataframe\">\n",
       "  <thead>\n",
       "    <tr style=\"text-align: right;\">\n",
       "      <th></th>\n",
       "      <th>titulo</th>\n",
       "      <th>descripcion</th>\n",
       "      <th>tipodepropiedad</th>\n",
       "      <th>ciudad</th>\n",
       "      <th>provincia</th>\n",
       "      <th>antiguedad</th>\n",
       "      <th>habitaciones</th>\n",
       "      <th>garages</th>\n",
       "      <th>banos</th>\n",
       "      <th>metroscubiertos</th>\n",
       "      <th>metrostotales</th>\n",
       "      <th>fecha</th>\n",
       "      <th>gimnasio</th>\n",
       "      <th>usosmultiples</th>\n",
       "      <th>piscina</th>\n",
       "      <th>escuelascercanas</th>\n",
       "      <th>centroscomercialescercanos</th>\n",
       "      <th>precio</th>\n",
       "    </tr>\n",
       "    <tr>\n",
       "      <th>id</th>\n",
       "      <th></th>\n",
       "      <th></th>\n",
       "      <th></th>\n",
       "      <th></th>\n",
       "      <th></th>\n",
       "      <th></th>\n",
       "      <th></th>\n",
       "      <th></th>\n",
       "      <th></th>\n",
       "      <th></th>\n",
       "      <th></th>\n",
       "      <th></th>\n",
       "      <th></th>\n",
       "      <th></th>\n",
       "      <th></th>\n",
       "      <th></th>\n",
       "      <th></th>\n",
       "      <th></th>\n",
       "    </tr>\n",
       "  </thead>\n",
       "  <tbody>\n",
       "  </tbody>\n",
       "</table>\n",
       "</div>"
      ],
      "text/plain": [
       "Empty DataFrame\n",
       "Columns: [titulo, descripcion, tipodepropiedad, ciudad, provincia, antiguedad, habitaciones, garages, banos, metroscubiertos, metrostotales, fecha, gimnasio, usosmultiples, piscina, escuelascercanas, centroscomercialescercanos, precio]\n",
       "Index: []"
      ]
     },
     "execution_count": 244,
     "metadata": {},
     "output_type": "execute_result"
    }
   ],
   "source": [
    "# Dato importante y valioso: No hay ninguna casa que no tenga especificado ni metros cubiertos ni totales\n",
    "# Esto me asegura que no tengo que limpiar datos, ya que si no hubiese tenido ninguno hubiese sido dato invalido\n",
    "# Conociendo uno de los dos valores, puedo intentar asumir el otro con alguna decision.\n",
    "df[(df['metroscubiertos'].isnull()) & (df['metrostotales'].isnull())].head()"
   ]
  },
  {
   "cell_type": "code",
   "execution_count": 245,
   "metadata": {},
   "outputs": [
    {
     "data": {
      "text/plain": [
       "Terreno                          6940\n",
       "Casa                             6532\n",
       "Terreno comercial                 851\n",
       "Apartamento                       823\n",
       "Edificio                          676\n",
       "Casa en condominio                593\n",
       "Local Comercial                   320\n",
       "Bodega comercial                  293\n",
       "Oficina comercial                 116\n",
       "Casa uso de suelo                  99\n",
       "Otros                              46\n",
       "Inmuebles productivos urbanos      35\n",
       "Quinta Vacacional                  13\n",
       "Nave industrial                    12\n",
       "Terreno industrial                  9\n",
       "Villa                               7\n",
       "Duplex                              5\n",
       "Local en centro comercial           5\n",
       "Lote                                5\n",
       "Rancho                              4\n",
       "Departamento Compartido             2\n",
       "Huerta                              0\n",
       "Hospedaje                           0\n",
       "Garage                              0\n",
       "Name: tipodepropiedad, dtype: int64"
      ]
     },
     "execution_count": 245,
     "metadata": {},
     "output_type": "execute_result"
    }
   ],
   "source": [
    "# Tiene sentido que los terrenos no tengan metros cubiertos. \n",
    "# Pero como una casa, un edificio, y cualquier otra cosa que no sea un terreno no tiene metros cubiertos? \n",
    "# Y ya demostre en uno de los graficos que los metros cubiertos y totales son lo que mas influyen en el precio. \n",
    "# Esto, a mi criterio, convierte estos datos en invalidos.\n",
    "df[df.metroscubiertos.isnull()]['tipodepropiedad'].value_counts()"
   ]
  },
  {
   "cell_type": "code",
   "execution_count": 246,
   "metadata": {},
   "outputs": [
    {
     "data": {
      "text/plain": [
       "(230391, 18)"
      ]
     },
     "execution_count": 246,
     "metadata": {},
     "output_type": "execute_result"
    }
   ],
   "source": [
    "# Extraigo todos aquellas propiedades que tienen metroscubiertos nulos y no son terrenos. \n",
    "# Quizas en vez de extraerlos, se podria asumir que los metros totales son todos cubiertos.\n",
    "indices_invalidos = df[(df.metroscubiertos.isnull()) & (~df.tipodepropiedad.isin(['Terreno','Terreno comercial']))].index\n",
    "df.drop(index=indices_invalidos, inplace=True)\n",
    "df.shape"
   ]
  },
  {
   "cell_type": "code",
   "execution_count": 247,
   "metadata": {},
   "outputs": [
    {
     "data": {
      "text/plain": [
       "(230055, 18)"
      ]
     },
     "execution_count": 247,
     "metadata": {},
     "output_type": "execute_result"
    }
   ],
   "source": [
    "# No tiene sentido que una casa no tenga ciudad ni provincia, ya que son datos que influyen en el precio\n",
    "# y no se pueden deducir de otro lado, ademas, son pocos\n",
    "df.dropna(subset=['ciudad','provincia'], inplace=True)\n",
    "df.shape"
   ]
  },
  {
   "cell_type": "code",
   "execution_count": 248,
   "metadata": {},
   "outputs": [],
   "source": [
    "# Es imposible que cualquier inmueble tenga metroscubiertos, y no tenga metros totales.\n",
    "# Para esos casos, le asigno la misma cantidad de metros cubiertos que totales, osea no tiene metros descubiertos.\n",
    "df['metrostotales'].fillna(df['metroscubiertos'], inplace=True)"
   ]
  },
  {
   "cell_type": "code",
   "execution_count": 249,
   "metadata": {},
   "outputs": [
    {
     "data": {
      "text/plain": [
       "titulo                         5071\n",
       "descripcion                    1484\n",
       "tipodepropiedad                  19\n",
       "ciudad                            0\n",
       "provincia                         0\n",
       "antiguedad                    41416\n",
       "habitaciones                  20540\n",
       "garages                       34150\n",
       "banos                         23077\n",
       "metroscubiertos                7777\n",
       "metrostotales                     0\n",
       "fecha                             0\n",
       "gimnasio                          0\n",
       "usosmultiples                     0\n",
       "piscina                           0\n",
       "escuelascercanas                  0\n",
       "centroscomercialescercanos        0\n",
       "precio                            0\n",
       "dtype: int64"
      ]
     },
     "execution_count": 249,
     "metadata": {},
     "output_type": "execute_result"
    }
   ],
   "source": [
    "# Despues de estos pequeños arreglos, se reducen la cantidad de nulos. Si bien siguen habiendo, \n",
    "df.isnull().sum()"
   ]
  },
  {
   "cell_type": "code",
   "execution_count": 250,
   "metadata": {},
   "outputs": [],
   "source": [
    "# El resto de filas con metros cubiertos, son terrenos. Deberian tener 0 metros cubiertos.\n",
    "df['metroscubiertos'].fillna(0, inplace=True)"
   ]
  },
  {
   "cell_type": "code",
   "execution_count": 251,
   "metadata": {},
   "outputs": [],
   "source": [
    "# Aquellas casas que no tienen el tipodepropiedad, son solo 19. Podria intentar sacar el tipo de prop\n",
    "# desde la descripcion pero no estaria seguro al respecto. Siendo solo 19, las elimino.\n",
    "df.dropna(subset=['tipodepropiedad'],inplace=True)"
   ]
  },
  {
   "cell_type": "code",
   "execution_count": 252,
   "metadata": {},
   "outputs": [
    {
     "data": {
      "text/plain": [
       "(230036, 18)"
      ]
     },
     "execution_count": 252,
     "metadata": {},
     "output_type": "execute_result"
    }
   ],
   "source": [
    "df.shape"
   ]
  },
  {
   "cell_type": "code",
   "execution_count": 253,
   "metadata": {},
   "outputs": [],
   "source": [
    "# Para banos y habitaciones, completo los nulos con la moda agrupando por tipo de propiedad y ciudad.\n",
    "# En caso de que no este en ninguno de esos, le asigno la moda por tipo de propiedad.\n",
    "\n",
    "df['banos'] = df.groupby(['tipodepropiedad','ciudad'])['banos'].transform(lambda x: x.fillna(x.mode()))\n",
    "df['habitaciones'] = df.groupby(['tipodepropiedad','ciudad'])['habitaciones'].transform(lambda x: x.fillna(x.mode()))\n",
    "df['banos'] = df.groupby(['tipodepropiedad'])['banos'].transform(lambda x: x.fillna(x.mode()))\n",
    "df['habitaciones'] = df.groupby(['tipodepropiedad'])['habitaciones'].transform(lambda x: x.fillna(x.mode()))"
   ]
  },
  {
   "cell_type": "code",
   "execution_count": 254,
   "metadata": {
    "scrolled": true
   },
   "outputs": [
    {
     "data": {
      "text/plain": [
       "titulo                         5071\n",
       "descripcion                    1483\n",
       "tipodepropiedad                   0\n",
       "ciudad                            0\n",
       "provincia                         0\n",
       "antiguedad                    41400\n",
       "habitaciones                  20533\n",
       "garages                       34135\n",
       "banos                         23063\n",
       "metroscubiertos                   0\n",
       "metrostotales                     0\n",
       "fecha                             0\n",
       "gimnasio                          0\n",
       "usosmultiples                     0\n",
       "piscina                           0\n",
       "escuelascercanas                  0\n",
       "centroscomercialescercanos        0\n",
       "precio                            0\n",
       "dtype: int64"
      ]
     },
     "execution_count": 254,
     "metadata": {},
     "output_type": "execute_result"
    }
   ],
   "source": [
    "df.isnull().sum()"
   ]
  },
  {
   "cell_type": "code",
   "execution_count": 255,
   "metadata": {},
   "outputs": [
    {
     "data": {
      "text/plain": [
       "(16294, 18)"
      ]
     },
     "execution_count": 255,
     "metadata": {},
     "output_type": "execute_result"
    }
   ],
   "source": [
    "# 17964 registros sin banos ni habitaciones completados. Analizo eso:\n",
    "# Hay alguno con ambos nulos?\n",
    "df[(df.banos.isnull())&(df.habitaciones.isnull())].shape\n",
    "# Esos 17964 coinciden."
   ]
  },
  {
   "cell_type": "code",
   "execution_count": 256,
   "metadata": {},
   "outputs": [
    {
     "data": {
      "text/plain": [
       "tipodepropiedad\n",
       "Apartamento                      1220\n",
       "Bodega comercial                  469\n",
       "Casa                             6897\n",
       "Casa en condominio                687\n",
       "Casa uso de suelo                 112\n",
       "Departamento Compartido             6\n",
       "Duplex                              5\n",
       "Edificio                          462\n",
       "Huerta                             12\n",
       "Inmuebles productivos urbanos      96\n",
       "Local Comercial                  1532\n",
       "Local en centro comercial         118\n",
       "Lote                                0\n",
       "Nave industrial                    25\n",
       "Oficina comercial                 693\n",
       "Otros                              35\n",
       "Quinta Vacacional                  48\n",
       "Rancho                             32\n",
       "Terreno                          9417\n",
       "Terreno comercial                1143\n",
       "Terreno industrial                 14\n",
       "Villa                              38\n",
       "Hospedaje                           1\n",
       "Garage                              1\n",
       "dtype: int64"
      ]
     },
     "execution_count": 256,
     "metadata": {},
     "output_type": "execute_result"
    }
   ],
   "source": [
    "# Registros sin baño agrupados por tipo de propiedad.\n",
    "df[df.banos.isnull()].groupby('tipodepropiedad').size()"
   ]
  },
  {
   "cell_type": "code",
   "execution_count": 257,
   "metadata": {},
   "outputs": [
    {
     "data": {
      "text/plain": [
       "20533"
      ]
     },
     "execution_count": 257,
     "metadata": {},
     "output_type": "execute_result"
    }
   ],
   "source": [
    "# Causalmente, todos esos nulos corresponden a inmuebles no habitables. Es raro suponer que no tienen baño, pero asumimos\n",
    "# que ese None, es algo que no modifica el valor del inmueble. No cambia para un local su valor si tiene o no baño.\n",
    "df[df.habitaciones.isnull()].groupby('tipodepropiedad').size().sum()"
   ]
  },
  {
   "cell_type": "code",
   "execution_count": 258,
   "metadata": {},
   "outputs": [
    {
     "data": {
      "text/plain": [
       "3.00     376\n",
       "1.00     361\n",
       "2.00     360\n",
       "4.00     213\n",
       "5.00     122\n",
       "6.00      87\n",
       "10.00     63\n",
       "8.00      42\n",
       "7.00      33\n",
       "9.00      26\n",
       "Name: habitaciones, dtype: int64"
      ]
     },
     "execution_count": 258,
     "metadata": {},
     "output_type": "execute_result"
    }
   ],
   "source": [
    "# La idea es ver si alguno que no sea habitable, tiene baños distinto de None para ver como reemplazar los otros nan.\n",
    "# Por habitable me refiero a propiedades donde vive gente.\n",
    "\n",
    "habitables = ['Casa','Apartamento','Casa en condominio','Casa uso de suelo','Quinta Vacacional','Villa','Duplex','Rancho','Departamento Compartido']\n",
    "\n",
    "df[~df.tipodepropiedad.isin(habitables)]['habitaciones'].value_counts()"
   ]
  },
  {
   "cell_type": "code",
   "execution_count": 259,
   "metadata": {},
   "outputs": [],
   "source": [
    "# Tomo la decision de llenar los banos y habitaciones nulos, ya demostrado que corresponden a inmuebles no habitables,\n",
    "# con el valor 0. Al margen de llenar los nulos, clarmaente son datos que no van a interesar para el analisis de este tipo de \n",
    "# propiedades.\n",
    "df.banos.fillna(0, inplace = True)\n",
    "df.habitaciones.fillna(0, inplace = True)"
   ]
  },
  {
   "cell_type": "code",
   "execution_count": 260,
   "metadata": {
    "scrolled": true
   },
   "outputs": [
    {
     "data": {
      "text/plain": [
       "titulo                         5071\n",
       "descripcion                    1483\n",
       "tipodepropiedad                   0\n",
       "ciudad                            0\n",
       "provincia                         0\n",
       "antiguedad                    41400\n",
       "habitaciones                      0\n",
       "garages                       34135\n",
       "banos                             0\n",
       "metroscubiertos                   0\n",
       "metrostotales                     0\n",
       "fecha                             0\n",
       "gimnasio                          0\n",
       "usosmultiples                     0\n",
       "piscina                           0\n",
       "escuelascercanas                  0\n",
       "centroscomercialescercanos        0\n",
       "precio                            0\n",
       "dtype: int64"
      ]
     },
     "execution_count": 260,
     "metadata": {},
     "output_type": "execute_result"
    }
   ],
   "source": [
    "df.isnull().sum()"
   ]
  },
  {
   "cell_type": "code",
   "execution_count": 261,
   "metadata": {},
   "outputs": [
    {
     "data": {
      "text/plain": [
       "tipodepropiedad\n",
       "Apartamento                       3543\n",
       "Bodega comercial                   393\n",
       "Casa                             21600\n",
       "Casa en condominio                2973\n",
       "Casa uso de suelo                  189\n",
       "Departamento Compartido              4\n",
       "Duplex                               7\n",
       "Edificio                           233\n",
       "Huerta                               5\n",
       "Inmuebles productivos urbanos       45\n",
       "Local Comercial                   1060\n",
       "Local en centro comercial           42\n",
       "Lote                                 0\n",
       "Nave industrial                     18\n",
       "Oficina comercial                  473\n",
       "Otros                               48\n",
       "Quinta Vacacional                  237\n",
       "Rancho                              93\n",
       "Terreno                           2397\n",
       "Terreno comercial                  604\n",
       "Terreno industrial                  17\n",
       "Villa                              154\n",
       "Hospedaje                            0\n",
       "Garage                               0\n",
       "dtype: int64"
      ]
     },
     "execution_count": 261,
     "metadata": {},
     "output_type": "execute_result"
    }
   ],
   "source": [
    "# Ahora voy a analizar los garages nulos. \n",
    "df[df.garages.isnull()].groupby('tipodepropiedad').size()"
   ]
  },
  {
   "cell_type": "code",
   "execution_count": 262,
   "metadata": {},
   "outputs": [
    {
     "data": {
      "text/html": [
       "<div>\n",
       "<style scoped>\n",
       "    .dataframe tbody tr th:only-of-type {\n",
       "        vertical-align: middle;\n",
       "    }\n",
       "\n",
       "    .dataframe tbody tr th {\n",
       "        vertical-align: top;\n",
       "    }\n",
       "\n",
       "    .dataframe thead th {\n",
       "        text-align: right;\n",
       "    }\n",
       "</style>\n",
       "<table border=\"1\" class=\"dataframe\">\n",
       "  <thead>\n",
       "    <tr style=\"text-align: right;\">\n",
       "      <th></th>\n",
       "      <th></th>\n",
       "      <th>garages</th>\n",
       "    </tr>\n",
       "    <tr>\n",
       "      <th>tipodepropiedad</th>\n",
       "      <th>ciudad</th>\n",
       "      <th></th>\n",
       "    </tr>\n",
       "  </thead>\n",
       "  <tbody>\n",
       "    <tr>\n",
       "      <td rowspan=\"5\" valign=\"top\">Apartamento</td>\n",
       "      <td>Abalá</td>\n",
       "      <td>nan</td>\n",
       "    </tr>\n",
       "    <tr>\n",
       "      <td>Abasolo</td>\n",
       "      <td>nan</td>\n",
       "    </tr>\n",
       "    <tr>\n",
       "      <td>Acajete</td>\n",
       "      <td>1.00</td>\n",
       "    </tr>\n",
       "    <tr>\n",
       "      <td>Acambay</td>\n",
       "      <td>2.00</td>\n",
       "    </tr>\n",
       "    <tr>\n",
       "      <td>Acapulco de Juárez</td>\n",
       "      <td>1.29</td>\n",
       "    </tr>\n",
       "    <tr>\n",
       "      <td>...</td>\n",
       "      <td>...</td>\n",
       "      <td>...</td>\n",
       "    </tr>\n",
       "    <tr>\n",
       "      <td rowspan=\"5\" valign=\"top\">Garage</td>\n",
       "      <td>San Luis de la Paz</td>\n",
       "      <td>nan</td>\n",
       "    </tr>\n",
       "    <tr>\n",
       "      <td>San Matías Tlalancaleca</td>\n",
       "      <td>nan</td>\n",
       "    </tr>\n",
       "    <tr>\n",
       "      <td>San Pedro</td>\n",
       "      <td>nan</td>\n",
       "    </tr>\n",
       "    <tr>\n",
       "      <td>Sombrerete</td>\n",
       "      <td>nan</td>\n",
       "    </tr>\n",
       "    <tr>\n",
       "      <td>ZirAndaro</td>\n",
       "      <td>nan</td>\n",
       "    </tr>\n",
       "  </tbody>\n",
       "</table>\n",
       "<p>21000 rows × 1 columns</p>\n",
       "</div>"
      ],
      "text/plain": [
       "                                         garages\n",
       "tipodepropiedad ciudad                          \n",
       "Apartamento     Abalá                        nan\n",
       "                Abasolo                      nan\n",
       "                Acajete                     1.00\n",
       "                Acambay                     2.00\n",
       "                Acapulco de Juárez          1.29\n",
       "...                                          ...\n",
       "Garage          San Luis de la Paz           nan\n",
       "                San Matías Tlalancaleca      nan\n",
       "                San Pedro                    nan\n",
       "                Sombrerete                   nan\n",
       "                ZirAndaro                    nan\n",
       "\n",
       "[21000 rows x 1 columns]"
      ]
     },
     "execution_count": 262,
     "metadata": {},
     "output_type": "execute_result"
    }
   ],
   "source": [
    "# De aca se puede ver informacion importante: Segun la ciudad y el tipo de propiedad, varia bastante la cantidad de garages\n",
    "# de una casa.\n",
    "df.groupby(['tipodepropiedad','ciudad']).agg({'garages':'mean'})"
   ]
  },
  {
   "cell_type": "code",
   "execution_count": 263,
   "metadata": {},
   "outputs": [
    {
     "data": {
      "text/plain": [
       "2.00    85887\n",
       "1.00    56953\n",
       "3.00    47212\n",
       "0.00    23063\n",
       "4.00    16921\n",
       "Name: banos, dtype: int64"
      ]
     },
     "execution_count": 263,
     "metadata": {},
     "output_type": "execute_result"
    }
   ],
   "source": [
    "# Tomo la decision de completar aquellos valores de garage nulos, con el promedio de garages para ese tipo de propiedad,\n",
    "# en la ciudad en que se encuentre.\n",
    "df['garages'] = df.groupby(['tipodepropiedad','ciudad'])['garages'].transform(lambda x: x.fillna(x.mode()))\n",
    "\n",
    "df['banos'].value_counts()"
   ]
  },
  {
   "cell_type": "code",
   "execution_count": 264,
   "metadata": {},
   "outputs": [],
   "source": [
    "# Para aquellos registros que registraban de promedio nan, osea ninguno tenia, los relleno con 0 como valor de garage.\n",
    "df['garages'].fillna(0, inplace=True)"
   ]
  },
  {
   "cell_type": "code",
   "execution_count": 265,
   "metadata": {},
   "outputs": [
    {
     "data": {
      "text/plain": [
       "titulo                         5071\n",
       "descripcion                    1483\n",
       "tipodepropiedad                   0\n",
       "ciudad                            0\n",
       "provincia                         0\n",
       "antiguedad                    41400\n",
       "habitaciones                      0\n",
       "garages                           0\n",
       "banos                             0\n",
       "metroscubiertos                   0\n",
       "metrostotales                     0\n",
       "fecha                             0\n",
       "gimnasio                          0\n",
       "usosmultiples                     0\n",
       "piscina                           0\n",
       "escuelascercanas                  0\n",
       "centroscomercialescercanos        0\n",
       "precio                            0\n",
       "dtype: int64"
      ]
     },
     "execution_count": 265,
     "metadata": {},
     "output_type": "execute_result"
    }
   ],
   "source": [
    "# Solo me queda revisar los nulos de antiguedad. Son muchisimos. \n",
    "df.isnull().sum()"
   ]
  },
  {
   "cell_type": "code",
   "execution_count": 266,
   "metadata": {
    "scrolled": true
   },
   "outputs": [],
   "source": [
    "# La decision que voy a tomar para esos nulos, es similar a la de los garages. Voy a rellenar los nulos con el promedio\n",
    "# de antiguedad para ese tipo de propiedad y esa ciudad en la que esta ubicada la propiedad.\n",
    "# No se que tanto sentido tenga asignarle valores asi a la antiguedad porque de verdad estoy modificando de una forma que\n",
    "# no necesariamente sea correcta\n",
    "\n",
    "\n",
    "# df.groupby(['tipodepropiedad','ciudad']).agg({'antiguedad':'mean'})"
   ]
  },
  {
   "cell_type": "code",
   "execution_count": 267,
   "metadata": {},
   "outputs": [],
   "source": [
    "# df['antiguedad'] = df.groupby(['tipodepropiedad','ciudad'])['antiguedad'].transform(lambda x: x.fillna(x.mean()))"
   ]
  },
  {
   "cell_type": "code",
   "execution_count": 268,
   "metadata": {
    "scrolled": false
   },
   "outputs": [
    {
     "data": {
      "text/plain": [
       "titulo                         5071\n",
       "descripcion                    1483\n",
       "tipodepropiedad                   0\n",
       "ciudad                            0\n",
       "provincia                         0\n",
       "antiguedad                    41400\n",
       "habitaciones                      0\n",
       "garages                           0\n",
       "banos                             0\n",
       "metroscubiertos                   0\n",
       "metrostotales                     0\n",
       "fecha                             0\n",
       "gimnasio                          0\n",
       "usosmultiples                     0\n",
       "piscina                           0\n",
       "escuelascercanas                  0\n",
       "centroscomercialescercanos        0\n",
       "precio                            0\n",
       "dtype: int64"
      ]
     },
     "execution_count": 268,
     "metadata": {},
     "output_type": "execute_result"
    }
   ],
   "source": [
    "df.isnull().sum()"
   ]
  },
  {
   "cell_type": "code",
   "execution_count": 269,
   "metadata": {},
   "outputs": [
    {
     "data": {
      "text/html": [
       "<div>\n",
       "<style scoped>\n",
       "    .dataframe tbody tr th:only-of-type {\n",
       "        vertical-align: middle;\n",
       "    }\n",
       "\n",
       "    .dataframe tbody tr th {\n",
       "        vertical-align: top;\n",
       "    }\n",
       "\n",
       "    .dataframe thead th {\n",
       "        text-align: right;\n",
       "    }\n",
       "</style>\n",
       "<table border=\"1\" class=\"dataframe\">\n",
       "  <thead>\n",
       "    <tr style=\"text-align: right;\">\n",
       "      <th></th>\n",
       "      <th>antiguedad</th>\n",
       "      <th>habitaciones</th>\n",
       "      <th>garages</th>\n",
       "      <th>banos</th>\n",
       "      <th>metroscubiertos</th>\n",
       "      <th>metrostotales</th>\n",
       "      <th>precio</th>\n",
       "    </tr>\n",
       "  </thead>\n",
       "  <tbody>\n",
       "    <tr>\n",
       "      <td>count</td>\n",
       "      <td>188636.00</td>\n",
       "      <td>230036.00</td>\n",
       "      <td>230036.00</td>\n",
       "      <td>230036.00</td>\n",
       "      <td>230036.00</td>\n",
       "      <td>230036.00</td>\n",
       "      <td>230036.00</td>\n",
       "    </tr>\n",
       "    <tr>\n",
       "      <td>mean</td>\n",
       "      <td>8.03</td>\n",
       "      <td>2.62</td>\n",
       "      <td>1.32</td>\n",
       "      <td>1.90</td>\n",
       "      <td>168.10</td>\n",
       "      <td>173.75</td>\n",
       "      <td>2449120.60</td>\n",
       "    </tr>\n",
       "    <tr>\n",
       "      <td>std</td>\n",
       "      <td>9.45</td>\n",
       "      <td>1.16</td>\n",
       "      <td>0.95</td>\n",
       "      <td>1.07</td>\n",
       "      <td>101.47</td>\n",
       "      <td>96.54</td>\n",
       "      <td>2060857.69</td>\n",
       "    </tr>\n",
       "    <tr>\n",
       "      <td>min</td>\n",
       "      <td>0.00</td>\n",
       "      <td>0.00</td>\n",
       "      <td>0.00</td>\n",
       "      <td>0.00</td>\n",
       "      <td>0.00</td>\n",
       "      <td>15.00</td>\n",
       "      <td>310000.00</td>\n",
       "    </tr>\n",
       "    <tr>\n",
       "      <td>25%</td>\n",
       "      <td>0.00</td>\n",
       "      <td>2.00</td>\n",
       "      <td>0.00</td>\n",
       "      <td>1.00</td>\n",
       "      <td>86.00</td>\n",
       "      <td>97.00</td>\n",
       "      <td>950000.00</td>\n",
       "    </tr>\n",
       "    <tr>\n",
       "      <td>50%</td>\n",
       "      <td>5.00</td>\n",
       "      <td>3.00</td>\n",
       "      <td>1.00</td>\n",
       "      <td>2.00</td>\n",
       "      <td>150.00</td>\n",
       "      <td>150.00</td>\n",
       "      <td>1800000.00</td>\n",
       "    </tr>\n",
       "    <tr>\n",
       "      <td>75%</td>\n",
       "      <td>10.00</td>\n",
       "      <td>3.00</td>\n",
       "      <td>2.00</td>\n",
       "      <td>3.00</td>\n",
       "      <td>236.00</td>\n",
       "      <td>235.00</td>\n",
       "      <td>3250000.00</td>\n",
       "    </tr>\n",
       "    <tr>\n",
       "      <td>max</td>\n",
       "      <td>80.00</td>\n",
       "      <td>10.00</td>\n",
       "      <td>3.00</td>\n",
       "      <td>4.00</td>\n",
       "      <td>439.00</td>\n",
       "      <td>439.00</td>\n",
       "      <td>12525000.00</td>\n",
       "    </tr>\n",
       "  </tbody>\n",
       "</table>\n",
       "</div>"
      ],
      "text/plain": [
       "       antiguedad  habitaciones   garages     banos  metroscubiertos  \\\n",
       "count   188636.00     230036.00 230036.00 230036.00        230036.00   \n",
       "mean         8.03          2.62      1.32      1.90           168.10   \n",
       "std          9.45          1.16      0.95      1.07           101.47   \n",
       "min          0.00          0.00      0.00      0.00             0.00   \n",
       "25%          0.00          2.00      0.00      1.00            86.00   \n",
       "50%          5.00          3.00      1.00      2.00           150.00   \n",
       "75%         10.00          3.00      2.00      3.00           236.00   \n",
       "max         80.00         10.00      3.00      4.00           439.00   \n",
       "\n",
       "       metrostotales      precio  \n",
       "count      230036.00   230036.00  \n",
       "mean          173.75  2449120.60  \n",
       "std            96.54  2060857.69  \n",
       "min            15.00   310000.00  \n",
       "25%            97.00   950000.00  \n",
       "50%           150.00  1800000.00  \n",
       "75%           235.00  3250000.00  \n",
       "max           439.00 12525000.00  "
      ]
     },
     "execution_count": 269,
     "metadata": {},
     "output_type": "execute_result"
    }
   ],
   "source": [
    "# Se puede ver mucha informacion importante aca. \n",
    "# Por ejemplo, la diferencia abismal que hay entre el tercer cuantil y el maximo de precio.\n",
    "# Deberia seguir mirando un poco mas\n",
    "df.describe()"
   ]
  },
  {
   "cell_type": "code",
   "execution_count": 270,
   "metadata": {},
   "outputs": [
    {
     "name": "stdout",
     "output_type": "stream",
     "text": [
      "El percentil 0.99:  10000000.0\n",
      "El percentil 0.01:  340000.0\n",
      "El maximo:  12525000.0\n",
      "El minimo:  310000.0\n",
      "Maximo / Percentil 0.99 1.2525\n",
      "Percentil 0.01 / Minimo 1.096774193548387\n",
      "Cantidad de registros por debajo del percentil 0.01:  (2181, 18)\n",
      "Cantidad de registros por encima del percentil 0.99:  (2140, 18)\n"
     ]
    }
   ],
   "source": [
    "# Antes de empezar a analizar los datos, deberia intentar detectar outliers en cuanto al precio.\n",
    "print('El percentil 0.99: ',df.precio.quantile(0.99))\n",
    "print('El percentil 0.01: ',df.precio.quantile(0.01))\n",
    "print('El maximo: ', df.precio.max())\n",
    "print('El minimo: ', df.precio.min())\n",
    "print('Maximo / Percentil 0.99', df.precio.max()/df.precio.quantile(0.99))\n",
    "print('Percentil 0.01 / Minimo', df.precio.quantile(0.01)/df.precio.min())\n",
    "print('Cantidad de registros por debajo del percentil 0.01: ', df[df['precio']<df.precio.quantile(0.01)].shape)\n",
    "print('Cantidad de registros por encima del percentil 0.99: ', df[df['precio']>df.precio.quantile(0.99)].shape)"
   ]
  },
  {
   "cell_type": "code",
   "execution_count": 271,
   "metadata": {},
   "outputs": [
    {
     "data": {
      "image/png": "[encoded data removed]",
      "text/plain": [
       "<Figure size 1440x576 with 1 Axes>"
      ]
     },
     "metadata": {
      "needs_background": "light"
     },
     "output_type": "display_data"
    }
   ],
   "source": [
    "# Un boxplot ayuda a poder detectar estos outliers.\n",
    "\n",
    "def plot_outliers(df):\n",
    "    fig, ax = plt.subplots(figsize=(20,8))\n",
    "    green_diamond = dict(markerfacecolor='g', marker='D')\n",
    "    df_g1 = df.copy()\n",
    "    df_g1 = df[df['tipodepropiedad'].isin(['Casa','Apartamento','Edificio','Casa en condominio','Duplex','Terreno','Terreno comercial'])]\n",
    "    df_g1.tipodepropiedad.cat.remove_unused_categories(inplace=True)\n",
    "    df_g1.boxplot(column='precio', by='tipodepropiedad', ax=ax, flierprops=green_diamond, notch=True)\n",
    "    ax.set_title('')\n",
    "    fig.suptitle('')\n",
    "    ax.set_xlabel('')\n",
    "    ax.set_ylabel('')\n",
    "    \n",
    "plot_outliers(df)"
   ]
  },
  {
   "cell_type": "code",
   "execution_count": 272,
   "metadata": {},
   "outputs": [
    {
     "name": "stdout",
     "output_type": "stream",
     "text": [
      "Antes de filtrar:  (230036, 18)\n",
      "id\n",
      "254099   2273000.00\n",
      "185997   1150000.00\n",
      "126147   1100000.00\n",
      "44962     310000.00\n",
      "103293   7200000.00\n",
      "            ...    \n",
      "267455   3386400.00\n",
      "41090    2079000.00\n",
      "137337   1450000.00\n",
      "131932   3400000.00\n",
      "121958   3650000.00\n",
      "Name: Apartamento, Length: 56447, dtype: float64\n",
      "id\n",
      "244605    2290000.00\n",
      "176676    2000000.00\n",
      "66407    10900000.00\n",
      "53593     1950000.00\n",
      "57195     3800000.00\n",
      "             ...    \n",
      "66234     4850000.00\n",
      "9540       830000.00\n",
      "116381    1300000.00\n",
      "256951    2250000.00\n",
      "191335    1990000.00\n",
      "Name: Bodega comercial, Length: 1113, dtype: float64\n",
      "id\n",
      "247984   1200000.00\n",
      "209067    650000.00\n",
      "139233   1150000.00\n",
      "5013     4200000.00\n",
      "51180     488000.00\n",
      "            ...    \n",
      "207892   1650000.00\n",
      "110268   1350000.00\n",
      "119879    650000.00\n",
      "259178   1940000.00\n",
      "146867   2890000.00\n",
      "Name: Casa, Length: 134968, dtype: float64\n",
      "id\n",
      "53461    3600000.00\n",
      "224513   2300000.00\n",
      "146699   3500000.00\n",
      "70294     310000.00\n",
      "144635   2600000.00\n",
      "            ...    \n",
      "48555     595000.00\n",
      "205041   1580000.00\n",
      "256840   1780000.00\n",
      "64820    2700000.00\n",
      "54886    5500000.00\n",
      "Name: Casa en condominio, Length: 18691, dtype: float64\n",
      "id\n",
      "109416    1385000.00\n",
      "244819    8200000.00\n",
      "203064    3800000.00\n",
      "290045    1690000.00\n",
      "95015    10350000.00\n",
      "             ...    \n",
      "136319    1000000.00\n",
      "251924     565000.00\n",
      "195804    7000000.00\n",
      "262379    2150000.00\n",
      "173714    5600000.00\n",
      "Name: Casa uso de suelo, Length: 608, dtype: float64\n",
      "id\n",
      "143906   1900000.00\n",
      "85268    6200000.00\n",
      "61797     380000.00\n",
      "123446   3500000.00\n",
      "294869    480000.00\n",
      "            ...    \n",
      "62112     395000.00\n",
      "272217    570000.00\n",
      "265372   2300000.00\n",
      "170091   1240000.00\n",
      "191083   3900000.00\n",
      "Name: Departamento Compartido, Length: 139, dtype: float64\n",
      "id\n",
      "215670    640000.00\n",
      "17363     336000.00\n",
      "89802     460000.00\n",
      "36407     610000.00\n",
      "120366   2450000.00\n",
      "            ...    \n",
      "53053     350000.00\n",
      "28328     595000.00\n",
      "97661     466000.00\n",
      "226507    680000.00\n",
      "106081    350000.00\n",
      "Name: Duplex, Length: 338, dtype: float64\n",
      "id\n",
      "67919     2800000.00\n",
      "42303     3300000.00\n",
      "710       2500000.00\n",
      "162014   10200000.00\n",
      "115309    7000000.00\n",
      "             ...    \n",
      "278226    2000000.00\n",
      "206376    2500000.00\n",
      "21172     3800000.00\n",
      "67642     3200000.00\n",
      "58596     2900000.00\n",
      "Name: Edificio, Length: 720, dtype: float64\n",
      "id\n",
      "156235    2350000.00\n",
      "133576    6200000.00\n",
      "125322     450000.00\n",
      "65254     1200000.00\n",
      "58375     8000000.00\n",
      "184737    1700000.00\n",
      "270732    1500000.00\n",
      "293652    7500000.00\n",
      "51742    12300000.00\n",
      "132391     960000.00\n",
      "85353     3000000.00\n",
      "289049     990000.00\n",
      "136955     397000.00\n",
      "33499      820000.00\n",
      "175972     700000.00\n",
      "2229      1500000.00\n",
      "201623    5600000.00\n",
      "204578   11500000.00\n",
      "10447     3500000.00\n",
      "189648     700000.00\n",
      "Name: Huerta, dtype: float64\n",
      "id\n",
      "79990    5800000.00\n",
      "256184   1999000.00\n",
      "245669   5900000.00\n",
      "178084   3950000.00\n",
      "178342   3500000.00\n",
      "            ...    \n",
      "127192   1050000.00\n",
      "51999    2490000.00\n",
      "36069    1800000.00\n",
      "162403   7800000.00\n",
      "286406   2300000.00\n",
      "Name: Inmuebles productivos urbanos, Length: 165, dtype: float64\n",
      "id\n",
      "207641   2350000.00\n",
      "100792   2800000.00\n",
      "100528    950000.00\n",
      "153577   1390000.00\n",
      "225044   4500000.00\n",
      "            ...    \n",
      "257186    335000.00\n",
      "283501   3300000.00\n",
      "50015    3240000.00\n",
      "217851   2906100.00\n",
      "23247    4025000.00\n",
      "Name: Local Comercial, Length: 2732, dtype: float64\n",
      "id\n",
      "19319      350000.00\n",
      "180749     880000.00\n",
      "164518    1150000.00\n",
      "74831     2122650.00\n",
      "288318     600000.00\n",
      "             ...    \n",
      "112878     850000.00\n",
      "96368     4975000.00\n",
      "113135   12500000.00\n",
      "237199    2668000.00\n",
      "119654     380000.00\n",
      "Name: Local en centro comercial, Length: 160, dtype: float64\n",
      "Series([], Name: Lote, dtype: float64)\n",
      "id\n",
      "82204    1100000.00\n",
      "93305    2500000.00\n",
      "54503    3700000.00\n",
      "15645    1086000.00\n",
      "81453    1800000.00\n",
      "            ...    \n",
      "288991   6000000.00\n",
      "93366     690000.00\n",
      "280118   1000000.00\n",
      "265786   4950000.00\n",
      "61476    1650000.00\n",
      "Name: Nave industrial, Length: 64, dtype: float64\n",
      "id\n",
      "123025    570000.00\n",
      "297052   3790000.00\n",
      "201732   6850000.00\n",
      "205357   4257900.00\n",
      "153007   8000000.00\n",
      "            ...    \n",
      "50990    1750000.00\n",
      "192714   1700000.00\n",
      "94476    9000000.00\n",
      "248710   1234000.00\n",
      "230785    990000.00\n",
      "Name: Oficina comercial, Length: 1623, dtype: float64\n",
      "id\n",
      "162514    1100000.00\n",
      "45129     1900000.00\n",
      "278476     950000.00\n",
      "260581    2600000.00\n",
      "151721     711514.00\n",
      "             ...    \n",
      "207663    4500000.00\n",
      "83211     1400000.00\n",
      "236774    2650000.00\n",
      "80152     1260000.00\n",
      "136917   11000000.00\n",
      "Name: Otros, Length: 88, dtype: float64\n",
      "id\n",
      "270980     950000.00\n",
      "17832     3950000.00\n",
      "186728    5500000.00\n",
      "194987    1800000.00\n",
      "65844      900000.00\n",
      "             ...    \n",
      "121759    2600000.00\n",
      "96722     5500000.00\n",
      "118947    5000000.00\n",
      "286370   10000000.00\n",
      "211760    1800000.00\n",
      "Name: Quinta Vacacional, Length: 382, dtype: float64\n",
      "id\n",
      "140237    6500000.00\n",
      "277628   12000000.00\n",
      "110267   10800000.00\n",
      "3426      6980000.00\n",
      "280719    3500000.00\n",
      "             ...    \n",
      "130841    4000000.00\n",
      "224790   12500000.00\n",
      "148510     698000.00\n",
      "177691    3500000.00\n",
      "82989     4000000.00\n",
      "Name: Rancho, Length: 166, dtype: float64\n",
      "id\n",
      "134537   6200000.00\n",
      "40421     794078.00\n",
      "90071     490000.00\n",
      "241431   1439000.00\n",
      "86982     720000.00\n",
      "            ...    \n",
      "183323   1500000.00\n",
      "263160   1750000.00\n",
      "257750    380000.00\n",
      "240181   1200000.00\n",
      "106530   3500000.00\n",
      "Name: Terreno, Length: 9939, dtype: float64\n",
      "id\n",
      "146158   10707900.00\n",
      "194182     927427.00\n",
      "98472      650000.00\n",
      "182806    1526300.00\n",
      "130586     339250.00\n",
      "             ...    \n",
      "291385    3600000.00\n",
      "264223     671550.00\n",
      "134668     800000.00\n",
      "220156    1080000.00\n",
      "201660    2334500.00\n",
      "Name: Terreno comercial, Length: 1316, dtype: float64\n",
      "id\n",
      "224091    2431175.00\n",
      "39120     3300000.00\n",
      "67645     3200000.00\n",
      "276451    3723020.00\n",
      "188690    2500000.00\n",
      "36424      900000.00\n",
      "120441   11928000.00\n",
      "108739    3995000.00\n",
      "73001     3970000.00\n",
      "95936     6061133.00\n",
      "38553     3400000.00\n",
      "182021     850000.00\n",
      "25846      820000.00\n",
      "131051    5794000.00\n",
      "91989     5980000.00\n",
      "140958    9000000.00\n",
      "233391     748000.00\n",
      "40106     1350000.00\n",
      "270835    1980000.00\n",
      "25203     8103000.00\n",
      "200675    4500000.00\n",
      "85708     7900000.00\n",
      "Name: Terreno industrial, dtype: float64\n",
      "id\n",
      "74759     795000.00\n",
      "189237    600000.00\n",
      "217618   1000000.00\n",
      "15722    2800000.00\n",
      "290762   2250000.00\n",
      "            ...    \n",
      "340      8500000.00\n",
      "81182    2500000.00\n",
      "60279    1800000.00\n",
      "147820   1400000.00\n",
      "203339   1100000.00\n",
      "Name: Villa, Length: 333, dtype: float64\n",
      "id\n",
      "16605   3000000.00\n",
      "Name: Hospedaje, dtype: float64\n",
      "id\n",
      "245563   500000.00\n",
      "Name: Garage, dtype: float64\n",
      "Despues de filtrar:  (218827, 18)\n"
     ]
    }
   ],
   "source": [
    "# Filtro los outliers, usando maximos y minimos en base al cuantil 1 y 3 y el IQR.\n",
    "print('Antes de filtrar: ', df.shape)\n",
    "\n",
    "def is_outlier(group):\n",
    "    print(group)\n",
    "    Q1 = group.quantile(0.25)\n",
    "    Q3 = group.quantile(0.75)\n",
    "    IQR = Q3 - Q1\n",
    "    precio_min = Q1 - 1.5 * IQR\n",
    "    precio_max = Q3 + 1.5 * IQR\n",
    "    return ~group.between(precio_min, precio_max)\n",
    "\n",
    "df = df[~df.groupby('tipodepropiedad')['precio'].apply(is_outlier)]\n",
    "\n",
    "print('Despues de filtrar: ', df.shape)"
   ]
  },
  {
   "cell_type": "code",
   "execution_count": 273,
   "metadata": {
    "scrolled": true
   },
   "outputs": [
    {
     "data": {
      "image/png": "[encoded data removed]",
      "text/plain": [
       "<Figure size 1440x576 with 1 Axes>"
      ]
     },
     "metadata": {
      "needs_background": "light"
     },
     "output_type": "display_data"
    }
   ],
   "source": [
    "# Vuelvo a graficar, para ver como cambiaron los outliers.\n",
    "plot_outliers(df)"
   ]
  },
  {
   "cell_type": "code",
   "execution_count": 274,
   "metadata": {},
   "outputs": [
    {
     "name": "stdout",
     "output_type": "stream",
     "text": [
      "id\n",
      "254099   2273000.00\n",
      "185997   1150000.00\n",
      "126147   1100000.00\n",
      "44962     310000.00\n",
      "103293   7200000.00\n",
      "            ...    \n",
      "267455   3386400.00\n",
      "41090    2079000.00\n",
      "137337   1450000.00\n",
      "131932   3400000.00\n",
      "121958   3650000.00\n",
      "Name: Apartamento, Length: 53594, dtype: float64\n",
      "id\n",
      "244605   2290000.00\n",
      "176676   2000000.00\n",
      "53593    1950000.00\n",
      "57195    3800000.00\n",
      "159394   1350000.00\n",
      "            ...    \n",
      "66234    4850000.00\n",
      "9540      830000.00\n",
      "116381   1300000.00\n",
      "256951   2250000.00\n",
      "191335   1990000.00\n",
      "Name: Bodega comercial, Length: 1046, dtype: float64\n",
      "id\n",
      "247984   1200000.00\n",
      "209067    650000.00\n",
      "139233   1150000.00\n",
      "5013     4200000.00\n",
      "51180     488000.00\n",
      "            ...    \n",
      "207892   1650000.00\n",
      "110268   1350000.00\n",
      "119879    650000.00\n",
      "259178   1940000.00\n",
      "146867   2890000.00\n",
      "Name: Casa, Length: 129110, dtype: float64\n",
      "id\n",
      "53461    3600000.00\n",
      "224513   2300000.00\n",
      "146699   3500000.00\n",
      "70294     310000.00\n",
      "144635   2600000.00\n",
      "            ...    \n",
      "48555     595000.00\n",
      "205041   1580000.00\n",
      "256840   1780000.00\n",
      "64820    2700000.00\n",
      "54886    5500000.00\n",
      "Name: Casa en condominio, Length: 17719, dtype: float64\n",
      "id\n",
      "109416   1385000.00\n",
      "244819   8200000.00\n",
      "203064   3800000.00\n",
      "290045   1690000.00\n",
      "75721    2800000.00\n",
      "            ...    \n",
      "136319   1000000.00\n",
      "251924    565000.00\n",
      "195804   7000000.00\n",
      "262379   2150000.00\n",
      "173714   5600000.00\n",
      "Name: Casa uso de suelo, Length: 576, dtype: float64\n",
      "id\n",
      "143906   1900000.00\n",
      "85268    6200000.00\n",
      "61797     380000.00\n",
      "123446   3500000.00\n",
      "294869    480000.00\n",
      "            ...    \n",
      "62112     395000.00\n",
      "272217    570000.00\n",
      "265372   2300000.00\n",
      "170091   1240000.00\n",
      "191083   3900000.00\n",
      "Name: Departamento Compartido, Length: 131, dtype: float64\n",
      "id\n",
      "215670    640000.00\n",
      "17363     336000.00\n",
      "89802     460000.00\n",
      "36407     610000.00\n",
      "120366   2450000.00\n",
      "            ...    \n",
      "53053     350000.00\n",
      "28328     595000.00\n",
      "97661     466000.00\n",
      "226507    680000.00\n",
      "106081    350000.00\n",
      "Name: Duplex, Length: 295, dtype: float64\n",
      "id\n",
      "67919    2800000.00\n",
      "42303    3300000.00\n",
      "710      2500000.00\n",
      "115309   7000000.00\n",
      "288122   1700000.00\n",
      "            ...    \n",
      "278226   2000000.00\n",
      "206376   2500000.00\n",
      "21172    3800000.00\n",
      "67642    3200000.00\n",
      "58596    2900000.00\n",
      "Name: Edificio, Length: 686, dtype: float64\n",
      "id\n",
      "156235    2350000.00\n",
      "133576    6200000.00\n",
      "125322     450000.00\n",
      "65254     1200000.00\n",
      "58375     8000000.00\n",
      "184737    1700000.00\n",
      "270732    1500000.00\n",
      "293652    7500000.00\n",
      "51742    12300000.00\n",
      "132391     960000.00\n",
      "85353     3000000.00\n",
      "289049     990000.00\n",
      "136955     397000.00\n",
      "33499      820000.00\n",
      "175972     700000.00\n",
      "2229      1500000.00\n",
      "201623    5600000.00\n",
      "204578   11500000.00\n",
      "10447     3500000.00\n",
      "189648     700000.00\n",
      "Name: Huerta, dtype: float64\n",
      "id\n",
      "79990    5800000.00\n",
      "256184   1999000.00\n",
      "245669   5900000.00\n",
      "178084   3950000.00\n",
      "178342   3500000.00\n",
      "            ...    \n",
      "127192   1050000.00\n",
      "51999    2490000.00\n",
      "36069    1800000.00\n",
      "162403   7800000.00\n",
      "286406   2300000.00\n",
      "Name: Inmuebles productivos urbanos, Length: 156, dtype: float64\n",
      "id\n",
      "207641   2350000.00\n",
      "100792   2800000.00\n",
      "100528    950000.00\n",
      "153577   1390000.00\n",
      "225044   4500000.00\n",
      "            ...    \n",
      "257186    335000.00\n",
      "283501   3300000.00\n",
      "50015    3240000.00\n",
      "217851   2906100.00\n",
      "23247    4025000.00\n",
      "Name: Local Comercial, Length: 2570, dtype: float64\n",
      "id\n",
      "19319     350000.00\n",
      "180749    880000.00\n",
      "164518   1150000.00\n",
      "74831    2122650.00\n",
      "288318    600000.00\n",
      "            ...    \n",
      "285461   1491200.00\n",
      "112878    850000.00\n",
      "96368    4975000.00\n",
      "237199   2668000.00\n",
      "119654    380000.00\n",
      "Name: Local en centro comercial, Length: 148, dtype: float64\n",
      "Series([], Name: Lote, dtype: float64)\n",
      "id\n",
      "82204    1100000.00\n",
      "93305    2500000.00\n",
      "54503    3700000.00\n",
      "15645    1086000.00\n",
      "81453    1800000.00\n",
      "            ...    \n",
      "288991   6000000.00\n",
      "93366     690000.00\n",
      "280118   1000000.00\n",
      "265786   4950000.00\n",
      "61476    1650000.00\n",
      "Name: Nave industrial, Length: 61, dtype: float64\n",
      "id\n",
      "123025    570000.00\n",
      "297052   3790000.00\n",
      "201732   6850000.00\n",
      "205357   4257900.00\n",
      "153007   8000000.00\n",
      "            ...    \n",
      "244446   2800000.00\n",
      "50990    1750000.00\n",
      "192714   1700000.00\n",
      "248710   1234000.00\n",
      "230785    990000.00\n",
      "Name: Oficina comercial, Length: 1555, dtype: float64\n",
      "id\n",
      "162514   1100000.00\n",
      "45129    1900000.00\n",
      "278476    950000.00\n",
      "260581   2600000.00\n",
      "151721    711514.00\n",
      "            ...    \n",
      "78593    1200000.00\n",
      "207663   4500000.00\n",
      "83211    1400000.00\n",
      "236774   2650000.00\n",
      "80152    1260000.00\n",
      "Name: Otros, Length: 82, dtype: float64\n",
      "id\n",
      "270980    950000.00\n",
      "17832    3950000.00\n",
      "186728   5500000.00\n",
      "194987   1800000.00\n",
      "65844     900000.00\n",
      "            ...    \n",
      "233192   1300000.00\n",
      "121759   2600000.00\n",
      "96722    5500000.00\n",
      "118947   5000000.00\n",
      "211760   1800000.00\n",
      "Name: Quinta Vacacional, Length: 372, dtype: float64\n",
      "id\n",
      "140237    6500000.00\n",
      "277628   12000000.00\n",
      "110267   10800000.00\n",
      "3426      6980000.00\n",
      "280719    3500000.00\n",
      "             ...    \n",
      "130841    4000000.00\n",
      "224790   12500000.00\n",
      "148510     698000.00\n",
      "177691    3500000.00\n",
      "82989     4000000.00\n",
      "Name: Rancho, Length: 166, dtype: float64\n",
      "id\n",
      "40421     794078.00\n",
      "90071     490000.00\n",
      "241431   1439000.00\n",
      "86982     720000.00\n",
      "285383   1740000.00\n",
      "            ...    \n",
      "183323   1500000.00\n",
      "263160   1750000.00\n",
      "257750    380000.00\n",
      "240181   1200000.00\n",
      "106530   3500000.00\n",
      "Name: Terreno, Length: 9011, dtype: float64\n",
      "id\n",
      "194182    927427.00\n",
      "98472     650000.00\n",
      "182806   1526300.00\n",
      "130586    339250.00\n",
      "80905    2206260.00\n",
      "            ...    \n",
      "291385   3600000.00\n",
      "264223    671550.00\n",
      "134668    800000.00\n",
      "220156   1080000.00\n",
      "201660   2334500.00\n",
      "Name: Terreno comercial, Length: 1190, dtype: float64\n",
      "id\n",
      "224091   2431175.00\n",
      "39120    3300000.00\n",
      "67645    3200000.00\n",
      "276451   3723020.00\n",
      "188690   2500000.00\n",
      "36424     900000.00\n",
      "108739   3995000.00\n",
      "73001    3970000.00\n",
      "95936    6061133.00\n",
      "38553    3400000.00\n",
      "182021    850000.00\n",
      "25846     820000.00\n",
      "131051   5794000.00\n",
      "91989    5980000.00\n",
      "140958   9000000.00\n",
      "233391    748000.00\n",
      "40106    1350000.00\n",
      "270835   1980000.00\n",
      "25203    8103000.00\n",
      "200675   4500000.00\n",
      "85708    7900000.00\n",
      "Name: Terreno industrial, dtype: float64\n",
      "id\n",
      "74759     795000.00\n",
      "189237    600000.00\n",
      "217618   1000000.00\n",
      "15722    2800000.00\n",
      "290762   2250000.00\n",
      "            ...    \n",
      "268733   1750000.00\n",
      "81182    2500000.00\n",
      "60279    1800000.00\n",
      "147820   1400000.00\n",
      "203339   1100000.00\n",
      "Name: Villa, Length: 316, dtype: float64\n",
      "id\n",
      "16605   3000000.00\n",
      "Name: Hospedaje, dtype: float64\n",
      "id\n",
      "245563   500000.00\n",
      "Name: Garage, dtype: float64\n"
     ]
    }
   ],
   "source": [
    "# Sigue habiendo bastantes outliers, hago una limpieza mas.\n",
    "df = df[~df.groupby('tipodepropiedad')['precio'].apply(is_outlier)]"
   ]
  },
  {
   "cell_type": "code",
   "execution_count": 275,
   "metadata": {},
   "outputs": [
    {
     "data": {
      "image/png": "[encoded data removed]",
      "text/plain": [
       "<Figure size 1440x576 with 1 Axes>"
      ]
     },
     "metadata": {
      "needs_background": "light"
     },
     "output_type": "display_data"
    }
   ],
   "source": [
    "# Vuelvo a mirar los outliers:\n",
    "plot_outliers(df)"
   ]
  },
  {
   "cell_type": "code",
   "execution_count": 276,
   "metadata": {},
   "outputs": [],
   "source": [
    "#Lleno los nulos de antiguedad con 0. Supongo que son todos nuevos.\n",
    "df['antiguedad'].fillna(0, inplace=True)\n",
    "\n",
    "# Quedaron solo 517 con antiguedad nula. Los reviso:\n",
    "# df[df['antiguedad'].isnull()]\n",
    "\n",
    "# Para estos restantes, tomo la decision de rellenarlos de acuerdo a el promedio de antiguedad segun el tipo de prop y la prov\n",
    "\n",
    "# df['antiguedad'] = df.groupby(['tipodepropiedad','provincia'])['antiguedad'].transform(lambda x: x.fillna(x.mean()))"
   ]
  },
  {
   "cell_type": "code",
   "execution_count": 277,
   "metadata": {},
   "outputs": [],
   "source": [
    "# df.isnull().sum()"
   ]
  },
  {
   "cell_type": "code",
   "execution_count": 278,
   "metadata": {},
   "outputs": [],
   "source": [
    "# Los restantes, los elimino ya que son pocos y no puedo fijarle una antiguedad de forma tan directa\n",
    "# df.dropna(subset=['antiguedad'], inplace=True)"
   ]
  },
  {
   "cell_type": "code",
   "execution_count": 279,
   "metadata": {},
   "outputs": [
    {
     "data": {
      "text/plain": [
       "titulo                        4803\n",
       "descripcion                   1434\n",
       "tipodepropiedad                  0\n",
       "ciudad                           0\n",
       "provincia                        0\n",
       "antiguedad                       0\n",
       "habitaciones                     0\n",
       "garages                          0\n",
       "banos                            0\n",
       "metroscubiertos                  0\n",
       "metrostotales                    0\n",
       "fecha                            0\n",
       "gimnasio                         0\n",
       "usosmultiples                    0\n",
       "piscina                          0\n",
       "escuelascercanas                 0\n",
       "centroscomercialescercanos       0\n",
       "precio                           0\n",
       "dtype: int64"
      ]
     },
     "execution_count": 279,
     "metadata": {},
     "output_type": "execute_result"
    }
   ],
   "source": [
    "df.isnull().sum()"
   ]
  },
  {
   "cell_type": "code",
   "execution_count": 280,
   "metadata": {},
   "outputs": [],
   "source": [
    "# Hay 70000 filas en las que los metros totales son menores a los cubiertos. Esto es invalido. La realidad es que son muchas\n",
    "# filas, por lo tano les seteo como metros totales, la misma cantidad que cubiertos.\n",
    "\n",
    "df.loc[df['metrostotales']<df['metroscubiertos'], 'metrostotales'] = df['metroscubiertos']\n"
   ]
  },
  {
   "cell_type": "code",
   "execution_count": 281,
   "metadata": {},
   "outputs": [],
   "source": [
    "# Aca deberia ir seteando las columnas nuevas que me parezcan utiles para analisis.\n",
    "# Ideas: Precio por metro total, o agregar una columna con la cantidad de extras que tenga la casa.\n",
    "df['precio_dolar'] = df['precio']/VALOR_CAMBIO_A_DOLAR\n",
    "df['precio_m2'] = df['precio']/df['metrostotales']\n",
    "df['extras'] = df['garages']+df['piscina']+df['usosmultiples']+df['gimnasio']\n"
   ]
  }
 ],
 "metadata": {
  "kernelspec": {
   "display_name": "Python 3",
   "language": "python",
   "name": "python3"
  },
  "language_info": {
   "codemirror_mode": {
    "name": "ipython",
    "version": 3
   },
   "file_extension": ".py",
   "mimetype": "text/x-python",
   "name": "python",
   "nbconvert_exporter": "python",
   "pygments_lexer": "ipython3",
   "version": "3.7.4"
  }
 },
 "nbformat": 4,
 "nbformat_minor": 2
}
