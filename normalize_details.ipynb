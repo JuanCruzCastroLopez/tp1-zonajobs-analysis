{
 "cells": [
  {
   "cell_type": "code",
   "execution_count": 93,
   "metadata": {},
   "outputs": [],
   "source": [
    "import numpy as np\n",
    "import pandas as pd\n",
    "import matplotlib.pyplot as plt\n",
    "import seaborn as sns\n",
    "import datetime as datetime\n",
    "import sys\n",
    "\n",
    "VALOR_CAMBIO_A_DOLAR = 19.54"
   ]
  },
  {
   "cell_type": "code",
   "execution_count": 94,
   "metadata": {},
   "outputs": [],
   "source": [
    "df = pd.read_csv('train.csv',\n",
    "        index_col='id',\n",
    "        dtype={'gimnasio': bool,\n",
    "                'usosmultiples': bool,\n",
    "                'escuelascercanas': bool,\n",
    "                'piscina': bool,\n",
    "                'centroscomercialescercanos': bool,\n",
    "                'tipodepropiedad': 'category',\n",
    "                'provincia': 'category',\n",
    "                'ciudad': 'category'\n",
    "            },\n",
    "        parse_dates=['fecha'])\n",
    "pd.set_option('display.float_format', '{:.2f}'.format)"
   ]
  },
  {
   "cell_type": "code",
   "execution_count": 95,
   "metadata": {},
   "outputs": [
    {
     "data": {
      "text/plain": [
       "id\n",
       "254099     True\n",
       "53461     False\n",
       "247984    False\n",
       "209067    False\n",
       "185997     True\n",
       "          ...  \n",
       "119879    False\n",
       "259178    False\n",
       "131932     True\n",
       "146867    False\n",
       "121958     True\n",
       "Name: tipodepropiedad, Length: 240000, dtype: bool"
      ]
     },
     "execution_count": 95,
     "metadata": {},
     "output_type": "execute_result"
    }
   ],
   "source": [
    "df['tipodepropiedad'].isin(['Apartamento'])"
   ]
  },
  {
   "cell_type": "code",
   "execution_count": 96,
   "metadata": {
    "scrolled": true
   },
   "outputs": [
    {
     "data": {
      "text/plain": [
       "Index(['titulo', 'descripcion', 'tipodepropiedad', 'direccion', 'ciudad',\n",
       "       'provincia', 'antiguedad', 'habitaciones', 'garages', 'banos',\n",
       "       'metroscubiertos', 'metrostotales', 'idzona', 'lat', 'lng', 'fecha',\n",
       "       'gimnasio', 'usosmultiples', 'piscina', 'escuelascercanas',\n",
       "       'centroscomercialescercanos', 'precio'],\n",
       "      dtype='object')"
      ]
     },
     "execution_count": 96,
     "metadata": {},
     "output_type": "execute_result"
    }
   ],
   "source": [
    "df.columns"
   ]
  },
  {
   "cell_type": "code",
   "execution_count": 97,
   "metadata": {},
   "outputs": [],
   "source": [
    "# Me quedo solo con las columnas que son importantes para nuestro analisis.\n",
    "# Quizas el titulo y la descripcion tampoco las use, pero primero habria que hacer  un analisis de ese campo\n",
    "df.drop(['direccion','idzona','lat','lng'], axis=1, inplace=True)"
   ]
  },
  {
   "cell_type": "code",
   "execution_count": 98,
   "metadata": {},
   "outputs": [
    {
     "data": {
      "text/plain": [
       "Index(['titulo', 'descripcion', 'tipodepropiedad', 'ciudad', 'provincia',\n",
       "       'antiguedad', 'habitaciones', 'garages', 'banos', 'metroscubiertos',\n",
       "       'metrostotales', 'fecha', 'gimnasio', 'usosmultiples', 'piscina',\n",
       "       'escuelascercanas', 'centroscomercialescercanos', 'precio'],\n",
       "      dtype='object')"
      ]
     },
     "execution_count": 98,
     "metadata": {},
     "output_type": "execute_result"
    }
   ],
   "source": [
    "df.columns"
   ]
  },
  {
   "cell_type": "code",
   "execution_count": 99,
   "metadata": {
    "scrolled": false
   },
   "outputs": [
    {
     "name": "stdout",
     "output_type": "stream",
     "text": [
      "Filas, columnas:  (240000, 18)\n",
      "Tipos: \n",
      " titulo                                object\n",
      "descripcion                           object\n",
      "tipodepropiedad                     category\n",
      "ciudad                              category\n",
      "provincia                           category\n",
      "antiguedad                           float64\n",
      "habitaciones                         float64\n",
      "garages                              float64\n",
      "banos                                float64\n",
      "metroscubiertos                      float64\n",
      "metrostotales                        float64\n",
      "fecha                         datetime64[ns]\n",
      "gimnasio                                bool\n",
      "usosmultiples                           bool\n",
      "piscina                                 bool\n",
      "escuelascercanas                        bool\n",
      "centroscomercialescercanos              bool\n",
      "precio                               float64\n",
      "dtype: object\n"
     ]
    }
   ],
   "source": [
    "# 1. Ver cuantos datos (observaciones) tenemos en total\n",
    "# 2. Ver cuantos atributos tiene cada observaci´on\n",
    "# 3. Ver el nombre y tipo de dato de cada observaci´on\n",
    "# 4. Ver cuantos valores faltantes existen y en que proporci´on se presentan para\n",
    "# cada atributo\n",
    "# Despues de parsear y filtrar los nulos, deberiamos poner cada columna en su tipo ideal.\n",
    "# df['antiguedad'] = df['antiguedad'].astype(int)     algo de este estilo\n",
    "\n",
    "print(\"Filas, columnas: \", df.shape)\n",
    "print(\"Tipos: \\n\", df.dtypes)"
   ]
  },
  {
   "cell_type": "code",
   "execution_count": 100,
   "metadata": {},
   "outputs": [
    {
     "data": {
      "text/plain": [
       "titulo                         5387\n",
       "descripcion                    1619\n",
       "tipodepropiedad                  46\n",
       "ciudad                          372\n",
       "provincia                       155\n",
       "antiguedad                    43555\n",
       "habitaciones                  22471\n",
       "garages                       37765\n",
       "banos                         26221\n",
       "metroscubiertos               17400\n",
       "metrostotales                 51467\n",
       "fecha                             0\n",
       "gimnasio                          0\n",
       "usosmultiples                     0\n",
       "piscina                           0\n",
       "escuelascercanas                  0\n",
       "centroscomercialescercanos        0\n",
       "precio                            0\n",
       "dtype: int64"
      ]
     },
     "execution_count": 100,
     "metadata": {},
     "output_type": "execute_result"
    }
   ],
   "source": [
    "# Cosas a observar de esto:\n",
    "# Propiedades sin ciudad ni provincia.\n",
    "# Muchas propiedades sin metroscubiertos y totales especificados. Estas columnas son claves para \n",
    "# el precio (falta demostrar)\n",
    "# 46 propiedades sin clasificacion de tipo de propiedad. \n",
    "# Habitaciones y Banos, muchos datos nulos. Sera que no tienen? Una casa no pude no tener habitacio ni bano...\n",
    "# Garages, piscina, salondeusosmultiples y gimnasio son extras. Supongo que el hecho de que no aparezcan \n",
    "# es que no los tienen.\n",
    "# Estos 4 extras, podrian reunirse en una categoria todas juntas para evaluar como crece el precio en base a esos\n",
    "# extras.\n",
    "# 43000 propiedades sin saber su antiguedad. Esto si ni idea como podemos reemplazarlos.\n",
    "\n",
    "df.isna().sum()"
   ]
  },
  {
   "cell_type": "code",
   "execution_count": 101,
   "metadata": {},
   "outputs": [
    {
     "data": {
      "text/html": [
       "<div>\n",
       "<style scoped>\n",
       "    .dataframe tbody tr th:only-of-type {\n",
       "        vertical-align: middle;\n",
       "    }\n",
       "\n",
       "    .dataframe tbody tr th {\n",
       "        vertical-align: top;\n",
       "    }\n",
       "\n",
       "    .dataframe thead th {\n",
       "        text-align: right;\n",
       "    }\n",
       "</style>\n",
       "<table border=\"1\" class=\"dataframe\">\n",
       "  <thead>\n",
       "    <tr style=\"text-align: right;\">\n",
       "      <th></th>\n",
       "      <th>titulo</th>\n",
       "      <th>descripcion</th>\n",
       "      <th>tipodepropiedad</th>\n",
       "      <th>ciudad</th>\n",
       "      <th>provincia</th>\n",
       "      <th>antiguedad</th>\n",
       "      <th>habitaciones</th>\n",
       "      <th>garages</th>\n",
       "      <th>banos</th>\n",
       "      <th>metroscubiertos</th>\n",
       "      <th>metrostotales</th>\n",
       "      <th>fecha</th>\n",
       "      <th>gimnasio</th>\n",
       "      <th>usosmultiples</th>\n",
       "      <th>piscina</th>\n",
       "      <th>escuelascercanas</th>\n",
       "      <th>centroscomercialescercanos</th>\n",
       "      <th>precio</th>\n",
       "    </tr>\n",
       "    <tr>\n",
       "      <th>id</th>\n",
       "      <th></th>\n",
       "      <th></th>\n",
       "      <th></th>\n",
       "      <th></th>\n",
       "      <th></th>\n",
       "      <th></th>\n",
       "      <th></th>\n",
       "      <th></th>\n",
       "      <th></th>\n",
       "      <th></th>\n",
       "      <th></th>\n",
       "      <th></th>\n",
       "      <th></th>\n",
       "      <th></th>\n",
       "      <th></th>\n",
       "      <th></th>\n",
       "      <th></th>\n",
       "      <th></th>\n",
       "    </tr>\n",
       "  </thead>\n",
       "  <tbody>\n",
       "  </tbody>\n",
       "</table>\n",
       "</div>"
      ],
      "text/plain": [
       "Empty DataFrame\n",
       "Columns: [titulo, descripcion, tipodepropiedad, ciudad, provincia, antiguedad, habitaciones, garages, banos, metroscubiertos, metrostotales, fecha, gimnasio, usosmultiples, piscina, escuelascercanas, centroscomercialescercanos, precio]\n",
       "Index: []"
      ]
     },
     "execution_count": 101,
     "metadata": {},
     "output_type": "execute_result"
    }
   ],
   "source": [
    "# Dato importante y valioso: No hay ninguna casa que no tenga especificado ni metros cubiertos ni totales\n",
    "# Esto me asegura que no tengo que limpiar datos, ya que si no hubiese tenido ninguno hubiese sido dato invalido\n",
    "# Conociendo uno de los dos valores, puedo intentar asumir el otro con alguna decision.\n",
    "df[(df['metroscubiertos'].isnull()) & (df['metrostotales'].isnull())].head()"
   ]
  },
  {
   "cell_type": "code",
   "execution_count": 102,
   "metadata": {},
   "outputs": [
    {
     "data": {
      "text/plain": [
       "Terreno                          6940\n",
       "Casa                             6532\n",
       "Terreno comercial                 851\n",
       "Apartamento                       823\n",
       "Edificio                          676\n",
       "Casa en condominio                593\n",
       "Local Comercial                   320\n",
       "Bodega comercial                  293\n",
       "Oficina comercial                 116\n",
       "Casa uso de suelo                  99\n",
       "Otros                              46\n",
       "Inmuebles productivos urbanos      35\n",
       "Quinta Vacacional                  13\n",
       "Nave industrial                    12\n",
       "Terreno industrial                  9\n",
       "Villa                               7\n",
       "Duplex                              5\n",
       "Local en centro comercial           5\n",
       "Lote                                5\n",
       "Rancho                              4\n",
       "Departamento Compartido             2\n",
       "Huerta                              0\n",
       "Hospedaje                           0\n",
       "Garage                              0\n",
       "Name: tipodepropiedad, dtype: int64"
      ]
     },
     "execution_count": 102,
     "metadata": {},
     "output_type": "execute_result"
    }
   ],
   "source": [
    "# Tiene sentido que los terrenos no tengan metros cubiertos. \n",
    "# Pero como una casa, un edificio, y cualquier otra cosa que no sea un terreno no tiene metros cubiertos? \n",
    "# Y ya demostre en uno de los graficos que los metros cubiertos y totales son lo que mas influyen en el precio. \n",
    "# Esto, a mi criterio, convierte estos datos en invalidos.\n",
    "df[df.metroscubiertos.isnull()]['tipodepropiedad'].value_counts()"
   ]
  },
  {
   "cell_type": "code",
   "execution_count": 103,
   "metadata": {},
   "outputs": [
    {
     "data": {
      "text/plain": [
       "(230391, 18)"
      ]
     },
     "execution_count": 103,
     "metadata": {},
     "output_type": "execute_result"
    }
   ],
   "source": [
    "# Extraigo todos aquellas propiedades que tienen metroscubiertos nulos y no son terrenos. \n",
    "# Quizas en vez de extraerlos, se podria asumir que los metros totales son todos cubiertos.\n",
    "indices_invalidos = df[(df.metroscubiertos.isnull()) & (~df.tipodepropiedad.isin(['Terreno','Terreno comercial']))].index\n",
    "df.drop(index=indices_invalidos, inplace=True)\n",
    "df.shape"
   ]
  },
  {
   "cell_type": "code",
   "execution_count": 104,
   "metadata": {},
   "outputs": [
    {
     "data": {
      "text/plain": [
       "(230055, 18)"
      ]
     },
     "execution_count": 104,
     "metadata": {},
     "output_type": "execute_result"
    }
   ],
   "source": [
    "# No tiene sentido que una casa no tenga ciudad ni provincia, ya que son datos que influyen en el precio\n",
    "# y no se pueden deducir de otro lado, ademas, son pocos\n",
    "df.dropna(subset=['ciudad','provincia'], inplace=True)\n",
    "df.shape"
   ]
  },
  {
   "cell_type": "code",
   "execution_count": 105,
   "metadata": {},
   "outputs": [],
   "source": [
    "# Es imposible que cualquier inmueble tenga metroscubiertos, y no tenga metros totales.\n",
    "# Para esos casos, le asigno la misma cantidad de metros cubiertos que totales, osea no tiene metros descubiertos.\n",
    "df['metrostotales'].fillna(df['metroscubiertos'], inplace=True)"
   ]
  },
  {
   "cell_type": "code",
   "execution_count": 106,
   "metadata": {},
   "outputs": [
    {
     "data": {
      "text/plain": [
       "titulo                         5071\n",
       "descripcion                    1484\n",
       "tipodepropiedad                  19\n",
       "ciudad                            0\n",
       "provincia                         0\n",
       "antiguedad                    41416\n",
       "habitaciones                  20540\n",
       "garages                       34150\n",
       "banos                         23077\n",
       "metroscubiertos                7777\n",
       "metrostotales                     0\n",
       "fecha                             0\n",
       "gimnasio                          0\n",
       "usosmultiples                     0\n",
       "piscina                           0\n",
       "escuelascercanas                  0\n",
       "centroscomercialescercanos        0\n",
       "precio                            0\n",
       "dtype: int64"
      ]
     },
     "execution_count": 106,
     "metadata": {},
     "output_type": "execute_result"
    }
   ],
   "source": [
    "# Despues de estos pequeños arreglos, se reducen la cantidad de nulos. Si bien siguen habiendo, \n",
    "df.isnull().sum()"
   ]
  },
  {
   "cell_type": "code",
   "execution_count": 107,
   "metadata": {},
   "outputs": [],
   "source": [
    "# El resto de filas con metros cubiertos, son terrenos. Deberian tener 0 metros cubiertos.\n",
    "df['metroscubiertos'].fillna(0, inplace=True)"
   ]
  },
  {
   "cell_type": "code",
   "execution_count": 108,
   "metadata": {},
   "outputs": [],
   "source": [
    "# Aquellas casas que no tienen el tipodepropiedad, son solo 19. Podria intentar sacar el tipo de prop\n",
    "# desde la descripcion pero no estaria seguro al respecto. Siendo solo 19, las elimino.\n",
    "df.dropna(subset=['tipodepropiedad'],inplace=True)"
   ]
  },
  {
   "cell_type": "code",
   "execution_count": 109,
   "metadata": {},
   "outputs": [
    {
     "data": {
      "text/plain": [
       "(230036, 18)"
      ]
     },
     "execution_count": 109,
     "metadata": {},
     "output_type": "execute_result"
    }
   ],
   "source": [
    "df.shape"
   ]
  },
  {
   "cell_type": "code",
   "execution_count": 110,
   "metadata": {},
   "outputs": [],
   "source": [
    "# Para banos y habitaciones, completo los nulos con la moda agrupando por tipo de propiedad y ciudad.\n",
    "# En caso de que no este en ninguno de esos, le asigno la moda por tipo de propiedad.\n",
    "\n",
    "df['banos'] = df.groupby(['tipodepropiedad','ciudad'])['banos'].transform(lambda x: x.fillna(x.mode()))\n",
    "df['habitaciones'] = df.groupby(['tipodepropiedad','ciudad'])['habitaciones'].transform(lambda x: x.fillna(x.mode()))\n",
    "df['banos'] = df.groupby(['tipodepropiedad'])['banos'].transform(lambda x: x.fillna(x.mode()))\n",
    "df['habitaciones'] = df.groupby(['tipodepropiedad'])['habitaciones'].transform(lambda x: x.fillna(x.mode()))"
   ]
  },
  {
   "cell_type": "code",
   "execution_count": 111,
   "metadata": {
    "scrolled": true
   },
   "outputs": [
    {
     "data": {
      "text/plain": [
       "titulo                         5071\n",
       "descripcion                    1483\n",
       "tipodepropiedad                   0\n",
       "ciudad                            0\n",
       "provincia                         0\n",
       "antiguedad                    41400\n",
       "habitaciones                  20533\n",
       "garages                       34135\n",
       "banos                         23063\n",
       "metroscubiertos                   0\n",
       "metrostotales                     0\n",
       "fecha                             0\n",
       "gimnasio                          0\n",
       "usosmultiples                     0\n",
       "piscina                           0\n",
       "escuelascercanas                  0\n",
       "centroscomercialescercanos        0\n",
       "precio                            0\n",
       "dtype: int64"
      ]
     },
     "execution_count": 111,
     "metadata": {},
     "output_type": "execute_result"
    }
   ],
   "source": [
    "df.isnull().sum()"
   ]
  },
  {
   "cell_type": "code",
   "execution_count": 112,
   "metadata": {},
   "outputs": [
    {
     "data": {
      "text/plain": [
       "(16294, 18)"
      ]
     },
     "execution_count": 112,
     "metadata": {},
     "output_type": "execute_result"
    }
   ],
   "source": [
    "# 17964 registros sin banos ni habitaciones completados. Analizo eso:\n",
    "# Hay alguno con ambos nulos?\n",
    "df[(df.banos.isnull())&(df.habitaciones.isnull())].shape\n",
    "# Esos 17964 coinciden."
   ]
  },
  {
   "cell_type": "code",
   "execution_count": 113,
   "metadata": {},
   "outputs": [
    {
     "data": {
      "text/plain": [
       "tipodepropiedad\n",
       "Apartamento                      1220\n",
       "Bodega comercial                  469\n",
       "Casa                             6897\n",
       "Casa en condominio                687\n",
       "Casa uso de suelo                 112\n",
       "Departamento Compartido             6\n",
       "Duplex                              5\n",
       "Edificio                          462\n",
       "Huerta                             12\n",
       "Inmuebles productivos urbanos      96\n",
       "Local Comercial                  1532\n",
       "Local en centro comercial         118\n",
       "Lote                                0\n",
       "Nave industrial                    25\n",
       "Oficina comercial                 693\n",
       "Otros                              35\n",
       "Quinta Vacacional                  48\n",
       "Rancho                             32\n",
       "Terreno                          9417\n",
       "Terreno comercial                1143\n",
       "Terreno industrial                 14\n",
       "Villa                              38\n",
       "Hospedaje                           1\n",
       "Garage                              1\n",
       "dtype: int64"
      ]
     },
     "execution_count": 113,
     "metadata": {},
     "output_type": "execute_result"
    }
   ],
   "source": [
    "# Registros sin baño agrupados por tipo de propiedad.\n",
    "df[df.banos.isnull()].groupby('tipodepropiedad').size()"
   ]
  },
  {
   "cell_type": "code",
   "execution_count": 114,
   "metadata": {},
   "outputs": [
    {
     "data": {
      "text/plain": [
       "20533"
      ]
     },
     "execution_count": 114,
     "metadata": {},
     "output_type": "execute_result"
    }
   ],
   "source": [
    "# Causalmente, todos esos nulos corresponden a inmuebles no habitables. Es raro suponer que no tienen baño, pero asumimos\n",
    "# que ese None, es algo que no modifica el valor del inmueble. No cambia para un local su valor si tiene o no baño.\n",
    "df[df.habitaciones.isnull()].groupby('tipodepropiedad').size().sum()"
   ]
  },
  {
   "cell_type": "code",
   "execution_count": 115,
   "metadata": {},
   "outputs": [
    {
     "data": {
      "text/plain": [
       "3.00     376\n",
       "1.00     361\n",
       "2.00     360\n",
       "4.00     213\n",
       "5.00     122\n",
       "6.00      87\n",
       "10.00     63\n",
       "8.00      42\n",
       "7.00      33\n",
       "9.00      26\n",
       "Name: habitaciones, dtype: int64"
      ]
     },
     "execution_count": 115,
     "metadata": {},
     "output_type": "execute_result"
    }
   ],
   "source": [
    "# La idea es ver si alguno que no sea habitable, tiene baños distinto de None para ver como reemplazar los otros nan.\n",
    "# Por habitable me refiero a propiedades donde vive gente.\n",
    "\n",
    "habitables = ['Casa','Apartamento','Casa en condominio','Casa uso de suelo','Quinta Vacacional','Villa','Duplex','Rancho','Departamento Compartido']\n",
    "\n",
    "df[~df.tipodepropiedad.isin(habitables)]['habitaciones'].value_counts()"
   ]
  },
  {
   "cell_type": "code",
   "execution_count": 116,
   "metadata": {},
   "outputs": [],
   "source": [
    "# Tomo la decision de llenar los banos y habitaciones nulos, ya demostrado que corresponden a inmuebles no habitables,\n",
    "# con el valor 0. Al margen de llenar los nulos, clarmaente son datos que no van a interesar para el analisis de este tipo de \n",
    "# propiedades.\n",
    "df.banos.fillna(0, inplace = True)\n",
    "df.habitaciones.fillna(0, inplace = True)"
   ]
  },
  {
   "cell_type": "code",
   "execution_count": 117,
   "metadata": {
    "scrolled": true
   },
   "outputs": [
    {
     "data": {
      "text/plain": [
       "titulo                         5071\n",
       "descripcion                    1483\n",
       "tipodepropiedad                   0\n",
       "ciudad                            0\n",
       "provincia                         0\n",
       "antiguedad                    41400\n",
       "habitaciones                      0\n",
       "garages                       34135\n",
       "banos                             0\n",
       "metroscubiertos                   0\n",
       "metrostotales                     0\n",
       "fecha                             0\n",
       "gimnasio                          0\n",
       "usosmultiples                     0\n",
       "piscina                           0\n",
       "escuelascercanas                  0\n",
       "centroscomercialescercanos        0\n",
       "precio                            0\n",
       "dtype: int64"
      ]
     },
     "execution_count": 117,
     "metadata": {},
     "output_type": "execute_result"
    }
   ],
   "source": [
    "df.isnull().sum()"
   ]
  },
  {
   "cell_type": "code",
   "execution_count": 118,
   "metadata": {},
   "outputs": [
    {
     "data": {
      "text/plain": [
       "tipodepropiedad\n",
       "Apartamento                       3543\n",
       "Bodega comercial                   393\n",
       "Casa                             21600\n",
       "Casa en condominio                2973\n",
       "Casa uso de suelo                  189\n",
       "Departamento Compartido              4\n",
       "Duplex                               7\n",
       "Edificio                           233\n",
       "Huerta                               5\n",
       "Inmuebles productivos urbanos       45\n",
       "Local Comercial                   1060\n",
       "Local en centro comercial           42\n",
       "Lote                                 0\n",
       "Nave industrial                     18\n",
       "Oficina comercial                  473\n",
       "Otros                               48\n",
       "Quinta Vacacional                  237\n",
       "Rancho                              93\n",
       "Terreno                           2397\n",
       "Terreno comercial                  604\n",
       "Terreno industrial                  17\n",
       "Villa                              154\n",
       "Hospedaje                            0\n",
       "Garage                               0\n",
       "dtype: int64"
      ]
     },
     "execution_count": 118,
     "metadata": {},
     "output_type": "execute_result"
    }
   ],
   "source": [
    "# Ahora voy a analizar los garages nulos. \n",
    "df[df.garages.isnull()].groupby('tipodepropiedad').size()"
   ]
  },
  {
   "cell_type": "code",
   "execution_count": 119,
   "metadata": {},
   "outputs": [
    {
     "data": {
      "text/html": [
       "<div>\n",
       "<style scoped>\n",
       "    .dataframe tbody tr th:only-of-type {\n",
       "        vertical-align: middle;\n",
       "    }\n",
       "\n",
       "    .dataframe tbody tr th {\n",
       "        vertical-align: top;\n",
       "    }\n",
       "\n",
       "    .dataframe thead th {\n",
       "        text-align: right;\n",
       "    }\n",
       "</style>\n",
       "<table border=\"1\" class=\"dataframe\">\n",
       "  <thead>\n",
       "    <tr style=\"text-align: right;\">\n",
       "      <th></th>\n",
       "      <th></th>\n",
       "      <th>garages</th>\n",
       "    </tr>\n",
       "    <tr>\n",
       "      <th>tipodepropiedad</th>\n",
       "      <th>ciudad</th>\n",
       "      <th></th>\n",
       "    </tr>\n",
       "  </thead>\n",
       "  <tbody>\n",
       "    <tr>\n",
       "      <td rowspan=\"5\" valign=\"top\">Apartamento</td>\n",
       "      <td>Abalá</td>\n",
       "      <td>nan</td>\n",
       "    </tr>\n",
       "    <tr>\n",
       "      <td>Abasolo</td>\n",
       "      <td>nan</td>\n",
       "    </tr>\n",
       "    <tr>\n",
       "      <td>Acajete</td>\n",
       "      <td>1.00</td>\n",
       "    </tr>\n",
       "    <tr>\n",
       "      <td>Acambay</td>\n",
       "      <td>2.00</td>\n",
       "    </tr>\n",
       "    <tr>\n",
       "      <td>Acapulco de Juárez</td>\n",
       "      <td>1.29</td>\n",
       "    </tr>\n",
       "    <tr>\n",
       "      <td>...</td>\n",
       "      <td>...</td>\n",
       "      <td>...</td>\n",
       "    </tr>\n",
       "    <tr>\n",
       "      <td rowspan=\"5\" valign=\"top\">Garage</td>\n",
       "      <td>San Luis de la Paz</td>\n",
       "      <td>nan</td>\n",
       "    </tr>\n",
       "    <tr>\n",
       "      <td>San Matías Tlalancaleca</td>\n",
       "      <td>nan</td>\n",
       "    </tr>\n",
       "    <tr>\n",
       "      <td>San Pedro</td>\n",
       "      <td>nan</td>\n",
       "    </tr>\n",
       "    <tr>\n",
       "      <td>Sombrerete</td>\n",
       "      <td>nan</td>\n",
       "    </tr>\n",
       "    <tr>\n",
       "      <td>ZirAndaro</td>\n",
       "      <td>nan</td>\n",
       "    </tr>\n",
       "  </tbody>\n",
       "</table>\n",
       "<p>21000 rows × 1 columns</p>\n",
       "</div>"
      ],
      "text/plain": [
       "                                         garages\n",
       "tipodepropiedad ciudad                          \n",
       "Apartamento     Abalá                        nan\n",
       "                Abasolo                      nan\n",
       "                Acajete                     1.00\n",
       "                Acambay                     2.00\n",
       "                Acapulco de Juárez          1.29\n",
       "...                                          ...\n",
       "Garage          San Luis de la Paz           nan\n",
       "                San Matías Tlalancaleca      nan\n",
       "                San Pedro                    nan\n",
       "                Sombrerete                   nan\n",
       "                ZirAndaro                    nan\n",
       "\n",
       "[21000 rows x 1 columns]"
      ]
     },
     "execution_count": 119,
     "metadata": {},
     "output_type": "execute_result"
    }
   ],
   "source": [
    "# De aca se puede ver informacion importante: Segun la ciudad y el tipo de propiedad, varia bastante la cantidad de garages\n",
    "# de una casa.\n",
    "df.groupby(['tipodepropiedad','ciudad']).agg({'garages':'mean'})"
   ]
  },
  {
   "cell_type": "code",
   "execution_count": 120,
   "metadata": {},
   "outputs": [
    {
     "data": {
      "text/plain": [
       "2.00    85887\n",
       "1.00    56953\n",
       "3.00    47212\n",
       "0.00    23063\n",
       "4.00    16921\n",
       "Name: banos, dtype: int64"
      ]
     },
     "execution_count": 120,
     "metadata": {},
     "output_type": "execute_result"
    }
   ],
   "source": [
    "# Tomo la decision de completar aquellos valores de garage nulos, con el promedio de garages para ese tipo de propiedad,\n",
    "# en la ciudad en que se encuentre.\n",
    "df['garages'] = df.groupby(['tipodepropiedad','ciudad'])['garages'].transform(lambda x: x.fillna(x.mode()))\n",
    "\n",
    "df['banos'].value_counts()"
   ]
  },
  {
   "cell_type": "code",
   "execution_count": 121,
   "metadata": {},
   "outputs": [],
   "source": [
    "# Para aquellos registros que registraban de promedio nan, osea ninguno tenia, los relleno con 0 como valor de garage.\n",
    "df['garages'].fillna(0, inplace=True)"
   ]
  },
  {
   "cell_type": "code",
   "execution_count": 122,
   "metadata": {},
   "outputs": [
    {
     "data": {
      "text/plain": [
       "titulo                         5071\n",
       "descripcion                    1483\n",
       "tipodepropiedad                   0\n",
       "ciudad                            0\n",
       "provincia                         0\n",
       "antiguedad                    41400\n",
       "habitaciones                      0\n",
       "garages                           0\n",
       "banos                             0\n",
       "metroscubiertos                   0\n",
       "metrostotales                     0\n",
       "fecha                             0\n",
       "gimnasio                          0\n",
       "usosmultiples                     0\n",
       "piscina                           0\n",
       "escuelascercanas                  0\n",
       "centroscomercialescercanos        0\n",
       "precio                            0\n",
       "dtype: int64"
      ]
     },
     "execution_count": 122,
     "metadata": {},
     "output_type": "execute_result"
    }
   ],
   "source": [
    "# Solo me queda revisar los nulos de antiguedad. Son muchisimos. \n",
    "df.isnull().sum()"
   ]
  },
  {
   "cell_type": "code",
   "execution_count": 123,
   "metadata": {
    "scrolled": true
   },
   "outputs": [],
   "source": [
    "# La decision que voy a tomar para esos nulos, es similar a la de los garages. Voy a rellenar los nulos con el promedio\n",
    "# de antiguedad para ese tipo de propiedad y esa ciudad en la que esta ubicada la propiedad.\n",
    "# No se que tanto sentido tenga asignarle valores asi a la antiguedad porque de verdad estoy modificando de una forma que\n",
    "# no necesariamente sea correcta\n",
    "\n",
    "\n",
    "# df.groupby(['tipodepropiedad','ciudad']).agg({'antiguedad':'mean'})"
   ]
  },
  {
   "cell_type": "code",
   "execution_count": 124,
   "metadata": {},
   "outputs": [],
   "source": [
    "# df['antiguedad'] = df.groupby(['tipodepropiedad','ciudad'])['antiguedad'].transform(lambda x: x.fillna(x.mean()))"
   ]
  },
  {
   "cell_type": "code",
   "execution_count": 125,
   "metadata": {
    "scrolled": false
   },
   "outputs": [
    {
     "data": {
      "text/plain": [
       "titulo                         5071\n",
       "descripcion                    1483\n",
       "tipodepropiedad                   0\n",
       "ciudad                            0\n",
       "provincia                         0\n",
       "antiguedad                    41400\n",
       "habitaciones                      0\n",
       "garages                           0\n",
       "banos                             0\n",
       "metroscubiertos                   0\n",
       "metrostotales                     0\n",
       "fecha                             0\n",
       "gimnasio                          0\n",
       "usosmultiples                     0\n",
       "piscina                           0\n",
       "escuelascercanas                  0\n",
       "centroscomercialescercanos        0\n",
       "precio                            0\n",
       "dtype: int64"
      ]
     },
     "execution_count": 125,
     "metadata": {},
     "output_type": "execute_result"
    }
   ],
   "source": [
    "df.isnull().sum()"
   ]
  },
  {
   "cell_type": "code",
   "execution_count": 126,
   "metadata": {},
   "outputs": [
    {
     "data": {
      "text/html": [
       "<div>\n",
       "<style scoped>\n",
       "    .dataframe tbody tr th:only-of-type {\n",
       "        vertical-align: middle;\n",
       "    }\n",
       "\n",
       "    .dataframe tbody tr th {\n",
       "        vertical-align: top;\n",
       "    }\n",
       "\n",
       "    .dataframe thead th {\n",
       "        text-align: right;\n",
       "    }\n",
       "</style>\n",
       "<table border=\"1\" class=\"dataframe\">\n",
       "  <thead>\n",
       "    <tr style=\"text-align: right;\">\n",
       "      <th></th>\n",
       "      <th>antiguedad</th>\n",
       "      <th>habitaciones</th>\n",
       "      <th>garages</th>\n",
       "      <th>banos</th>\n",
       "      <th>metroscubiertos</th>\n",
       "      <th>metrostotales</th>\n",
       "      <th>precio</th>\n",
       "    </tr>\n",
       "  </thead>\n",
       "  <tbody>\n",
       "    <tr>\n",
       "      <td>count</td>\n",
       "      <td>188636.00</td>\n",
       "      <td>230036.00</td>\n",
       "      <td>230036.00</td>\n",
       "      <td>230036.00</td>\n",
       "      <td>230036.00</td>\n",
       "      <td>230036.00</td>\n",
       "      <td>230036.00</td>\n",
       "    </tr>\n",
       "    <tr>\n",
       "      <td>mean</td>\n",
       "      <td>8.03</td>\n",
       "      <td>2.62</td>\n",
       "      <td>1.32</td>\n",
       "      <td>1.90</td>\n",
       "      <td>168.10</td>\n",
       "      <td>173.75</td>\n",
       "      <td>2449120.60</td>\n",
       "    </tr>\n",
       "    <tr>\n",
       "      <td>std</td>\n",
       "      <td>9.45</td>\n",
       "      <td>1.16</td>\n",
       "      <td>0.95</td>\n",
       "      <td>1.07</td>\n",
       "      <td>101.47</td>\n",
       "      <td>96.54</td>\n",
       "      <td>2060857.69</td>\n",
       "    </tr>\n",
       "    <tr>\n",
       "      <td>min</td>\n",
       "      <td>0.00</td>\n",
       "      <td>0.00</td>\n",
       "      <td>0.00</td>\n",
       "      <td>0.00</td>\n",
       "      <td>0.00</td>\n",
       "      <td>15.00</td>\n",
       "      <td>310000.00</td>\n",
       "    </tr>\n",
       "    <tr>\n",
       "      <td>25%</td>\n",
       "      <td>0.00</td>\n",
       "      <td>2.00</td>\n",
       "      <td>0.00</td>\n",
       "      <td>1.00</td>\n",
       "      <td>86.00</td>\n",
       "      <td>97.00</td>\n",
       "      <td>950000.00</td>\n",
       "    </tr>\n",
       "    <tr>\n",
       "      <td>50%</td>\n",
       "      <td>5.00</td>\n",
       "      <td>3.00</td>\n",
       "      <td>1.00</td>\n",
       "      <td>2.00</td>\n",
       "      <td>150.00</td>\n",
       "      <td>150.00</td>\n",
       "      <td>1800000.00</td>\n",
       "    </tr>\n",
       "    <tr>\n",
       "      <td>75%</td>\n",
       "      <td>10.00</td>\n",
       "      <td>3.00</td>\n",
       "      <td>2.00</td>\n",
       "      <td>3.00</td>\n",
       "      <td>236.00</td>\n",
       "      <td>235.00</td>\n",
       "      <td>3250000.00</td>\n",
       "    </tr>\n",
       "    <tr>\n",
       "      <td>max</td>\n",
       "      <td>80.00</td>\n",
       "      <td>10.00</td>\n",
       "      <td>3.00</td>\n",
       "      <td>4.00</td>\n",
       "      <td>439.00</td>\n",
       "      <td>439.00</td>\n",
       "      <td>12525000.00</td>\n",
       "    </tr>\n",
       "  </tbody>\n",
       "</table>\n",
       "</div>"
      ],
      "text/plain": [
       "       antiguedad  habitaciones   garages     banos  metroscubiertos  \\\n",
       "count   188636.00     230036.00 230036.00 230036.00        230036.00   \n",
       "mean         8.03          2.62      1.32      1.90           168.10   \n",
       "std          9.45          1.16      0.95      1.07           101.47   \n",
       "min          0.00          0.00      0.00      0.00             0.00   \n",
       "25%          0.00          2.00      0.00      1.00            86.00   \n",
       "50%          5.00          3.00      1.00      2.00           150.00   \n",
       "75%         10.00          3.00      2.00      3.00           236.00   \n",
       "max         80.00         10.00      3.00      4.00           439.00   \n",
       "\n",
       "       metrostotales      precio  \n",
       "count      230036.00   230036.00  \n",
       "mean          173.75  2449120.60  \n",
       "std            96.54  2060857.69  \n",
       "min            15.00   310000.00  \n",
       "25%            97.00   950000.00  \n",
       "50%           150.00  1800000.00  \n",
       "75%           235.00  3250000.00  \n",
       "max           439.00 12525000.00  "
      ]
     },
     "execution_count": 126,
     "metadata": {},
     "output_type": "execute_result"
    }
   ],
   "source": [
    "# Se puede ver mucha informacion importante aca. \n",
    "# Por ejemplo, la diferencia abismal que hay entre el tercer cuantil y el maximo de precio.\n",
    "# Deberia seguir mirando un poco mas\n",
    "df.describe()"
   ]
  },
  {
   "cell_type": "code",
   "execution_count": 127,
   "metadata": {},
   "outputs": [
    {
     "name": "stdout",
     "output_type": "stream",
     "text": [
      "El percentil 0.99:  10000000.0\n",
      "El percentil 0.01:  340000.0\n",
      "El maximo:  12525000.0\n",
      "El minimo:  310000.0\n",
      "Maximo / Percentil 0.99 1.2525\n",
      "Percentil 0.01 / Minimo 1.096774193548387\n",
      "Cantidad de registros por debajo del percentil 0.01:  (2181, 18)\n",
      "Cantidad de registros por encima del percentil 0.99:  (2140, 18)\n"
     ]
    }
   ],
   "source": [
    "# Antes de empezar a analizar los datos, deberia intentar detectar outliers en cuanto al precio.\n",
    "print('El percentil 0.99: ',df.precio.quantile(0.99))\n",
    "print('El percentil 0.01: ',df.precio.quantile(0.01))\n",
    "print('El maximo: ', df.precio.max())\n",
    "print('El minimo: ', df.precio.min())\n",
    "print('Maximo / Percentil 0.99', df.precio.max()/df.precio.quantile(0.99))\n",
    "print('Percentil 0.01 / Minimo', df.precio.quantile(0.01)/df.precio.min())\n",
    "print('Cantidad de registros por debajo del percentil 0.01: ', df[df['precio']<df.precio.quantile(0.01)].shape)\n",
    "print('Cantidad de registros por encima del percentil 0.99: ', df[df['precio']>df.precio.quantile(0.99)].shape)"
   ]
  },
  {
   "cell_type": "code",
   "execution_count": 128,
   "metadata": {},
   "outputs": [
    {
     "data": {
      "image/png": "[encoded data removed]",
      "text/plain": [
       "<Figure size 1440x576 with 1 Axes>"
      ]
     },
     "metadata": {
      "needs_background": "light"
     },
     "output_type": "display_data"
    }
   ],
   "source": [
    "# Un boxplot ayuda a poder detectar estos outliers.\n",
    "\n",
    "df['precio_m2'] = df['precio']/df['metrostotales']\n",
    "\n",
    "def plot_outliers(df):\n",
    "    fig, ax = plt.subplots(figsize=(20,8))\n",
    "    green_diamond = dict(markerfacecolor='g', marker='D')\n",
    "    df_g1 = df.copy()\n",
    "    df_g1 = df[df['tipodepropiedad'].isin(['Casa','Apartamento','Edificio','Casa en condominio','Duplex','Terreno','Terreno comercial'])]\n",
    "    df_g1.tipodepropiedad.cat.remove_unused_categories(inplace=True)\n",
    "    df_g1.boxplot(column='precio_m2', by='tipodepropiedad', ax=ax, flierprops=green_diamond, notch=True)\n",
    "    ax.set_title('')\n",
    "    fig.suptitle('')\n",
    "    ax.set_xlabel('')\n",
    "    ax.set_ylabel('')\n",
    "    \n",
    "plot_outliers(df)"
   ]
  },
  {
   "cell_type": "code",
   "execution_count": 129,
   "metadata": {
    "scrolled": true
   },
   "outputs": [
    {
     "name": "stdout",
     "output_type": "stream",
     "text": [
      "Antes de filtrar:  (230036, 19)\n",
      "id\n",
      "254099   28412.50\n",
      "185997   12105.26\n",
      "126147   12222.22\n",
      "44962     5344.83\n",
      "103293   28125.00\n",
      "           ...   \n",
      "267455   16681.77\n",
      "41090    12993.75\n",
      "137337   21323.53\n",
      "131932   24637.68\n",
      "121958   24496.64\n",
      "Name: Apartamento, Length: 56447, dtype: float64\n",
      "id\n",
      "244605    8910.51\n",
      "176676   11111.11\n",
      "66407    31142.86\n",
      "53593     4875.00\n",
      "57195    12179.49\n",
      "           ...   \n",
      "66234    11279.07\n",
      "9540      4368.42\n",
      "116381    6500.00\n",
      "256951    6198.35\n",
      "191335    5422.34\n",
      "Name: Bodega comercial, Length: 1113, dtype: float64\n",
      "id\n",
      "247984    7228.92\n",
      "209067    9701.49\n",
      "139233    7187.50\n",
      "5013     14334.47\n",
      "51180     4880.00\n",
      "           ...   \n",
      "207892   11000.00\n",
      "110268   15000.00\n",
      "119879    9701.49\n",
      "259178    7760.00\n",
      "146867   21094.89\n",
      "Name: Casa, Length: 134968, dtype: float64\n",
      "id\n",
      "53461    20000.00\n",
      "224513   15333.33\n",
      "146699   13461.54\n",
      "70294     4696.97\n",
      "144635   21666.67\n",
      "           ...   \n",
      "48555     8880.60\n",
      "205041   12539.68\n",
      "256840   21190.48\n",
      "64820    31034.48\n",
      "54886    18771.33\n",
      "Name: Casa en condominio, Length: 18691, dtype: float64\n",
      "id\n",
      "109416     9618.06\n",
      "244819    31060.61\n",
      "203064    12179.49\n",
      "290045     8450.00\n",
      "95015     42768.60\n",
      "            ...   \n",
      "136319    11494.25\n",
      "251924     6277.78\n",
      "195804    20000.00\n",
      "262379    15693.43\n",
      "173714   243478.26\n",
      "Name: Casa uso de suelo, Length: 608, dtype: float64\n",
      "id\n",
      "143906   25333.33\n",
      "85268    28181.82\n",
      "61797     4042.55\n",
      "123446   16908.21\n",
      "294869    8000.00\n",
      "           ...   \n",
      "62112     7181.82\n",
      "272217   11400.00\n",
      "265372   15032.68\n",
      "170091   13777.78\n",
      "191083   23780.49\n",
      "Name: Departamento Compartido, Length: 139, dtype: float64\n",
      "id\n",
      "215670   12549.02\n",
      "17363     5169.23\n",
      "89802     7419.35\n",
      "36407    10166.67\n",
      "120366   13764.04\n",
      "           ...   \n",
      "53053     4666.67\n",
      "28328    11442.31\n",
      "97661     7639.34\n",
      "226507    3930.64\n",
      "106081    3240.74\n",
      "Name: Duplex, Length: 338, dtype: float64\n",
      "id\n",
      "67919     7000.00\n",
      "42303    10576.92\n",
      "710      11312.22\n",
      "162014   29142.86\n",
      "115309   31531.53\n",
      "           ...   \n",
      "278226    9852.22\n",
      "206376   12500.00\n",
      "21172    19000.00\n",
      "67642    20000.00\n",
      "58596    10283.69\n",
      "Name: Edificio, Length: 720, dtype: float64\n",
      "id\n",
      "156235    23500.00\n",
      "133576    23220.97\n",
      "125322    10000.00\n",
      "65254     15000.00\n",
      "58375     20000.00\n",
      "184737    18888.89\n",
      "270732     7500.00\n",
      "293652    75000.00\n",
      "51742    455555.56\n",
      "132391    10434.78\n",
      "85353     30000.00\n",
      "289049    16500.00\n",
      "136955     5513.89\n",
      "33499     18222.22\n",
      "175972    14000.00\n",
      "2229      10000.00\n",
      "201623    14000.00\n",
      "204578    28750.00\n",
      "10447     70000.00\n",
      "189648    11666.67\n",
      "Name: Huerta, dtype: float64\n",
      "id\n",
      "79990    38666.67\n",
      "256184   11105.56\n",
      "245669   15567.28\n",
      "178084   19750.00\n",
      "178342   17500.00\n",
      "           ...   \n",
      "127192    4200.00\n",
      "51999     6368.29\n",
      "36069     5000.00\n",
      "162403   26000.00\n",
      "286406    5750.00\n",
      "Name: Inmuebles productivos urbanos, Length: 165, dtype: float64\n",
      "id\n",
      "207641   33571.43\n",
      "100792   14141.41\n",
      "100528   17592.59\n",
      "153577   46333.33\n",
      "225044   38793.10\n",
      "           ...   \n",
      "257186    1462.88\n",
      "283501   33000.00\n",
      "50015    12000.00\n",
      "217851   45407.81\n",
      "23247    35000.00\n",
      "Name: Local Comercial, Length: 2732, dtype: float64\n",
      "id\n",
      "19319    17500.00\n",
      "180749   22000.00\n",
      "164518   16428.57\n",
      "74831    45162.77\n",
      "288318   15000.00\n",
      "           ...   \n",
      "112878   28333.33\n",
      "96368    58529.41\n",
      "113135   31250.00\n",
      "237199   37055.56\n",
      "119654   11875.00\n",
      "Name: Local en centro comercial, Length: 160, dtype: float64\n",
      "Series([], Name: Lote, dtype: float64)\n",
      "id\n",
      "82204     5583.76\n",
      "93305     8333.33\n",
      "54503    20108.70\n",
      "15645     7757.14\n",
      "81453     4800.00\n",
      "           ...   \n",
      "288991   18987.34\n",
      "93366     2354.95\n",
      "280118    2673.80\n",
      "265786   20625.00\n",
      "61476     7568.81\n",
      "Name: Nave industrial, Length: 64, dtype: float64\n",
      "id\n",
      "123025   30000.00\n",
      "297052   37524.75\n",
      "201732   22833.33\n",
      "205357   44820.00\n",
      "153007   34482.76\n",
      "           ...   \n",
      "50990    21875.00\n",
      "192714    6800.00\n",
      "94476    56250.00\n",
      "248710   13127.66\n",
      "230785   26052.63\n",
      "Name: Oficina comercial, Length: 1623, dtype: float64\n",
      "id\n",
      "162514   10476.19\n",
      "45129    47500.00\n",
      "278476   15833.33\n",
      "260581   15116.28\n",
      "151721    4112.80\n",
      "           ...   \n",
      "207663   12857.14\n",
      "83211    21875.00\n",
      "236774   20542.64\n",
      "80152     4186.05\n",
      "136917   31428.57\n",
      "Name: Otros, Length: 88, dtype: float64\n",
      "id\n",
      "270980    7916.67\n",
      "17832    26333.33\n",
      "186728   13750.00\n",
      "194987   18000.00\n",
      "65844     6000.00\n",
      "           ...   \n",
      "121759   14857.14\n",
      "96722    22000.00\n",
      "118947   19083.97\n",
      "286370   50000.00\n",
      "211760   11250.00\n",
      "Name: Quinta Vacacional, Length: 382, dtype: float64\n",
      "id\n",
      "140237    54166.67\n",
      "277628    85714.29\n",
      "110267    36000.00\n",
      "3426     155111.11\n",
      "280719    14000.00\n",
      "            ...   \n",
      "130841    26666.67\n",
      "224790   125000.00\n",
      "148510     3490.00\n",
      "177691    35000.00\n",
      "82989     20000.00\n",
      "Name: Rancho, Length: 166, dtype: float64\n",
      "id\n",
      "134537   24800.00\n",
      "40421     4841.94\n",
      "90071     4666.67\n",
      "241431    4455.11\n",
      "86982     1800.00\n",
      "           ...   \n",
      "183323    5000.00\n",
      "263160    5000.00\n",
      "257750    1055.56\n",
      "240181    4013.38\n",
      "106530    8373.21\n",
      "Name: Terreno, Length: 9939, dtype: float64\n",
      "id\n",
      "146158    71386.00\n",
      "194182     3101.76\n",
      "98472      2166.67\n",
      "182806     5004.26\n",
      "130586     4188.27\n",
      "            ...   \n",
      "291385   180000.00\n",
      "264223     5011.57\n",
      "134668     6722.69\n",
      "220156     4500.00\n",
      "201660    10019.31\n",
      "Name: Terreno comercial, Length: 1316, dtype: float64\n",
      "id\n",
      "224091    60779.38\n",
      "39120     16500.00\n",
      "67645     16000.00\n",
      "276451    13891.87\n",
      "188690    13888.89\n",
      "36424      7031.25\n",
      "120441    59640.00\n",
      "108739    97439.02\n",
      "73001     19850.00\n",
      "95936     65881.88\n",
      "38553      9714.29\n",
      "182021     7203.39\n",
      "25846      3596.49\n",
      "131051    23942.15\n",
      "91989     47086.61\n",
      "140958   125000.00\n",
      "233391     3400.00\n",
      "40106      4340.84\n",
      "270835     4950.00\n",
      "25203     40515.00\n",
      "200675    18072.29\n",
      "85708     39500.00\n",
      "Name: Terreno industrial, dtype: float64\n",
      "id\n",
      "74759     8833.33\n",
      "189237    8000.00\n",
      "217618    8333.33\n",
      "15722    40000.00\n",
      "290762   22500.00\n",
      "           ...   \n",
      "340      21250.00\n",
      "81182    10917.03\n",
      "60279    11111.11\n",
      "147820   10769.23\n",
      "203339    9166.67\n",
      "Name: Villa, Length: 333, dtype: float64\n",
      "id\n",
      "16605   10416.67\n",
      "Name: Hospedaje, dtype: float64\n",
      "id\n",
      "245563   12500.00\n",
      "Name: Garage, dtype: float64\n",
      "Despues de filtrar:  (220413, 19)\n"
     ]
    }
   ],
   "source": [
    "# Filtro los outliers, usando maximos y minimos en base al cuantil 1 y 3 y el IQR.\n",
    "print('Antes de filtrar: ', df.shape)\n",
    "\n",
    "def is_outlier(group):\n",
    "    print(group)\n",
    "    Q1 = group.quantile(0.25)\n",
    "    Q3 = group.quantile(0.75)\n",
    "    IQR = Q3 - Q1\n",
    "    precio_min = Q1 - 1.5 * IQR\n",
    "    precio_max = Q3 + 1.5 * IQR\n",
    "    return ~group.between(precio_min, precio_max)\n",
    "\n",
    "df = df[~df.groupby('tipodepropiedad')['precio_m2'].apply(is_outlier)]\n",
    "\n",
    "print('Despues de filtrar: ', df.shape)"
   ]
  },
  {
   "cell_type": "code",
   "execution_count": 130,
   "metadata": {
    "scrolled": true
   },
   "outputs": [
    {
     "data": {
      "image/png": "[encoded data removed]",
      "text/plain": [
       "<Figure size 1440x576 with 1 Axes>"
      ]
     },
     "metadata": {
      "needs_background": "light"
     },
     "output_type": "display_data"
    }
   ],
   "source": [
    "# Vuelvo a graficar, para ver como cambiaron los outliers.\n",
    "plot_outliers(df)"
   ]
  },
  {
   "cell_type": "code",
   "execution_count": 131,
   "metadata": {},
   "outputs": [],
   "source": [
    "#Lleno los nulos de antiguedad con 0. Supongo que son todos nuevos.\n",
    "df['antiguedad'].fillna(0, inplace=True)\n",
    "\n",
    "# Quedaron solo 517 con antiguedad nula. Los reviso:\n",
    "# df[df['antiguedad'].isnull()]\n",
    "\n",
    "# Para estos restantes, tomo la decision de rellenarlos de acuerdo a el promedio de antiguedad segun el tipo de prop y la prov\n",
    "\n",
    "# df['antiguedad'] = df.groupby(['tipodepropiedad','provincia'])['antiguedad'].transform(lambda x: x.fillna(x.mean()))"
   ]
  },
  {
   "cell_type": "code",
   "execution_count": 132,
   "metadata": {},
   "outputs": [],
   "source": [
    "# df.isnull().sum()"
   ]
  },
  {
   "cell_type": "code",
   "execution_count": 133,
   "metadata": {},
   "outputs": [],
   "source": [
    "# Los restantes, los elimino ya que son pocos y no puedo fijarle una antiguedad de forma tan directa\n",
    "# df.dropna(subset=['antiguedad'], inplace=True)"
   ]
  },
  {
   "cell_type": "code",
   "execution_count": 134,
   "metadata": {},
   "outputs": [
    {
     "data": {
      "text/plain": [
       "titulo                        4900\n",
       "descripcion                   1437\n",
       "tipodepropiedad                  0\n",
       "ciudad                           0\n",
       "provincia                        0\n",
       "antiguedad                       0\n",
       "habitaciones                     0\n",
       "garages                          0\n",
       "banos                            0\n",
       "metroscubiertos                  0\n",
       "metrostotales                    0\n",
       "fecha                            0\n",
       "gimnasio                         0\n",
       "usosmultiples                    0\n",
       "piscina                          0\n",
       "escuelascercanas                 0\n",
       "centroscomercialescercanos       0\n",
       "precio                           0\n",
       "precio_m2                        0\n",
       "dtype: int64"
      ]
     },
     "execution_count": 134,
     "metadata": {},
     "output_type": "execute_result"
    }
   ],
   "source": [
    "df.isnull().sum()"
   ]
  },
  {
   "cell_type": "code",
   "execution_count": 135,
   "metadata": {},
   "outputs": [],
   "source": [
    "# Hay 70000 filas en las que los metros totales son menores a los cubiertos. Esto es invalido. La realidad es que son muchas\n",
    "# filas, por lo tano les seteo como metros totales, la misma cantidad que cubiertos.\n",
    "\n",
    "df.loc[df['metrostotales']<df['metroscubiertos'], 'metrostotales'] = df['metroscubiertos']\n"
   ]
  },
  {
   "cell_type": "code",
   "execution_count": 136,
   "metadata": {},
   "outputs": [],
   "source": [
    "# Aca deberia ir seteando las columnas nuevas que me parezcan utiles para analisis.\n",
    "# Ideas: Precio por metro total, o agregar una columna con la cantidad de extras que tenga la casa.\n",
    "df['precio_dolar'] = df['precio']/VALOR_CAMBIO_A_DOLAR\n",
    "df['precio_m2'] = df['precio']/df['metrostotales']\n",
    "df['extras'] = df['garages']+df['piscina']+df['usosmultiples']+df['gimnasio']\n"
   ]
  }
 ],
 "metadata": {
  "kernelspec": {
   "display_name": "Python 3",
   "language": "python",
   "name": "python3"
  },
  "language_info": {
   "codemirror_mode": {
    "name": "ipython",
    "version": 3
   },
   "file_extension": ".py",
   "mimetype": "text/x-python",
   "name": "python",
   "nbconvert_exporter": "python",
   "pygments_lexer": "ipython3",
   "version": "3.6.7"
  }
 },
 "nbformat": 4,
 "nbformat_minor": 2
}
