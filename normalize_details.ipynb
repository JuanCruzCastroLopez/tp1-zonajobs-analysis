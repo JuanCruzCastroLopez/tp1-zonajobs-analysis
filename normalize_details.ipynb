{
 "cells": [
  {
   "cell_type": "code",
   "execution_count": 93,
   "metadata": {},
   "outputs": [],
   "source": [
    "import numpy as np\n",
    "import pandas as pd\n",
    "import matplotlib.pyplot as plt\n",
    "import seaborn as sns\n",
    "import datetime as datetime\n",
    "import sys\n",
    "\n",
    "VALOR_CAMBIO_A_DOLAR = 19.54"
   ]
  },
  {
   "cell_type": "code",
   "execution_count": 94,
   "metadata": {},
   "outputs": [],
   "source": [
    "df = pd.read_csv('train.csv',\n",
    "        index_col='id',\n",
    "        dtype={'gimnasio': bool,\n",
    "                'usosmultiples': bool,\n",
    "                'escuelascercanas': bool,\n",
    "                'piscina': bool,\n",
    "                'centroscomercialescercanos': bool,\n",
    "                'tipodepropiedad': 'category',\n",
    "                'provincia': 'category',\n",
    "                'ciudad': 'category'\n",
    "            },\n",
    "        parse_dates=['fecha'])\n",
    "pd.set_option('display.float_format', '{:.2f}'.format)"
   ]
  },
  {
   "cell_type": "code",
   "execution_count": 95,
   "metadata": {},
   "outputs": [
    {
     "data": {
      "text/plain": [
       "id\n",
       "254099     True\n",
       "53461     False\n",
       "247984    False\n",
       "209067    False\n",
       "185997     True\n",
       "          ...  \n",
       "119879    False\n",
       "259178    False\n",
       "131932     True\n",
       "146867    False\n",
       "121958     True\n",
       "Name: tipodepropiedad, Length: 240000, dtype: bool"
      ]
     },
     "execution_count": 95,
     "metadata": {},
     "output_type": "execute_result"
    }
   ],
   "source": [
    "df['tipodepropiedad'].isin(['Apartamento'])"
   ]
  },
  {
   "cell_type": "code",
   "execution_count": 96,
   "metadata": {
    "scrolled": true
   },
   "outputs": [
    {
     "data": {
      "text/plain": [
       "Index(['titulo', 'descripcion', 'tipodepropiedad', 'direccion', 'ciudad',\n",
       "       'provincia', 'antiguedad', 'habitaciones', 'garages', 'banos',\n",
       "       'metroscubiertos', 'metrostotales', 'idzona', 'lat', 'lng', 'fecha',\n",
       "       'gimnasio', 'usosmultiples', 'piscina', 'escuelascercanas',\n",
       "       'centroscomercialescercanos', 'precio'],\n",
       "      dtype='object')"
      ]
     },
     "execution_count": 96,
     "metadata": {},
     "output_type": "execute_result"
    }
   ],
   "source": [
    "df.columns"
   ]
  },
  {
   "cell_type": "code",
   "execution_count": 97,
   "metadata": {},
   "outputs": [],
   "source": [
    "# Me quedo solo con las columnas que son importantes para nuestro analisis.\n",
    "# Quizas el titulo y la descripcion tampoco las use, pero primero habria que hacer  un analisis de ese campo\n",
    "df.drop(['direccion','idzona','lat','lng'], axis=1, inplace=True)"
   ]
  },
  {
   "cell_type": "code",
   "execution_count": 98,
   "metadata": {},
   "outputs": [
    {
     "data": {
      "text/plain": [
       "Index(['titulo', 'descripcion', 'tipodepropiedad', 'ciudad', 'provincia',\n",
       "       'antiguedad', 'habitaciones', 'garages', 'banos', 'metroscubiertos',\n",
       "       'metrostotales', 'fecha', 'gimnasio', 'usosmultiples', 'piscina',\n",
       "       'escuelascercanas', 'centroscomercialescercanos', 'precio'],\n",
       "      dtype='object')"
      ]
     },
     "execution_count": 98,
     "metadata": {},
     "output_type": "execute_result"
    }
   ],
   "source": [
    "df.columns"
   ]
  },
  {
   "cell_type": "code",
   "execution_count": 99,
   "metadata": {
    "scrolled": false
   },
   "outputs": [
    {
     "name": "stdout",
     "output_type": "stream",
     "text": [
      "Filas, columnas:  (240000, 18)\n",
      "Tipos: \n",
      " titulo                                object\n",
      "descripcion                           object\n",
      "tipodepropiedad                     category\n",
      "ciudad                              category\n",
      "provincia                           category\n",
      "antiguedad                           float64\n",
      "habitaciones                         float64\n",
      "garages                              float64\n",
      "banos                                float64\n",
      "metroscubiertos                      float64\n",
      "metrostotales                        float64\n",
      "fecha                         datetime64[ns]\n",
      "gimnasio                                bool\n",
      "usosmultiples                           bool\n",
      "piscina                                 bool\n",
      "escuelascercanas                        bool\n",
      "centroscomercialescercanos              bool\n",
      "precio                               float64\n",
      "dtype: object\n"
     ]
    }
   ],
   "source": [
    "# 1. Ver cuantos datos (observaciones) tenemos en total\n",
    "# 2. Ver cuantos atributos tiene cada observaci´on\n",
    "# 3. Ver el nombre y tipo de dato de cada observaci´on\n",
    "# 4. Ver cuantos valores faltantes existen y en que proporci´on se presentan para\n",
    "# cada atributo\n",
    "# Despues de parsear y filtrar los nulos, deberiamos poner cada columna en su tipo ideal.\n",
    "# df['antiguedad'] = df['antiguedad'].astype(int)     algo de este estilo\n",
    "\n",
    "print(\"Filas, columnas: \", df.shape)\n",
    "print(\"Tipos: \\n\", df.dtypes)"
   ]
  },
  {
   "cell_type": "code",
   "execution_count": 100,
   "metadata": {},
   "outputs": [
    {
     "data": {
      "text/plain": [
       "titulo                         5387\n",
       "descripcion                    1619\n",
       "tipodepropiedad                  46\n",
       "ciudad                          372\n",
       "provincia                       155\n",
       "antiguedad                    43555\n",
       "habitaciones                  22471\n",
       "garages                       37765\n",
       "banos                         26221\n",
       "metroscubiertos               17400\n",
       "metrostotales                 51467\n",
       "fecha                             0\n",
       "gimnasio                          0\n",
       "usosmultiples                     0\n",
       "piscina                           0\n",
       "escuelascercanas                  0\n",
       "centroscomercialescercanos        0\n",
       "precio                            0\n",
       "dtype: int64"
      ]
     },
     "execution_count": 100,
     "metadata": {},
     "output_type": "execute_result"
    }
   ],
   "source": [
    "# Cosas a observar de esto:\n",
    "# Propiedades sin ciudad ni provincia.\n",
    "# Muchas propiedades sin metroscubiertos y totales especificados. Estas columnas son claves para \n",
    "# el precio (falta demostrar)\n",
    "# 46 propiedades sin clasificacion de tipo de propiedad. \n",
    "# Habitaciones y Banos, muchos datos nulos. Sera que no tienen? Una casa no pude no tener habitacio ni bano...\n",
    "# Garages, piscina, salondeusosmultiples y gimnasio son extras. Supongo que el hecho de que no aparezcan \n",
    "# es que no los tienen.\n",
    "# Estos 4 extras, podrian reunirse en una categoria todas juntas para evaluar como crece el precio en base a esos\n",
    "# extras.\n",
    "# 43000 propiedades sin saber su antiguedad. Esto si ni idea como podemos reemplazarlos.\n",
    "\n",
    "df.isna().sum()"
   ]
  },
  {
   "cell_type": "code",
   "execution_count": 101,
   "metadata": {},
   "outputs": [
    {
     "data": {
      "text/html": [
       "<div>\n",
       "<style scoped>\n",
       "    .dataframe tbody tr th:only-of-type {\n",
       "        vertical-align: middle;\n",
       "    }\n",
       "\n",
       "    .dataframe tbody tr th {\n",
       "        vertical-align: top;\n",
       "    }\n",
       "\n",
       "    .dataframe thead th {\n",
       "        text-align: right;\n",
       "    }\n",
       "</style>\n",
       "<table border=\"1\" class=\"dataframe\">\n",
       "  <thead>\n",
       "    <tr style=\"text-align: right;\">\n",
       "      <th></th>\n",
       "      <th>titulo</th>\n",
       "      <th>descripcion</th>\n",
       "      <th>tipodepropiedad</th>\n",
       "      <th>ciudad</th>\n",
       "      <th>provincia</th>\n",
       "      <th>antiguedad</th>\n",
       "      <th>habitaciones</th>\n",
       "      <th>garages</th>\n",
       "      <th>banos</th>\n",
       "      <th>metroscubiertos</th>\n",
       "      <th>metrostotales</th>\n",
       "      <th>fecha</th>\n",
       "      <th>gimnasio</th>\n",
       "      <th>usosmultiples</th>\n",
       "      <th>piscina</th>\n",
       "      <th>escuelascercanas</th>\n",
       "      <th>centroscomercialescercanos</th>\n",
       "      <th>precio</th>\n",
       "    </tr>\n",
       "    <tr>\n",
       "      <th>id</th>\n",
       "      <th></th>\n",
       "      <th></th>\n",
       "      <th></th>\n",
       "      <th></th>\n",
       "      <th></th>\n",
       "      <th></th>\n",
       "      <th></th>\n",
       "      <th></th>\n",
       "      <th></th>\n",
       "      <th></th>\n",
       "      <th></th>\n",
       "      <th></th>\n",
       "      <th></th>\n",
       "      <th></th>\n",
       "      <th></th>\n",
       "      <th></th>\n",
       "      <th></th>\n",
       "      <th></th>\n",
       "    </tr>\n",
       "  </thead>\n",
       "  <tbody>\n",
       "  </tbody>\n",
       "</table>\n",
       "</div>"
      ],
      "text/plain": [
       "Empty DataFrame\n",
       "Columns: [titulo, descripcion, tipodepropiedad, ciudad, provincia, antiguedad, habitaciones, garages, banos, metroscubiertos, metrostotales, fecha, gimnasio, usosmultiples, piscina, escuelascercanas, centroscomercialescercanos, precio]\n",
       "Index: []"
      ]
     },
     "execution_count": 101,
     "metadata": {},
     "output_type": "execute_result"
    }
   ],
   "source": [
    "# Dato importante y valioso: No hay ninguna casa que no tenga especificado ni metros cubiertos ni totales\n",
    "# Esto me asegura que no tengo que limpiar datos, ya que si no hubiese tenido ninguno hubiese sido dato invalido\n",
    "# Conociendo uno de los dos valores, puedo intentar asumir el otro con alguna decision.\n",
    "df[(df['metroscubiertos'].isnull()) & (df['metrostotales'].isnull())].head()"
   ]
  },
  {
   "cell_type": "code",
   "execution_count": 102,
   "metadata": {},
   "outputs": [
    {
     "data": {
      "text/plain": [
       "Terreno                          6940\n",
       "Casa                             6532\n",
       "Terreno comercial                 851\n",
       "Apartamento                       823\n",
       "Edificio                          676\n",
       "Casa en condominio                593\n",
       "Local Comercial                   320\n",
       "Bodega comercial                  293\n",
       "Oficina comercial                 116\n",
       "Casa uso de suelo                  99\n",
       "Otros                              46\n",
       "Inmuebles productivos urbanos      35\n",
       "Quinta Vacacional                  13\n",
       "Nave industrial                    12\n",
       "Terreno industrial                  9\n",
       "Villa                               7\n",
       "Duplex                              5\n",
       "Local en centro comercial           5\n",
       "Lote                                5\n",
       "Rancho                              4\n",
       "Departamento Compartido             2\n",
       "Huerta                              0\n",
       "Hospedaje                           0\n",
       "Garage                              0\n",
       "Name: tipodepropiedad, dtype: int64"
      ]
     },
     "execution_count": 102,
     "metadata": {},
     "output_type": "execute_result"
    }
   ],
   "source": [
    "# Tiene sentido que los terrenos no tengan metros cubiertos. \n",
    "# Pero como una casa, un edificio, y cualquier otra cosa que no sea un terreno no tiene metros cubiertos? \n",
    "# Y ya demostre en uno de los graficos que los metros cubiertos y totales son lo que mas influyen en el precio. \n",
    "# Esto, a mi criterio, convierte estos datos en invalidos.\n",
    "df[df.metroscubiertos.isnull()]['tipodepropiedad'].value_counts()"
   ]
  },
  {
   "cell_type": "code",
   "execution_count": 103,
   "metadata": {},
   "outputs": [
    {
     "data": {
      "text/plain": [
       "(230391, 18)"
      ]
     },
     "execution_count": 103,
     "metadata": {},
     "output_type": "execute_result"
    }
   ],
   "source": [
    "# Extraigo todos aquellas propiedades que tienen metroscubiertos nulos y no son terrenos. \n",
    "# Quizas en vez de extraerlos, se podria asumir que los metros totales son todos cubiertos.\n",
    "indices_invalidos = df[(df.metroscubiertos.isnull()) & (~df.tipodepropiedad.isin(['Terreno','Terreno comercial']))].index\n",
    "df.drop(index=indices_invalidos, inplace=True)\n",
    "df.shape"
   ]
  },
  {
   "cell_type": "code",
   "execution_count": 104,
   "metadata": {},
   "outputs": [
    {
     "data": {
      "text/plain": [
       "(230055, 18)"
      ]
     },
     "execution_count": 104,
     "metadata": {},
     "output_type": "execute_result"
    }
   ],
   "source": [
    "# No tiene sentido que una casa no tenga ciudad ni provincia, ya que son datos que influyen en el precio\n",
    "# y no se pueden deducir de otro lado, ademas, son pocos\n",
    "df.dropna(subset=['ciudad','provincia'], inplace=True)\n",
    "df.shape"
   ]
  },
  {
   "cell_type": "code",
   "execution_count": 105,
   "metadata": {},
   "outputs": [],
   "source": [
    "# Es imposible que cualquier inmueble tenga metroscubiertos, y no tenga metros totales.\n",
    "# Para esos casos, le asigno la misma cantidad de metros cubiertos que totales, osea no tiene metros descubiertos.\n",
    "df['metrostotales'].fillna(df['metroscubiertos'], inplace=True)"
   ]
  },
  {
   "cell_type": "code",
   "execution_count": 106,
   "metadata": {},
   "outputs": [
    {
     "data": {
      "text/plain": [
       "titulo                         5071\n",
       "descripcion                    1484\n",
       "tipodepropiedad                  19\n",
       "ciudad                            0\n",
       "provincia                         0\n",
       "antiguedad                    41416\n",
       "habitaciones                  20540\n",
       "garages                       34150\n",
       "banos                         23077\n",
       "metroscubiertos                7777\n",
       "metrostotales                     0\n",
       "fecha                             0\n",
       "gimnasio                          0\n",
       "usosmultiples                     0\n",
       "piscina                           0\n",
       "escuelascercanas                  0\n",
       "centroscomercialescercanos        0\n",
       "precio                            0\n",
       "dtype: int64"
      ]
     },
     "execution_count": 106,
     "metadata": {},
     "output_type": "execute_result"
    }
   ],
   "source": [
    "# Despues de estos pequeños arreglos, se reducen la cantidad de nulos. Si bien siguen habiendo, \n",
    "df.isnull().sum()"
   ]
  },
  {
   "cell_type": "code",
   "execution_count": 107,
   "metadata": {},
   "outputs": [],
   "source": [
    "# El resto de filas con metros cubiertos, son terrenos. Deberian tener 0 metros cubiertos.\n",
    "df['metroscubiertos'].fillna(0, inplace=True)"
   ]
  },
  {
   "cell_type": "code",
   "execution_count": 108,
   "metadata": {},
   "outputs": [],
   "source": [
    "# Aquellas casas que no tienen el tipodepropiedad, son solo 19. Podria intentar sacar el tipo de prop\n",
    "# desde la descripcion pero no estaria seguro al respecto. Siendo solo 19, las elimino.\n",
    "df.dropna(subset=['tipodepropiedad'],inplace=True)"
   ]
  },
  {
   "cell_type": "code",
   "execution_count": 109,
   "metadata": {},
   "outputs": [
    {
     "data": {
      "text/plain": [
       "(230036, 18)"
      ]
     },
     "execution_count": 109,
     "metadata": {},
     "output_type": "execute_result"
    }
   ],
   "source": [
    "df.shape"
   ]
  },
  {
   "cell_type": "code",
   "execution_count": 110,
   "metadata": {},
   "outputs": [],
   "source": [
    "# Para banos y habitaciones, completo los nulos con la moda agrupando por tipo de propiedad y ciudad.\n",
    "# En caso de que no este en ninguno de esos, le asigno la moda por tipo de propiedad.\n",
    "\n",
    "df['banos'] = df.groupby(['tipodepropiedad','ciudad'])['banos'].transform(lambda x: x.fillna(x.mode()))\n",
    "df['habitaciones'] = df.groupby(['tipodepropiedad','ciudad'])['habitaciones'].transform(lambda x: x.fillna(x.mode()))\n",
    "df['banos'] = df.groupby(['tipodepropiedad'])['banos'].transform(lambda x: x.fillna(x.mode()))\n",
    "df['habitaciones'] = df.groupby(['tipodepropiedad'])['habitaciones'].transform(lambda x: x.fillna(x.mode()))"
   ]
  },
  {
   "cell_type": "code",
   "execution_count": 111,
   "metadata": {
    "scrolled": true
   },
   "outputs": [
    {
     "data": {
      "text/plain": [
       "titulo                         5071\n",
       "descripcion                    1483\n",
       "tipodepropiedad                   0\n",
       "ciudad                            0\n",
       "provincia                         0\n",
       "antiguedad                    41400\n",
       "habitaciones                  20533\n",
       "garages                       34135\n",
       "banos                         23063\n",
       "metroscubiertos                   0\n",
       "metrostotales                     0\n",
       "fecha                             0\n",
       "gimnasio                          0\n",
       "usosmultiples                     0\n",
       "piscina                           0\n",
       "escuelascercanas                  0\n",
       "centroscomercialescercanos        0\n",
       "precio                            0\n",
       "dtype: int64"
      ]
     },
     "execution_count": 111,
     "metadata": {},
     "output_type": "execute_result"
    }
   ],
   "source": [
    "df.isnull().sum()"
   ]
  },
  {
   "cell_type": "code",
   "execution_count": 112,
   "metadata": {},
   "outputs": [
    {
     "data": {
      "text/plain": [
       "(16294, 18)"
      ]
     },
     "execution_count": 112,
     "metadata": {},
     "output_type": "execute_result"
    }
   ],
   "source": [
    "# 17964 registros sin banos ni habitaciones completados. Analizo eso:\n",
    "# Hay alguno con ambos nulos?\n",
    "df[(df.banos.isnull())&(df.habitaciones.isnull())].shape\n",
    "# Esos 17964 coinciden."
   ]
  },
  {
   "cell_type": "code",
   "execution_count": 113,
   "metadata": {},
   "outputs": [
    {
     "data": {
      "text/plain": [
       "tipodepropiedad\n",
       "Apartamento                      1220\n",
       "Bodega comercial                  469\n",
       "Casa                             6897\n",
       "Casa en condominio                687\n",
       "Casa uso de suelo                 112\n",
       "Departamento Compartido             6\n",
       "Duplex                              5\n",
       "Edificio                          462\n",
       "Huerta                             12\n",
       "Inmuebles productivos urbanos      96\n",
       "Local Comercial                  1532\n",
       "Local en centro comercial         118\n",
       "Lote                                0\n",
       "Nave industrial                    25\n",
       "Oficina comercial                 693\n",
       "Otros                              35\n",
       "Quinta Vacacional                  48\n",
       "Rancho                             32\n",
       "Terreno                          9417\n",
       "Terreno comercial                1143\n",
       "Terreno industrial                 14\n",
       "Villa                              38\n",
       "Hospedaje                           1\n",
       "Garage                              1\n",
       "dtype: int64"
      ]
     },
     "execution_count": 113,
     "metadata": {},
     "output_type": "execute_result"
    }
   ],
   "source": [
    "# Registros sin baño agrupados por tipo de propiedad.\n",
    "df[df.banos.isnull()].groupby('tipodepropiedad').size()"
   ]
  },
  {
   "cell_type": "code",
   "execution_count": 114,
   "metadata": {},
   "outputs": [
    {
     "data": {
      "text/plain": [
       "20533"
      ]
     },
     "execution_count": 114,
     "metadata": {},
     "output_type": "execute_result"
    }
   ],
   "source": [
    "# Causalmente, todos esos nulos corresponden a inmuebles no habitables. Es raro suponer que no tienen baño, pero asumimos\n",
    "# que ese None, es algo que no modifica el valor del inmueble. No cambia para un local su valor si tiene o no baño.\n",
    "df[df.habitaciones.isnull()].groupby('tipodepropiedad').size().sum()"
   ]
  },
  {
   "cell_type": "code",
   "execution_count": 115,
   "metadata": {},
   "outputs": [
    {
     "data": {
      "text/plain": [
       "3.00     376\n",
       "1.00     361\n",
       "2.00     360\n",
       "4.00     213\n",
       "5.00     122\n",
       "6.00      87\n",
       "10.00     63\n",
       "8.00      42\n",
       "7.00      33\n",
       "9.00      26\n",
       "Name: habitaciones, dtype: int64"
      ]
     },
     "execution_count": 115,
     "metadata": {},
     "output_type": "execute_result"
    }
   ],
   "source": [
    "# La idea es ver si alguno que no sea habitable, tiene baños distinto de None para ver como reemplazar los otros nan.\n",
    "# Por habitable me refiero a propiedades donde vive gente.\n",
    "\n",
    "habitables = ['Casa','Apartamento','Casa en condominio','Casa uso de suelo','Quinta Vacacional','Villa','Duplex','Rancho','Departamento Compartido']\n",
    "\n",
    "df[~df.tipodepropiedad.isin(habitables)]['habitaciones'].value_counts()"
   ]
  },
  {
   "cell_type": "code",
   "execution_count": 116,
   "metadata": {},
   "outputs": [],
   "source": [
    "# Tomo la decision de llenar los banos y habitaciones nulos, ya demostrado que corresponden a inmuebles no habitables,\n",
    "# con el valor 0. Al margen de llenar los nulos, clarmaente son datos que no van a interesar para el analisis de este tipo de \n",
    "# propiedades.\n",
    "df.banos.fillna(0, inplace = True)\n",
    "df.habitaciones.fillna(0, inplace = True)"
   ]
  },
  {
   "cell_type": "code",
   "execution_count": 117,
   "metadata": {
    "scrolled": true
   },
   "outputs": [
    {
     "data": {
      "text/plain": [
       "titulo                         5071\n",
       "descripcion                    1483\n",
       "tipodepropiedad                   0\n",
       "ciudad                            0\n",
       "provincia                         0\n",
       "antiguedad                    41400\n",
       "habitaciones                      0\n",
       "garages                       34135\n",
       "banos                             0\n",
       "metroscubiertos                   0\n",
       "metrostotales                     0\n",
       "fecha                             0\n",
       "gimnasio                          0\n",
       "usosmultiples                     0\n",
       "piscina                           0\n",
       "escuelascercanas                  0\n",
       "centroscomercialescercanos        0\n",
       "precio                            0\n",
       "dtype: int64"
      ]
     },
     "execution_count": 117,
     "metadata": {},
     "output_type": "execute_result"
    }
   ],
   "source": [
    "df.isnull().sum()"
   ]
  },
  {
   "cell_type": "code",
   "execution_count": 118,
   "metadata": {},
   "outputs": [
    {
     "data": {
      "text/plain": [
       "tipodepropiedad\n",
       "Apartamento                       3543\n",
       "Bodega comercial                   393\n",
       "Casa                             21600\n",
       "Casa en condominio                2973\n",
       "Casa uso de suelo                  189\n",
       "Departamento Compartido              4\n",
       "Duplex                               7\n",
       "Edificio                           233\n",
       "Huerta                               5\n",
       "Inmuebles productivos urbanos       45\n",
       "Local Comercial                   1060\n",
       "Local en centro comercial           42\n",
       "Lote                                 0\n",
       "Nave industrial                     18\n",
       "Oficina comercial                  473\n",
       "Otros                               48\n",
       "Quinta Vacacional                  237\n",
       "Rancho                              93\n",
       "Terreno                           2397\n",
       "Terreno comercial                  604\n",
       "Terreno industrial                  17\n",
       "Villa                              154\n",
       "Hospedaje                            0\n",
       "Garage                               0\n",
       "dtype: int64"
      ]
     },
     "execution_count": 118,
     "metadata": {},
     "output_type": "execute_result"
    }
   ],
   "source": [
    "# Ahora voy a analizar los garages nulos. \n",
    "df[df.garages.isnull()].groupby('tipodepropiedad').size()"
   ]
  },
  {
   "cell_type": "code",
   "execution_count": 119,
   "metadata": {},
   "outputs": [
    {
     "data": {
      "text/html": [
       "<div>\n",
       "<style scoped>\n",
       "    .dataframe tbody tr th:only-of-type {\n",
       "        vertical-align: middle;\n",
       "    }\n",
       "\n",
       "    .dataframe tbody tr th {\n",
       "        vertical-align: top;\n",
       "    }\n",
       "\n",
       "    .dataframe thead th {\n",
       "        text-align: right;\n",
       "    }\n",
       "</style>\n",
       "<table border=\"1\" class=\"dataframe\">\n",
       "  <thead>\n",
       "    <tr style=\"text-align: right;\">\n",
       "      <th></th>\n",
       "      <th></th>\n",
       "      <th>garages</th>\n",
       "    </tr>\n",
       "    <tr>\n",
       "      <th>tipodepropiedad</th>\n",
       "      <th>ciudad</th>\n",
       "      <th></th>\n",
       "    </tr>\n",
       "  </thead>\n",
       "  <tbody>\n",
       "    <tr>\n",
       "      <td rowspan=\"5\" valign=\"top\">Apartamento</td>\n",
       "      <td>Abalá</td>\n",
       "      <td>nan</td>\n",
       "    </tr>\n",
       "    <tr>\n",
       "      <td>Abasolo</td>\n",
       "      <td>nan</td>\n",
       "    </tr>\n",
       "    <tr>\n",
       "      <td>Acajete</td>\n",
       "      <td>1.00</td>\n",
       "    </tr>\n",
       "    <tr>\n",
       "      <td>Acambay</td>\n",
       "      <td>2.00</td>\n",
       "    </tr>\n",
       "    <tr>\n",
       "      <td>Acapulco de Juárez</td>\n",
       "      <td>1.29</td>\n",
       "    </tr>\n",
       "    <tr>\n",
       "      <td>...</td>\n",
       "      <td>...</td>\n",
       "      <td>...</td>\n",
       "    </tr>\n",
       "    <tr>\n",
       "      <td rowspan=\"5\" valign=\"top\">Garage</td>\n",
       "      <td>San Luis de la Paz</td>\n",
       "      <td>nan</td>\n",
       "    </tr>\n",
       "    <tr>\n",
       "      <td>San Matías Tlalancaleca</td>\n",
       "      <td>nan</td>\n",
       "    </tr>\n",
       "    <tr>\n",
       "      <td>San Pedro</td>\n",
       "      <td>nan</td>\n",
       "    </tr>\n",
       "    <tr>\n",
       "      <td>Sombrerete</td>\n",
       "      <td>nan</td>\n",
       "    </tr>\n",
       "    <tr>\n",
       "      <td>ZirAndaro</td>\n",
       "      <td>nan</td>\n",
       "    </tr>\n",
       "  </tbody>\n",
       "</table>\n",
       "<p>21000 rows × 1 columns</p>\n",
       "</div>"
      ],
      "text/plain": [
       "                                         garages\n",
       "tipodepropiedad ciudad                          \n",
       "Apartamento     Abalá                        nan\n",
       "                Abasolo                      nan\n",
       "                Acajete                     1.00\n",
       "                Acambay                     2.00\n",
       "                Acapulco de Juárez          1.29\n",
       "...                                          ...\n",
       "Garage          San Luis de la Paz           nan\n",
       "                San Matías Tlalancaleca      nan\n",
       "                San Pedro                    nan\n",
       "                Sombrerete                   nan\n",
       "                ZirAndaro                    nan\n",
       "\n",
       "[21000 rows x 1 columns]"
      ]
     },
     "execution_count": 119,
     "metadata": {},
     "output_type": "execute_result"
    }
   ],
   "source": [
    "# De aca se puede ver informacion importante: Segun la ciudad y el tipo de propiedad, varia bastante la cantidad de garages\n",
    "# de una casa.\n",
    "df.groupby(['tipodepropiedad','ciudad']).agg({'garages':'mean'})"
   ]
  },
  {
   "cell_type": "code",
   "execution_count": 120,
   "metadata": {},
   "outputs": [
    {
     "data": {
      "text/plain": [
       "2.00    85887\n",
       "1.00    56953\n",
       "3.00    47212\n",
       "0.00    23063\n",
       "4.00    16921\n",
       "Name: banos, dtype: int64"
      ]
     },
     "execution_count": 120,
     "metadata": {},
     "output_type": "execute_result"
    }
   ],
   "source": [
    "# Tomo la decision de completar aquellos valores de garage nulos, con el promedio de garages para ese tipo de propiedad,\n",
    "# en la ciudad en que se encuentre.\n",
    "df['garages'] = df.groupby(['tipodepropiedad','ciudad'])['garages'].transform(lambda x: x.fillna(x.mode()))\n",
    "\n",
    "df['banos'].value_counts()"
   ]
  },
  {
   "cell_type": "code",
   "execution_count": 121,
   "metadata": {},
   "outputs": [],
   "source": [
    "# Para aquellos registros que registraban de promedio nan, osea ninguno tenia, los relleno con 0 como valor de garage.\n",
    "df['garages'].fillna(0, inplace=True)"
   ]
  },
  {
   "cell_type": "code",
   "execution_count": 122,
   "metadata": {},
   "outputs": [
    {
     "data": {
      "text/plain": [
       "titulo                         5071\n",
       "descripcion                    1483\n",
       "tipodepropiedad                   0\n",
       "ciudad                            0\n",
       "provincia                         0\n",
       "antiguedad                    41400\n",
       "habitaciones                      0\n",
       "garages                           0\n",
       "banos                             0\n",
       "metroscubiertos                   0\n",
       "metrostotales                     0\n",
       "fecha                             0\n",
       "gimnasio                          0\n",
       "usosmultiples                     0\n",
       "piscina                           0\n",
       "escuelascercanas                  0\n",
       "centroscomercialescercanos        0\n",
       "precio                            0\n",
       "dtype: int64"
      ]
     },
     "execution_count": 122,
     "metadata": {},
     "output_type": "execute_result"
    }
   ],
   "source": [
    "# Solo me queda revisar los nulos de antiguedad. Son muchisimos. \n",
    "df.isnull().sum()"
   ]
  },
  {
   "cell_type": "code",
   "execution_count": 123,
   "metadata": {
    "scrolled": true
   },
   "outputs": [],
   "source": [
    "# La decision que voy a tomar para esos nulos, es similar a la de los garages. Voy a rellenar los nulos con el promedio\n",
    "# de antiguedad para ese tipo de propiedad y esa ciudad en la que esta ubicada la propiedad.\n",
    "# No se que tanto sentido tenga asignarle valores asi a la antiguedad porque de verdad estoy modificando de una forma que\n",
    "# no necesariamente sea correcta\n",
    "\n",
    "\n",
    "# df.groupby(['tipodepropiedad','ciudad']).agg({'antiguedad':'mean'})"
   ]
  },
  {
   "cell_type": "code",
   "execution_count": 124,
   "metadata": {},
   "outputs": [],
   "source": [
    "# df['antiguedad'] = df.groupby(['tipodepropiedad','ciudad'])['antiguedad'].transform(lambda x: x.fillna(x.mean()))"
   ]
  },
  {
   "cell_type": "code",
   "execution_count": 125,
   "metadata": {
    "scrolled": false
   },
   "outputs": [
    {
     "data": {
      "text/plain": [
       "titulo                         5071\n",
       "descripcion                    1483\n",
       "tipodepropiedad                   0\n",
       "ciudad                            0\n",
       "provincia                         0\n",
       "antiguedad                    41400\n",
       "habitaciones                      0\n",
       "garages                           0\n",
       "banos                             0\n",
       "metroscubiertos                   0\n",
       "metrostotales                     0\n",
       "fecha                             0\n",
       "gimnasio                          0\n",
       "usosmultiples                     0\n",
       "piscina                           0\n",
       "escuelascercanas                  0\n",
       "centroscomercialescercanos        0\n",
       "precio                            0\n",
       "dtype: int64"
      ]
     },
     "execution_count": 125,
     "metadata": {},
     "output_type": "execute_result"
    }
   ],
   "source": [
    "df.isnull().sum()"
   ]
  },
  {
   "cell_type": "code",
   "execution_count": 126,
   "metadata": {},
   "outputs": [
    {
     "data": {
      "text/html": [
       "<div>\n",
       "<style scoped>\n",
       "    .dataframe tbody tr th:only-of-type {\n",
       "        vertical-align: middle;\n",
       "    }\n",
       "\n",
       "    .dataframe tbody tr th {\n",
       "        vertical-align: top;\n",
       "    }\n",
       "\n",
       "    .dataframe thead th {\n",
       "        text-align: right;\n",
       "    }\n",
       "</style>\n",
       "<table border=\"1\" class=\"dataframe\">\n",
       "  <thead>\n",
       "    <tr style=\"text-align: right;\">\n",
       "      <th></th>\n",
       "      <th>antiguedad</th>\n",
       "      <th>habitaciones</th>\n",
       "      <th>garages</th>\n",
       "      <th>banos</th>\n",
       "      <th>metroscubiertos</th>\n",
       "      <th>metrostotales</th>\n",
       "      <th>precio</th>\n",
       "    </tr>\n",
       "  </thead>\n",
       "  <tbody>\n",
       "    <tr>\n",
       "      <td>count</td>\n",
       "      <td>188636.00</td>\n",
       "      <td>230036.00</td>\n",
       "      <td>230036.00</td>\n",
       "      <td>230036.00</td>\n",
       "      <td>230036.00</td>\n",
       "      <td>230036.00</td>\n",
       "      <td>230036.00</td>\n",
       "    </tr>\n",
       "    <tr>\n",
       "      <td>mean</td>\n",
       "      <td>8.03</td>\n",
       "      <td>2.62</td>\n",
       "      <td>1.32</td>\n",
       "      <td>1.90</td>\n",
       "      <td>168.10</td>\n",
       "      <td>173.75</td>\n",
       "      <td>2449120.60</td>\n",
       "    </tr>\n",
       "    <tr>\n",
       "      <td>std</td>\n",
       "      <td>9.45</td>\n",
       "      <td>1.16</td>\n",
       "      <td>0.95</td>\n",
       "      <td>1.07</td>\n",
       "      <td>101.47</td>\n",
       "      <td>96.54</td>\n",
       "      <td>2060857.69</td>\n",
       "    </tr>\n",
       "    <tr>\n",
       "      <td>min</td>\n",
       "      <td>0.00</td>\n",
       "      <td>0.00</td>\n",
       "      <td>0.00</td>\n",
       "      <td>0.00</td>\n",
       "      <td>0.00</td>\n",
       "      <td>15.00</td>\n",
       "      <td>310000.00</td>\n",
       "    </tr>\n",
       "    <tr>\n",
       "      <td>25%</td>\n",
       "      <td>0.00</td>\n",
       "      <td>2.00</td>\n",
       "      <td>0.00</td>\n",
       "      <td>1.00</td>\n",
       "      <td>86.00</td>\n",
       "      <td>97.00</td>\n",
       "      <td>950000.00</td>\n",
       "    </tr>\n",
       "    <tr>\n",
       "      <td>50%</td>\n",
       "      <td>5.00</td>\n",
       "      <td>3.00</td>\n",
       "      <td>1.00</td>\n",
       "      <td>2.00</td>\n",
       "      <td>150.00</td>\n",
       "      <td>150.00</td>\n",
       "      <td>1800000.00</td>\n",
       "    </tr>\n",
       "    <tr>\n",
       "      <td>75%</td>\n",
       "      <td>10.00</td>\n",
       "      <td>3.00</td>\n",
       "      <td>2.00</td>\n",
       "      <td>3.00</td>\n",
       "      <td>236.00</td>\n",
       "      <td>235.00</td>\n",
       "      <td>3250000.00</td>\n",
       "    </tr>\n",
       "    <tr>\n",
       "      <td>max</td>\n",
       "      <td>80.00</td>\n",
       "      <td>10.00</td>\n",
       "      <td>3.00</td>\n",
       "      <td>4.00</td>\n",
       "      <td>439.00</td>\n",
       "      <td>439.00</td>\n",
       "      <td>12525000.00</td>\n",
       "    </tr>\n",
       "  </tbody>\n",
       "</table>\n",
       "</div>"
      ],
      "text/plain": [
       "       antiguedad  habitaciones   garages     banos  metroscubiertos  \\\n",
       "count   188636.00     230036.00 230036.00 230036.00        230036.00   \n",
       "mean         8.03          2.62      1.32      1.90           168.10   \n",
       "std          9.45          1.16      0.95      1.07           101.47   \n",
       "min          0.00          0.00      0.00      0.00             0.00   \n",
       "25%          0.00          2.00      0.00      1.00            86.00   \n",
       "50%          5.00          3.00      1.00      2.00           150.00   \n",
       "75%         10.00          3.00      2.00      3.00           236.00   \n",
       "max         80.00         10.00      3.00      4.00           439.00   \n",
       "\n",
       "       metrostotales      precio  \n",
       "count      230036.00   230036.00  \n",
       "mean          173.75  2449120.60  \n",
       "std            96.54  2060857.69  \n",
       "min            15.00   310000.00  \n",
       "25%            97.00   950000.00  \n",
       "50%           150.00  1800000.00  \n",
       "75%           235.00  3250000.00  \n",
       "max           439.00 12525000.00  "
      ]
     },
     "execution_count": 126,
     "metadata": {},
     "output_type": "execute_result"
    }
   ],
   "source": [
    "# Se puede ver mucha informacion importante aca. \n",
    "# Por ejemplo, la diferencia abismal que hay entre el tercer cuantil y el maximo de precio.\n",
    "# Deberia seguir mirando un poco mas\n",
    "df.describe()"
   ]
  },
  {
   "cell_type": "code",
   "execution_count": 127,
   "metadata": {},
   "outputs": [
    {
     "name": "stdout",
     "output_type": "stream",
     "text": [
      "El percentil 0.99:  10000000.0\n",
      "El percentil 0.01:  340000.0\n",
      "El maximo:  12525000.0\n",
      "El minimo:  310000.0\n",
      "Maximo / Percentil 0.99 1.2525\n",
      "Percentil 0.01 / Minimo 1.096774193548387\n",
      "Cantidad de registros por debajo del percentil 0.01:  (2181, 18)\n",
      "Cantidad de registros por encima del percentil 0.99:  (2140, 18)\n"
     ]
    }
   ],
   "source": [
    "# Antes de empezar a analizar los datos, deberia intentar detectar outliers en cuanto al precio.\n",
    "print('El percentil 0.99: ',df.precio.quantile(0.99))\n",
    "print('El percentil 0.01: ',df.precio.quantile(0.01))\n",
    "print('El maximo: ', df.precio.max())\n",
    "print('El minimo: ', df.precio.min())\n",
    "print('Maximo / Percentil 0.99', df.precio.max()/df.precio.quantile(0.99))\n",
    "print('Percentil 0.01 / Minimo', df.precio.quantile(0.01)/df.precio.min())\n",
    "print('Cantidad de registros por debajo del percentil 0.01: ', df[df['precio']<df.precio.quantile(0.01)].shape)\n",
    "print('Cantidad de registros por encima del percentil 0.99: ', df[df['precio']>df.precio.quantile(0.99)].shape)"
   ]
  },
  {
   "cell_type": "code",
   "execution_count": 128,
   "metadata": {},
   "outputs": [
    {
     "data": {
      "image/png": "[encoded data removed]",
      "text/plain": [
       "<Figure size 1440x576 with 1 Axes>"
      ]
     },
     "metadata": {
      "needs_background": "light"
     },
     "output_type": "display_data"
    }
   ],
   "source": [
    "# Un boxplot ayuda a poder detectar estos outliers.\n",
    "\n",
    "df['precio_m2'] = df['precio']/df['metrostotales']\n",
    "\n",
    "def plot_outliers(df):\n",
    "    fig, ax = plt.subplots(figsize=(20,8))\n",
    "    green_diamond = dict(markerfacecolor='g', marker='D')\n",
    "    df_g1 = df.copy()\n",
    "    df_g1 = df[df['tipodepropiedad'].isin(['Casa','Apartamento','Edificio','Casa en condominio','Duplex','Terreno','Terreno comercial'])]\n",
    "    df_g1.tipodepropiedad.cat.remove_unused_categories(inplace=True)\n",
    "    df_g1.boxplot(column='precio_m2', by='tipodepropiedad', ax=ax, flierprops=green_diamond, notch=True)\n",
    "    ax.set_title('')\n",
    "    fig.suptitle('')\n",
    "    ax.set_xlabel('')\n",
    "    ax.set_ylabel('')\n",
    "    \n",
    "plot_outliers(df)"
   ]
  },
  {
   "cell_type": "code",
   "execution_count": null,
   "metadata": {
    "scrolled": true
   },
   "outputs": [],
   "source": [
    "# Filtro los outliers, usando maximos y minimos en base al cuantil 1 y 3 y el IQR.\n",
    "print('Antes de filtrar: ', df.shape)\n",
    "\n",
    "def is_outlier(group):\n",
    "    print(group)\n",
    "    Q1 = group.quantile(0.25)\n",
    "    Q3 = group.quantile(0.75)\n",
    "    IQR = Q3 - Q1\n",
    "    precio_min = Q1 - 1.5 * IQR\n",
    "    precio_max = Q3 + 1.5 * IQR\n",
    "    return ~group.between(precio_min, precio_max)\n",
    "\n",
    "df = df[~df.groupby('tipodepropiedad')['precio_m2'].apply(is_outlier)]\n",
    "\n",
    "print('Despues de filtrar: ', df.shape)"
   ]
  },
  {
   "cell_type": "code",
   "execution_count": null,
   "metadata": {
    "scrolled": true
   },
   "outputs": [],
   "source": [
    "# Vuelvo a graficar, para ver como cambiaron los outliers.\n",
    "plot_outliers(df)"
   ]
  },
  {
   "cell_type": "code",
   "execution_count": null,
   "metadata": {},
   "outputs": [],
   "source": [
    "#Lleno los nulos de antiguedad con 0. Supongo que son todos nuevos.\n",
    "df['antiguedad'].fillna(0, inplace=True)\n",
    "\n",
    "# Quedaron solo 517 con antiguedad nula. Los reviso:\n",
    "# df[df['antiguedad'].isnull()]\n",
    "\n",
    "# Para estos restantes, tomo la decision de rellenarlos de acuerdo a el promedio de antiguedad segun el tipo de prop y la prov\n",
    "\n",
    "# df['antiguedad'] = df.groupby(['tipodepropiedad','provincia'])['antiguedad'].transform(lambda x: x.fillna(x.mean()))"
   ]
  },
  {
   "cell_type": "code",
   "execution_count": 132,
   "metadata": {},
   "outputs": [],
   "source": [
    "# df.isnull().sum()"
   ]
  },
  {
   "cell_type": "code",
   "execution_count": 133,
   "metadata": {},
   "outputs": [],
   "source": [
    "# Los restantes, los elimino ya que son pocos y no puedo fijarle una antiguedad de forma tan directa\n",
    "# df.dropna(subset=['antiguedad'], inplace=True)"
   ]
  },
  {
   "cell_type": "code",
   "execution_count": 134,
   "metadata": {},
   "outputs": [
    {
     "data": {
      "text/plain": [
       "titulo                        4900\n",
       "descripcion                   1437\n",
       "tipodepropiedad                  0\n",
       "ciudad                           0\n",
       "provincia                        0\n",
       "antiguedad                       0\n",
       "habitaciones                     0\n",
       "garages                          0\n",
       "banos                            0\n",
       "metroscubiertos                  0\n",
       "metrostotales                    0\n",
       "fecha                            0\n",
       "gimnasio                         0\n",
       "usosmultiples                    0\n",
       "piscina                          0\n",
       "escuelascercanas                 0\n",
       "centroscomercialescercanos       0\n",
       "precio                           0\n",
       "precio_m2                        0\n",
       "dtype: int64"
      ]
     },
     "execution_count": 134,
     "metadata": {},
     "output_type": "execute_result"
    }
   ],
   "source": [
    "df.isnull().sum()"
   ]
  },
  {
   "cell_type": "code",
   "execution_count": 135,
   "metadata": {},
   "outputs": [],
   "source": [
    "# Hay 70000 filas en las que los metros totales son menores a los cubiertos. Esto es invalido. La realidad es que son muchas\n",
    "# filas, por lo tano les seteo como metros totales, la misma cantidad que cubiertos.\n",
    "\n",
    "df.loc[df['metrostotales']<df['metroscubiertos'], 'metrostotales'] = df['metroscubiertos']\n"
   ]
  },
  {
   "cell_type": "code",
   "execution_count": 136,
   "metadata": {},
   "outputs": [],
   "source": [
    "# Aca deberia ir seteando las columnas nuevas que me parezcan utiles para analisis.\n",
    "# Ideas: Precio por metro total, o agregar una columna con la cantidad de extras que tenga la casa.\n",
    "df['precio_dolar'] = df['precio']/VALOR_CAMBIO_A_DOLAR\n",
    "df['precio_m2'] = df['precio']/df['metrostotales']\n",
    "df['extras'] = df['garages']+df['piscina']+df['usosmultiples']+df['gimnasio']\n"
   ]
  }
 ],
 "metadata": {
  "kernelspec": {
   "display_name": "Python 3",
   "language": "python",
   "name": "python3"
  },
  "language_info": {
   "codemirror_mode": {
    "name": "ipython",
    "version": 3
   },
   "file_extension": ".py",
   "mimetype": "text/x-python",
   "name": "python",
   "nbconvert_exporter": "python",
   "pygments_lexer": "ipython3",
   "version": "3.6.7"
  }
 },
 "nbformat": 4,
 "nbformat_minor": 2
}
