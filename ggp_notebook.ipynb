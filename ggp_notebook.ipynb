{
 "cells": [
  {
   "cell_type": "code",
   "execution_count": 154,
   "metadata": {},
   "outputs": [],
   "source": [
    "import numpy as np\n",
    "import pandas as pd\n",
    "import matplotlib.pyplot as plt\n",
    "import seaborn as sns\n",
    "import datetime as datetime\n",
    "import sys\n",
    "\n",
    "VALOR_CAMBIO_A_DOLAR = 19.54"
   ]
  },
  {
   "cell_type": "code",
   "execution_count": 155,
   "metadata": {},
   "outputs": [
    {
     "name": "stdout",
     "output_type": "stream",
     "text": [
      "<class 'pandas.core.frame.DataFrame'>\n",
      "Int64Index: 240000 entries, 254099 to 121958\n",
      "Data columns (total 22 columns):\n",
      "titulo                        234613 non-null object\n",
      "descripcion                   238381 non-null object\n",
      "tipodepropiedad               239954 non-null category\n",
      "direccion                     186928 non-null object\n",
      "ciudad                        239628 non-null category\n",
      "provincia                     239845 non-null category\n",
      "antiguedad                    196445 non-null float64\n",
      "habitaciones                  217529 non-null float64\n",
      "garages                       202235 non-null float64\n",
      "banos                         213779 non-null float64\n",
      "metroscubiertos               222600 non-null float64\n",
      "metrostotales                 188533 non-null float64\n",
      "idzona                        211379 non-null float64\n",
      "lat                           116512 non-null float64\n",
      "lng                           116512 non-null float64\n",
      "fecha                         240000 non-null datetime64[ns]\n",
      "gimnasio                      240000 non-null bool\n",
      "usosmultiples                 240000 non-null bool\n",
      "piscina                       240000 non-null bool\n",
      "escuelascercanas              240000 non-null bool\n",
      "centroscomercialescercanos    240000 non-null bool\n",
      "precio                        240000 non-null float64\n",
      "dtypes: bool(5), category(3), datetime64[ns](1), float64(10), object(3)\n",
      "memory usage: 29.6+ MB\n"
     ]
    }
   ],
   "source": [
    "# Basdo en un analisis previo al dataset se define un schema acorde a los datos.\n",
    "df = pd.read_csv('train.csv', \n",
    "                 index_col='id', \n",
    "                 dtype={'gimnasio': bool, \n",
    "                        'usosmultiples': bool, \n",
    "                        'escuelascercanas': bool,\n",
    "                        'piscina': bool,\n",
    "                        'centroscomercialescercanos': bool,\n",
    "                        'tipodepropiedad': 'category',\n",
    "                        'provincia': 'category',\n",
    "                        'ciudad': 'category'\n",
    "                       }, \n",
    "                 parse_dates=['fecha'])\n",
    "\n",
    "pd.set_option('display.float_format', '{:.2f}'.format)\n",
    "df.info()"
   ]
  },
  {
   "cell_type": "code",
   "execution_count": 83,
   "metadata": {
    "scrolled": true
   },
   "outputs": [
    {
     "data": {
      "text/plain": [
       "Index(['titulo', 'descripcion', 'tipodepropiedad', 'direccion', 'ciudad',\n",
       "       'provincia', 'antiguedad', 'habitaciones', 'garages', 'banos',\n",
       "       'metroscubiertos', 'metrostotales', 'idzona', 'lat', 'lng', 'fecha',\n",
       "       'gimnasio', 'usosmultiples', 'piscina', 'escuelascercanas',\n",
       "       'centroscomercialescercanos', 'precio'],\n",
       "      dtype='object')"
      ]
     },
     "execution_count": 156,
     "metadata": {},
     "output_type": "execute_result"
    }
   ],
   "source": [
    "df.columns"
   ]
  },
  {
   "cell_type": "code",
   "execution_count": 157,
   "metadata": {},
   "outputs": [],
   "source": [
    "# Me quedo solo con las columnas que son importantes para nuestro analisis.\n",
    "# Quizas el titulo y la descripcion tampoco las use, pero primero habria que hacer  un analisis de ese campo\n",
    "df.drop(['direccion','idzona','lat','lng'], axis=1, inplace=True)"
   ]
  },
  {
   "cell_type": "code",
   "execution_count": 158,
   "metadata": {},
   "outputs": [
    {
     "data": {
      "text/plain": [
       "Index(['titulo', 'descripcion', 'tipodepropiedad', 'ciudad', 'provincia',\n",
       "       'antiguedad', 'habitaciones', 'garages', 'banos', 'metroscubiertos',\n",
       "       'metrostotales', 'fecha', 'gimnasio', 'usosmultiples', 'piscina',\n",
       "       'escuelascercanas', 'centroscomercialescercanos', 'precio'],\n",
       "      dtype='object')"
      ]
     },
     "execution_count": 158,
     "metadata": {},
     "output_type": "execute_result"
    }
   ],
   "source": [
    "df.columns"
   ]
  },
  {
   "cell_type": "code",
   "execution_count": 159,
   "metadata": {
    "scrolled": false
   },
   "outputs": [
    {
     "name": "stdout",
     "output_type": "stream",
     "text": [
      "Filas, columnas:  (240000, 18)\n",
      "Tipos: \n",
      " titulo                                object\n",
      "descripcion                           object\n",
      "tipodepropiedad                       object\n",
      "ciudad                                object\n",
      "provincia                             object\n",
      "antiguedad                           float64\n",
      "habitaciones                         float64\n",
      "garages                              float64\n",
      "banos                                float64\n",
      "metroscubiertos                      float64\n",
      "metrostotales                        float64\n",
      "fecha                         datetime64[ns]\n",
      "gimnasio                             float64\n",
      "usosmultiples                        float64\n",
      "piscina                              float64\n",
      "escuelascercanas                     float64\n",
      "centroscomercialescercanos           float64\n",
      "precio                               float64\n",
      "dtype: object\n"
     ]
    }
   ],
   "source": [
    "# 1. Ver cuantos datos (observaciones) tenemos en total\n",
    "# 2. Ver cuantos atributos tiene cada observaci´on\n",
    "# 3. Ver el nombre y tipo de dato de cada observaci´on\n",
    "# 4. Ver cuantos valores faltantes existen y en que proporci´on se presentan para\n",
    "# cada atributo\n",
    "# Despues de parsear y filtrar los nulos, deberiamos poner cada columna en su tipo ideal.\n",
    "# df['antiguedad'] = df['antiguedad'].astype(int)     algo de este estilo\n",
    "\n",
    "print(\"Filas, columnas: \", df.shape)\n",
    "print(\"Tipos: \\n\", df.dtypes)"
   ]
  },
  {
   "cell_type": "code",
   "execution_count": 160,
   "metadata": {},
   "outputs": [
    {
     "data": {
      "text/plain": [
       "titulo                         5387\n",
       "descripcion                    1619\n",
       "tipodepropiedad                  46\n",
       "ciudad                          372\n",
       "provincia                       155\n",
       "antiguedad                    43555\n",
       "habitaciones                  22471\n",
       "garages                       37765\n",
       "banos                         26221\n",
       "metroscubiertos               17400\n",
       "metrostotales                 51467\n",
       "fecha                             0\n",
       "gimnasio                          0\n",
       "usosmultiples                     0\n",
       "piscina                           0\n",
       "escuelascercanas                  0\n",
       "centroscomercialescercanos        0\n",
       "precio                            0\n",
       "dtype: int64"
      ]
     },
     "execution_count": 160,
     "metadata": {},
     "output_type": "execute_result"
    }
   ],
   "source": [
    "# Cosas a observar de esto:\n",
    "# Propiedades sin ciudad ni provincia.\n",
    "# Muchas propiedades sin metroscubiertos y totales especificados. Estas columnas son claves para \n",
    "# el precio (falta demostrar)\n",
    "# 46 propiedades sin clasificacion de tipo de propiedad. \n",
    "# Habitaciones y Banos, muchos datos nulos. Sera que no tienen? Una casa no pude no tener habitacio ni bano...\n",
    "# Garages, piscina, salondeusosmultiples y gimnasio son extras. Supongo que el hecho de que no aparezcan \n",
    "# es que no los tienen.\n",
    "# Estos 4 extras, podrian reunirse en una categoria todas juntas para evaluar como crece el precio en base a esos\n",
    "# extras.\n",
    "# 43000 propiedades sin saber su antiguedad. Esto si ni idea como podemos reemplazarlos.\n",
    "\n",
    "df.isna().sum()"
   ]
  },
  {
   "cell_type": "code",
   "execution_count": 161,
   "metadata": {},
   "outputs": [
    {
     "data": {
      "text/html": [
       "<div>\n",
       "<style scoped>\n",
       "    .dataframe tbody tr th:only-of-type {\n",
       "        vertical-align: middle;\n",
       "    }\n",
       "\n",
       "    .dataframe tbody tr th {\n",
       "        vertical-align: top;\n",
       "    }\n",
       "\n",
       "    .dataframe thead th {\n",
       "        text-align: right;\n",
       "    }\n",
       "</style>\n",
       "<table border=\"1\" class=\"dataframe\">\n",
       "  <thead>\n",
       "    <tr style=\"text-align: right;\">\n",
       "      <th></th>\n",
       "      <th>titulo</th>\n",
       "      <th>descripcion</th>\n",
       "      <th>tipodepropiedad</th>\n",
       "      <th>ciudad</th>\n",
       "      <th>provincia</th>\n",
       "      <th>antiguedad</th>\n",
       "      <th>habitaciones</th>\n",
       "      <th>garages</th>\n",
       "      <th>banos</th>\n",
       "      <th>metroscubiertos</th>\n",
       "      <th>metrostotales</th>\n",
       "      <th>fecha</th>\n",
       "      <th>gimnasio</th>\n",
       "      <th>usosmultiples</th>\n",
       "      <th>piscina</th>\n",
       "      <th>escuelascercanas</th>\n",
       "      <th>centroscomercialescercanos</th>\n",
       "      <th>precio</th>\n",
       "    </tr>\n",
       "    <tr>\n",
       "      <th>id</th>\n",
       "      <th></th>\n",
       "      <th></th>\n",
       "      <th></th>\n",
       "      <th></th>\n",
       "      <th></th>\n",
       "      <th></th>\n",
       "      <th></th>\n",
       "      <th></th>\n",
       "      <th></th>\n",
       "      <th></th>\n",
       "      <th></th>\n",
       "      <th></th>\n",
       "      <th></th>\n",
       "      <th></th>\n",
       "      <th></th>\n",
       "      <th></th>\n",
       "      <th></th>\n",
       "      <th></th>\n",
       "    </tr>\n",
       "  </thead>\n",
       "  <tbody>\n",
       "  </tbody>\n",
       "</table>\n",
       "</div>"
      ],
      "text/plain": [
       "Empty DataFrame\n",
       "Columns: [titulo, descripcion, tipodepropiedad, ciudad, provincia, antiguedad, habitaciones, garages, banos, metroscubiertos, metrostotales, fecha, gimnasio, usosmultiples, piscina, escuelascercanas, centroscomercialescercanos, precio]\n",
       "Index: []"
      ]
     },
     "execution_count": 161,
     "metadata": {},
     "output_type": "execute_result"
    }
   ],
   "source": [
    "# Dato importante y valioso: No hay ninguna casa que no tenga especificado ni metros cubiertos ni totales\n",
    "# Esto me asegura que no tengo que limpiar datos, ya que si no hubiese tenido ninguno hubiese sido dato invalido\n",
    "# Conociendo uno de los dos valores, puedo intentar asumir el otro con alguna decision.\n",
    "df[(df['metroscubiertos'].isnull()) & (df['metrostotales'].isnull())].head()"
   ]
  },
  {
   "cell_type": "code",
   "execution_count": 162,
   "metadata": {},
   "outputs": [
    {
     "data": {
      "text/plain": [
       "Terreno                          6940\n",
       "Casa                             6532\n",
       "Terreno comercial                 851\n",
       "Apartamento                       823\n",
       "Edificio                          676\n",
       "Casa en condominio                593\n",
       "Local Comercial                   320\n",
       "Bodega comercial                  293\n",
       "Oficina comercial                 116\n",
       "Casa uso de suelo                  99\n",
       "Otros                              46\n",
       "Inmuebles productivos urbanos      35\n",
       "Quinta Vacacional                  13\n",
       "Nave industrial                    12\n",
       "Terreno industrial                  9\n",
       "Villa                               7\n",
       "Duplex                              5\n",
       "Lote                                5\n",
       "Local en centro comercial           5\n",
       "Rancho                              4\n",
       "Departamento Compartido             2\n",
       "Name: tipodepropiedad, dtype: int64"
      ]
     },
     "execution_count": 162,
     "metadata": {},
     "output_type": "execute_result"
    }
   ],
   "source": [
    "# Tiene sentido que los terrenos no tengan metros cubiertos. \n",
    "# Pero como una casa, un edificio, y cualquier otra cosa que no sea un terreno no tiene metros cubiertos? \n",
    "# Y ya demostre en uno de los graficos que los metros cubiertos y totales son lo que mas influyen en el precio. \n",
    "# Esto, a mi criterio, convierte estos datos en invalidos.\n",
    "df[df.metroscubiertos.isnull()]['tipodepropiedad'].value_counts()"
   ]
  },
  {
   "cell_type": "code",
   "execution_count": 163,
   "metadata": {},
   "outputs": [
    {
     "data": {
      "text/plain": [
       "(230391, 18)"
      ]
     },
     "execution_count": 163,
     "metadata": {},
     "output_type": "execute_result"
    }
   ],
   "source": [
    "# Extraigo todos aquellas propiedades que tienen metroscubiertos nulos y no son terrenos. \n",
    "# Quizas en vez de extraerlos, se podria asumir que los metros totales son todos cubiertos.\n",
    "indices_invalidos = df[(df.metroscubiertos.isnull()) & (~df.tipodepropiedad.isin(['Terreno','Terreno comercial']))].index\n",
    "df.drop(index=indices_invalidos, inplace=True)\n",
    "df.shape"
   ]
  },
  {
   "cell_type": "code",
   "execution_count": 164,
   "metadata": {},
   "outputs": [
    {
     "data": {
      "text/plain": [
       "(230055, 18)"
      ]
     },
     "execution_count": 164,
     "metadata": {},
     "output_type": "execute_result"
    }
   ],
   "source": [
    "# No tiene sentido que una casa no tenga ciudad ni provincia, ya que son datos que influyen en el precio\n",
    "# y no se pueden deducir de otro lado, ademas, son pocos\n",
    "df.dropna(subset=['ciudad','provincia'], inplace=True)\n",
    "df.shape"
   ]
  },
  {
   "cell_type": "code",
   "execution_count": 165,
   "metadata": {},
   "outputs": [],
   "source": [
    "# Es imposible que cualquier inmueble tenga metroscubiertos, y no tenga metros totales.\n",
    "# Para esos casos, le asigno la misma cantidad de metros cubiertos que totales, osea no tiene metros descubiertos.\n",
    "df['metrostotales'].fillna(df['metroscubiertos'], inplace=True)"
   ]
  },
  {
   "cell_type": "code",
   "execution_count": 166,
   "metadata": {},
   "outputs": [
    {
     "data": {
      "text/plain": [
       "titulo                         5071\n",
       "descripcion                    1484\n",
       "tipodepropiedad                  19\n",
       "ciudad                            0\n",
       "provincia                         0\n",
       "antiguedad                    41416\n",
       "habitaciones                  20540\n",
       "garages                       34150\n",
       "banos                         23077\n",
       "metroscubiertos                7777\n",
       "metrostotales                     0\n",
       "fecha                             0\n",
       "gimnasio                          0\n",
       "usosmultiples                     0\n",
       "piscina                           0\n",
       "escuelascercanas                  0\n",
       "centroscomercialescercanos        0\n",
       "precio                            0\n",
       "dtype: int64"
      ]
     },
     "execution_count": 166,
     "metadata": {},
     "output_type": "execute_result"
    }
   ],
   "source": [
    "# Despues de estos pequeños arreglos, se reducen la cantidad de nulos. Si bien siguen habiendo, \n",
    "df.isnull().sum()"
   ]
  },
  {
   "cell_type": "code",
   "execution_count": 167,
   "metadata": {},
   "outputs": [],
   "source": [
    "# El resto de filas con metros cubiertos, son terrenos. Deberian tener 0 metros cubiertos.\n",
    "df['metroscubiertos'].fillna(0, inplace=True)"
   ]
  },
  {
   "cell_type": "code",
   "execution_count": 168,
   "metadata": {},
   "outputs": [],
   "source": [
    "# Aquellas casas que no tienen el tipodepropiedad, son solo 19. Podria intentar sacar el tipo de prop\n",
    "# desde la descripcion pero no estaria seguro al respecto. Siendo solo 19, las elimino.\n",
    "df.dropna(subset=['tipodepropiedad'],inplace=True)"
   ]
  },
  {
   "cell_type": "code",
   "execution_count": 169,
   "metadata": {},
   "outputs": [
    {
     "data": {
      "text/plain": [
       "(230036, 18)"
      ]
     },
     "execution_count": 169,
     "metadata": {},
     "output_type": "execute_result"
    }
   ],
   "source": [
    "df.shape"
   ]
  },
  {
   "cell_type": "code",
   "execution_count": 170,
   "metadata": {},
   "outputs": [],
   "source": [
    "# Para banos y habitaciones, completo los nulos con el promedio agrupando por tipo de propiedad y ciudad.\n",
    "# En caso de que no este en ninguno de esos, le asigno el promedio por tipo de propiedad.\n",
    "\n",
    "df['banos'] = df.groupby(['tipodepropiedad','ciudad'])['banos'].transform(lambda x: x.fillna(x.mean()))\n",
    "df['habitaciones'] = df.groupby(['tipodepropiedad','ciudad'])['habitaciones'].transform(lambda x: x.fillna(x.mean()))\n",
    "\n",
    "\n",
    "df['banos'] = df.groupby(['tipodepropiedad'])['banos'].transform(lambda x: x.fillna(x.mean()))\n",
    "df['habitaciones'] = df.groupby(['tipodepropiedad'])['habitaciones'].transform(lambda x: x.fillna(x.mean()))"
   ]
  },
  {
   "cell_type": "code",
   "execution_count": 171,
   "metadata": {
    "scrolled": true
   },
   "outputs": [
    {
     "data": {
      "text/plain": [
       "titulo                         5071\n",
       "descripcion                    1483\n",
       "tipodepropiedad                   0\n",
       "ciudad                            0\n",
       "provincia                         0\n",
       "antiguedad                    41400\n",
       "habitaciones                      1\n",
       "garages                       34135\n",
       "banos                             2\n",
       "metroscubiertos                   0\n",
       "metrostotales                     0\n",
       "fecha                             0\n",
       "gimnasio                          0\n",
       "usosmultiples                     0\n",
       "piscina                           0\n",
       "escuelascercanas                  0\n",
       "centroscomercialescercanos        0\n",
       "precio                            0\n",
       "dtype: int64"
      ]
     },
     "execution_count": 171,
     "metadata": {},
     "output_type": "execute_result"
    }
   ],
   "source": [
    "df.isnull().sum()"
   ]
  },
  {
   "cell_type": "code",
   "execution_count": 172,
   "metadata": {},
   "outputs": [
    {
     "data": {
      "text/plain": [
       "(1, 18)"
      ]
     },
     "execution_count": 172,
     "metadata": {},
     "output_type": "execute_result"
    }
   ],
   "source": [
    "# 17964 registros sin banos ni habitaciones completados. Analizo eso:\n",
    "# Hay alguno con ambos nulos?\n",
    "df[(df.banos.isnull())&(df.habitaciones.isnull())].shape\n",
    "# Esos 17964 coinciden."
   ]
  },
  {
   "cell_type": "code",
   "execution_count": 173,
   "metadata": {},
   "outputs": [
    {
     "data": {
      "text/plain": [
       "tipodepropiedad\n",
       "Garage       1\n",
       "Hospedaje    1\n",
       "dtype: int64"
      ]
     },
     "execution_count": 173,
     "metadata": {},
     "output_type": "execute_result"
    }
   ],
   "source": [
    "# Registros sin baño agrupados por tipo de propiedad.\n",
    "df[df.banos.isnull()].groupby('tipodepropiedad').size()"
   ]
  },
  {
   "cell_type": "code",
   "execution_count": 174,
   "metadata": {},
   "outputs": [
    {
     "data": {
      "text/plain": [
       "1"
      ]
     },
     "execution_count": 174,
     "metadata": {},
     "output_type": "execute_result"
    }
   ],
   "source": [
    "# Causalmente, todos esos nulos corresponden a inmuebles no habitables. Es raro suponer que no tienen baño, pero asumimos\n",
    "# que ese None, es algo que no modifica el valor del inmueble. No cambia para un local su valor si tiene o no baño.\n",
    "df[df.habitaciones.isnull()].groupby('tipodepropiedad').size().sum()"
   ]
  },
  {
   "cell_type": "code",
   "execution_count": 175,
   "metadata": {},
   "outputs": [
    {
     "data": {
      "text/plain": [
       "2.00    2596\n",
       "3.00    1760\n",
       "2.51    1093\n",
       "1.00    1005\n",
       "2.33     869\n",
       "        ... \n",
       "5.40      10\n",
       "2.27       9\n",
       "6.40       6\n",
       "5.75       5\n",
       "9.20       1\n",
       "Name: habitaciones, Length: 101, dtype: int64"
      ]
     },
     "execution_count": 175,
     "metadata": {},
     "output_type": "execute_result"
    }
   ],
   "source": [
    "# La idea es ver si alguno que no sea habitable, tiene baños distinto de None para ver como reemplazar los otros nan.\n",
    "# Por habitable me refiero a propiedades donde vive gente.\n",
    "\n",
    "habitables = ['Casa','Apartamento','Casa en condominio','Casa uso de suelo','Quinta Vacacional','Villa','Duplex','Rancho','Departamento Compartido']\n",
    "\n",
    "df[~df.tipodepropiedad.isin(habitables)]['habitaciones'].value_counts()"
   ]
  },
  {
   "cell_type": "code",
   "execution_count": 176,
   "metadata": {},
   "outputs": [],
   "source": [
    "# Tomo la decision de llenar los banos y habitaciones nulos, ya demostrado que corresponden a inmuebles no habitables,\n",
    "# con el valor 0. Al margen de llenar los nulos, clarmaente son datos que no van a interesar para el analisis de este tipo de \n",
    "# propiedades.\n",
    "df.banos.fillna(0, inplace = True)\n",
    "df.habitaciones.fillna(0, inplace = True)"
   ]
  },
  {
   "cell_type": "code",
   "execution_count": 177,
   "metadata": {
    "scrolled": true
   },
   "outputs": [
    {
     "data": {
      "text/plain": [
       "titulo                         5071\n",
       "descripcion                    1483\n",
       "tipodepropiedad                   0\n",
       "ciudad                            0\n",
       "provincia                         0\n",
       "antiguedad                    41400\n",
       "habitaciones                      0\n",
       "garages                       34135\n",
       "banos                             0\n",
       "metroscubiertos                   0\n",
       "metrostotales                     0\n",
       "fecha                             0\n",
       "gimnasio                          0\n",
       "usosmultiples                     0\n",
       "piscina                           0\n",
       "escuelascercanas                  0\n",
       "centroscomercialescercanos        0\n",
       "precio                            0\n",
       "dtype: int64"
      ]
     },
     "execution_count": 177,
     "metadata": {},
     "output_type": "execute_result"
    }
   ],
   "source": [
    "df.isnull().sum()"
   ]
  },
  {
   "cell_type": "code",
   "execution_count": 178,
   "metadata": {},
   "outputs": [
    {
     "data": {
      "text/plain": [
       "tipodepropiedad\n",
       "Apartamento                       3543\n",
       "Bodega comercial                   393\n",
       "Casa                             21600\n",
       "Casa en condominio                2973\n",
       "Casa uso de suelo                  189\n",
       "Departamento Compartido              4\n",
       "Duplex                               7\n",
       "Edificio                           233\n",
       "Huerta                               5\n",
       "Inmuebles productivos urbanos       45\n",
       "Local Comercial                   1060\n",
       "Local en centro comercial           42\n",
       "Nave industrial                     18\n",
       "Oficina comercial                  473\n",
       "Otros                               48\n",
       "Quinta Vacacional                  237\n",
       "Rancho                              93\n",
       "Terreno                           2397\n",
       "Terreno comercial                  604\n",
       "Terreno industrial                  17\n",
       "Villa                              154\n",
       "dtype: int64"
      ]
     },
     "execution_count": 178,
     "metadata": {},
     "output_type": "execute_result"
    }
   ],
   "source": [
    "# Ahora voy a analizar los garages nulos. \n",
    "df[df.garages.isnull()].groupby('tipodepropiedad').size()"
   ]
  },
  {
   "cell_type": "code",
   "execution_count": 179,
   "metadata": {},
   "outputs": [
    {
     "data": {
      "text/html": [
       "<div>\n",
       "<style scoped>\n",
       "    .dataframe tbody tr th:only-of-type {\n",
       "        vertical-align: middle;\n",
       "    }\n",
       "\n",
       "    .dataframe tbody tr th {\n",
       "        vertical-align: top;\n",
       "    }\n",
       "\n",
       "    .dataframe thead th {\n",
       "        text-align: right;\n",
       "    }\n",
       "</style>\n",
       "<table border=\"1\" class=\"dataframe\">\n",
       "  <thead>\n",
       "    <tr style=\"text-align: right;\">\n",
       "      <th></th>\n",
       "      <th></th>\n",
       "      <th>garages</th>\n",
       "    </tr>\n",
       "    <tr>\n",
       "      <th>tipodepropiedad</th>\n",
       "      <th>ciudad</th>\n",
       "      <th></th>\n",
       "    </tr>\n",
       "  </thead>\n",
       "  <tbody>\n",
       "    <tr>\n",
       "      <td rowspan=\"5\" valign=\"top\">Apartamento</td>\n",
       "      <td>Acajete</td>\n",
       "      <td>1.00</td>\n",
       "    </tr>\n",
       "    <tr>\n",
       "      <td>Acambay</td>\n",
       "      <td>2.00</td>\n",
       "    </tr>\n",
       "    <tr>\n",
       "      <td>Acapulco de Juárez</td>\n",
       "      <td>1.29</td>\n",
       "    </tr>\n",
       "    <tr>\n",
       "      <td>Acateno</td>\n",
       "      <td>1.00</td>\n",
       "    </tr>\n",
       "    <tr>\n",
       "      <td>Acatzingo</td>\n",
       "      <td>nan</td>\n",
       "    </tr>\n",
       "    <tr>\n",
       "      <td>...</td>\n",
       "      <td>...</td>\n",
       "      <td>...</td>\n",
       "    </tr>\n",
       "    <tr>\n",
       "      <td rowspan=\"5\" valign=\"top\">Villa</td>\n",
       "      <td>Tzucacab</td>\n",
       "      <td>nan</td>\n",
       "    </tr>\n",
       "    <tr>\n",
       "      <td>Veracruz</td>\n",
       "      <td>nan</td>\n",
       "    </tr>\n",
       "    <tr>\n",
       "      <td>Yautepec</td>\n",
       "      <td>1.00</td>\n",
       "    </tr>\n",
       "    <tr>\n",
       "      <td>Zapopan</td>\n",
       "      <td>0.00</td>\n",
       "    </tr>\n",
       "    <tr>\n",
       "      <td>Zihuatanejo de Azueta</td>\n",
       "      <td>0.67</td>\n",
       "    </tr>\n",
       "  </tbody>\n",
       "</table>\n",
       "<p>3097 rows × 1 columns</p>\n",
       "</div>"
      ],
      "text/plain": [
       "                                       garages\n",
       "tipodepropiedad ciudad                        \n",
       "Apartamento     Acajete                   1.00\n",
       "                Acambay                   2.00\n",
       "                Acapulco de Juárez        1.29\n",
       "                Acateno                   1.00\n",
       "                Acatzingo                  nan\n",
       "...                                        ...\n",
       "Villa           Tzucacab                   nan\n",
       "                Veracruz                   nan\n",
       "                Yautepec                  1.00\n",
       "                Zapopan                   0.00\n",
       "                Zihuatanejo de Azueta     0.67\n",
       "\n",
       "[3097 rows x 1 columns]"
      ]
     },
     "execution_count": 179,
     "metadata": {},
     "output_type": "execute_result"
    }
   ],
   "source": [
    "# De aca se puede ver informacion importante: Segun la ciudad y el tipo de propiedad, varia bastante la cantidad de garages\n",
    "# de una casa.\n",
    "df.groupby(['tipodepropiedad','ciudad']).agg({'garages':'mean'})"
   ]
  },
  {
   "cell_type": "code",
   "execution_count": 180,
   "metadata": {},
   "outputs": [],
   "source": [
    "# Tomo la decision de completar aquellos valores de garage nulos, con el promedio de garages para ese tipo de propiedad,\n",
    "# en la ciudad en que se encuentre.\n",
    "df['garages'] = df.groupby(['tipodepropiedad','ciudad'])['garages'].transform(lambda x: x.fillna(x.mean()))"
   ]
  },
  {
   "cell_type": "code",
   "execution_count": 181,
   "metadata": {},
   "outputs": [],
   "source": [
    "# Para aquellos registros que registraban de promedio nan, osea ninguno tenia, los relleno con 0 como valor de garage.\n",
    "df['garages'].fillna(0, inplace=True)"
   ]
  },
  {
   "cell_type": "code",
   "execution_count": 182,
   "metadata": {},
   "outputs": [
    {
     "data": {
      "text/plain": [
       "titulo                         5071\n",
       "descripcion                    1483\n",
       "tipodepropiedad                   0\n",
       "ciudad                            0\n",
       "provincia                         0\n",
       "antiguedad                    41400\n",
       "habitaciones                      0\n",
       "garages                           0\n",
       "banos                             0\n",
       "metroscubiertos                   0\n",
       "metrostotales                     0\n",
       "fecha                             0\n",
       "gimnasio                          0\n",
       "usosmultiples                     0\n",
       "piscina                           0\n",
       "escuelascercanas                  0\n",
       "centroscomercialescercanos        0\n",
       "precio                            0\n",
       "dtype: int64"
      ]
     },
     "execution_count": 182,
     "metadata": {},
     "output_type": "execute_result"
    }
   ],
   "source": [
    "# Solo me queda revisar los nulos de antiguedad. Son muchisimos. \n",
    "df.isnull().sum()"
   ]
  },
  {
   "cell_type": "code",
   "execution_count": 183,
   "metadata": {
    "scrolled": true
   },
   "outputs": [],
   "source": [
    "# La decision que voy a tomar para esos nulos, es similar a la de los garages. Voy a rellenar los nulos con el promedio\n",
    "# de antiguedad para ese tipo de propiedad y esa ciudad en la que esta ubicada la propiedad.\n",
    "# No se que tanto sentido tenga asignarle valores asi a la antiguedad porque de verdad estoy modificando de una forma que\n",
    "# no necesariamente sea correcta\n",
    "\n",
    "\n",
    "# df.groupby(['tipodepropiedad','ciudad']).agg({'antiguedad':'mean'})"
   ]
  },
  {
   "cell_type": "code",
   "execution_count": 184,
   "metadata": {},
   "outputs": [],
   "source": [
    "# df['antiguedad'] = df.groupby(['tipodepropiedad','ciudad'])['antiguedad'].transform(lambda x: x.fillna(x.mean()))"
   ]
  },
  {
   "cell_type": "code",
   "execution_count": 185,
   "metadata": {},
   "outputs": [
    {
     "data": {
      "text/plain": [
       "titulo                         5071\n",
       "descripcion                    1483\n",
       "tipodepropiedad                   0\n",
       "ciudad                            0\n",
       "provincia                         0\n",
       "antiguedad                    41400\n",
       "habitaciones                      0\n",
       "garages                           0\n",
       "banos                             0\n",
       "metroscubiertos                   0\n",
       "metrostotales                     0\n",
       "fecha                             0\n",
       "gimnasio                          0\n",
       "usosmultiples                     0\n",
       "piscina                           0\n",
       "escuelascercanas                  0\n",
       "centroscomercialescercanos        0\n",
       "precio                            0\n",
       "dtype: int64"
      ]
     },
     "execution_count": 185,
     "metadata": {},
     "output_type": "execute_result"
    }
   ],
   "source": [
    "df.isnull().sum()"
   ]
  },
  {
   "cell_type": "code",
   "execution_count": 186,
   "metadata": {},
   "outputs": [],
   "source": [
    "#Lleno los nulos de antiguedad con 0. Supongo que son todos nuevos.\n",
    "df2['antiguedad'].fillna(0, inplace=True)\n",
    "\n",
    "# Quedaron solo 517 con antiguedad nula. Los reviso:\n",
    "# df[df['antiguedad'].isnull()]\n",
    "\n",
    "# Para estos restantes, tomo la decision de rellenarlos de acuerdo a el promedio de antiguedad segun el tipo de prop y la prov\n",
    "\n",
    "# df['antiguedad'] = df.groupby(['tipodepropiedad','provincia'])['antiguedad'].transform(lambda x: x.fillna(x.mean()))"
   ]
  },
  {
   "cell_type": "code",
   "execution_count": 187,
   "metadata": {},
   "outputs": [],
   "source": [
    "# df.isnull().sum()"
   ]
  },
  {
   "cell_type": "code",
   "execution_count": 188,
   "metadata": {},
   "outputs": [],
   "source": [
    "# Los restantes, los elimino ya que son pocos y no puedo fijarle una antiguedad de forma tan directa\n",
    "# df.dropna(subset=['antiguedad'], inplace=True)"
   ]
  },
  {
   "cell_type": "code",
   "execution_count": 189,
   "metadata": {},
   "outputs": [
    {
     "data": {
      "text/plain": [
       "titulo                         5071\n",
       "descripcion                    1483\n",
       "tipodepropiedad                   0\n",
       "ciudad                            0\n",
       "provincia                         0\n",
       "antiguedad                    41400\n",
       "habitaciones                      0\n",
       "garages                           0\n",
       "banos                             0\n",
       "metroscubiertos                   0\n",
       "metrostotales                     0\n",
       "fecha                             0\n",
       "gimnasio                          0\n",
       "usosmultiples                     0\n",
       "piscina                           0\n",
       "escuelascercanas                  0\n",
       "centroscomercialescercanos        0\n",
       "precio                            0\n",
       "dtype: int64"
      ]
     },
     "execution_count": 189,
     "metadata": {},
     "output_type": "execute_result"
    }
   ],
   "source": [
    "df.isnull().sum()"
   ]
  },
  {
   "cell_type": "code",
   "execution_count": 211,
   "metadata": {},
   "outputs": [],
   "source": [
    "# Aca deberia ir seteando las columnas nuevas que me parezcan utiles para analisis.\n",
    "# Ideas: Precio por metro total, o agregar una columna con la cantidad de extras que tenga la casa.\n",
    "df['precio_dolar'] = df['precio']/VALOR_CAMBIO_A_DOLAR\n",
    "df['precio_m2'] = df['precio']/df['metrostotales']\n",
    "df['extras'] = df['garages']+df['piscina']+df['usosmultiples']+df['gimnasio']\n"
   ]
  },
  {
   "cell_type": "code",
   "execution_count": 401,
   "metadata": {},
   "outputs": [
    {
     "data": {
      "text/plain": [
       "<matplotlib.legend.Legend at 0x47e07c90>"
      ]
     },
     "execution_count": 401,
     "metadata": {},
     "output_type": "execute_result"
    },
    {
     "data": {
      "image/png": "[encoded data removed]",
      "text/plain": [
       "<Figure size 720x720 with 2 Axes>"
      ]
     },
     "metadata": {
      "needs_background": "light"
     },
     "output_type": "display_data"
    }
   ],
   "source": [
    "# Influye la antiguedad en el valor de las casas?\n",
    "# Tomo datos agrupando por antiguedad, tipo de propiedad y provincia. \n",
    "# Filtro aquellos grupos donde la cantidad no es suficiente como para hacer un analisis consistente\n",
    "# Armo un grafico para cada provincia, comparando los tipos de propiedad\n",
    "\n",
    "df2 = df.copy()\n",
    "\n",
    "df2 = df2[df2['extras']==2]\n",
    "\n",
    "df2 = df2.groupby(['antiguedad','tipodepropiedad','provincia']).filter(lambda x: len(x)>10).groupby(['antiguedad','tipodepropiedad','provincia']).agg({'precio_m2':'mean'})\n",
    "\n",
    "df2 = df2.reset_index()\n",
    "\n",
    "fig,(ax1,ax2) = plt.subplots(2,1, figsize=(10,10))\n",
    "\n",
    "fig.subplots_adjust(hspace=0.4, wspace=0.4)\n",
    "fig.suptitle('Valor promedio del metro cuadrado por provincia según antigüedad',fontsize=21)\n",
    "\n",
    "for name in ['Apartamento','Casa', 'Casa en condominio']:\n",
    "    \n",
    "    ax1.plot(df2[(df2.tipodepropiedad==name) & (df2.provincia == 'Edo. de México')].antiguedad,\\\n",
    "            df2[(df2.tipodepropiedad==name) & (df2.provincia == 'Edo. de México')].precio_m2,\\\n",
    "            label=name)\n",
    "    ax1.set_title('Edo. de México')\n",
    "\n",
    "    ax2.plot(df2[(df2.tipodepropiedad==name) & (df2.provincia == 'Distrito Federal')].antiguedad,\\\n",
    "            df2[(df2.tipodepropiedad==name) & (df2.provincia == 'Distrito Federal')].precio_m2,\\\n",
    "            label=name)\n",
    "    ax2.set_title('Distrito Federal')\n",
    "\n",
    "    ax1.set_xlim([0,25])\n",
    "    ax2.set_xlim([0,25])\n",
    "\n",
    "    \n",
    "ax1.set_xlabel(\"Antiguedad\")\n",
    "ax1.set_ylabel(\"Precio m2\")\n",
    "ax1.legend(loc='best')\n",
    "ax2.set_xlabel(\"Antiguedad\")\n",
    "ax2.set_ylabel(\"Precio m2\")\n",
    "ax2.legend(loc='best')"
   ]
  },
  {
   "cell_type": "code",
   "execution_count": 266,
   "metadata": {},
   "outputs": [
    {
     "data": {
      "text/html": [
       "<div>\n",
       "<style scoped>\n",
       "    .dataframe tbody tr th:only-of-type {\n",
       "        vertical-align: middle;\n",
       "    }\n",
       "\n",
       "    .dataframe tbody tr th {\n",
       "        vertical-align: top;\n",
       "    }\n",
       "\n",
       "    .dataframe thead th {\n",
       "        text-align: right;\n",
       "    }\n",
       "</style>\n",
       "<table border=\"1\" class=\"dataframe\">\n",
       "  <thead>\n",
       "    <tr style=\"text-align: right;\">\n",
       "      <th></th>\n",
       "      <th>antiguedad</th>\n",
       "      <th>tipodepropiedad</th>\n",
       "      <th>provincia</th>\n",
       "      <th>precio_m2</th>\n",
       "    </tr>\n",
       "  </thead>\n",
       "  <tbody>\n",
       "  </tbody>\n",
       "</table>\n",
       "</div>"
      ],
      "text/plain": [
       "Empty DataFrame\n",
       "Columns: [antiguedad, tipodepropiedad, provincia, precio_m2]\n",
       "Index: []"
      ]
     },
     "execution_count": 266,
     "metadata": {},
     "output_type": "execute_result"
    }
   ],
   "source": [
    "# Del grafico anterior, se puede observar:\n",
    "# En ambas ciudades, los precios de los apartamentos van disminuyendo, a la vez que aumenta la antiguedad\n",
    "# En el caso de las casas, los precios parecen no verse afectados por la antiguedad, pudiendo tener menos o mas valor\n",
    "# La diferencia de precios, parece verse mas evidente a partir de los 10 años de antiguedad, no asi en los primeros 5.\n",
    "# No es un dato menor que vaya disminuyendo pero a la vez siga habiendo picos. Si bien es un dato que influye,\n",
    "# pueden existir casas mas antiguas de mayor valor."
   ]
  },
  {
   "cell_type": "code",
   "execution_count": 194,
   "metadata": {},
   "outputs": [
    {
     "data": {
      "text/html": [
       "<div>\n",
       "<style scoped>\n",
       "    .dataframe tbody tr th:only-of-type {\n",
       "        vertical-align: middle;\n",
       "    }\n",
       "\n",
       "    .dataframe tbody tr th {\n",
       "        vertical-align: top;\n",
       "    }\n",
       "\n",
       "    .dataframe thead th {\n",
       "        text-align: right;\n",
       "    }\n",
       "</style>\n",
       "<table border=\"1\" class=\"dataframe\">\n",
       "  <thead>\n",
       "    <tr style=\"text-align: right;\">\n",
       "      <th></th>\n",
       "      <th>antiguedad</th>\n",
       "      <th>garages</th>\n",
       "      <th>banos</th>\n",
       "      <th>metroscubiertos</th>\n",
       "      <th>metrostotales</th>\n",
       "      <th>gimnasio</th>\n",
       "      <th>usosmultiples</th>\n",
       "      <th>piscina</th>\n",
       "      <th>escuelascercanas</th>\n",
       "      <th>centroscomercialescercanos</th>\n",
       "      <th>precio</th>\n",
       "      <th>precio_m2</th>\n",
       "    </tr>\n",
       "    <tr>\n",
       "      <th>habitaciones</th>\n",
       "      <th></th>\n",
       "      <th></th>\n",
       "      <th></th>\n",
       "      <th></th>\n",
       "      <th></th>\n",
       "      <th></th>\n",
       "      <th></th>\n",
       "      <th></th>\n",
       "      <th></th>\n",
       "      <th></th>\n",
       "      <th></th>\n",
       "      <th></th>\n",
       "    </tr>\n",
       "  </thead>\n",
       "  <tbody>\n",
       "    <tr>\n",
       "      <td>0.00</td>\n",
       "      <td>nan</td>\n",
       "      <td>0.00</td>\n",
       "      <td>0.00</td>\n",
       "      <td>40.00</td>\n",
       "      <td>40.00</td>\n",
       "      <td>0.00</td>\n",
       "      <td>0.00</td>\n",
       "      <td>0.00</td>\n",
       "      <td>0.00</td>\n",
       "      <td>0.00</td>\n",
       "      <td>500000.00</td>\n",
       "      <td>12500.00</td>\n",
       "    </tr>\n",
       "    <tr>\n",
       "      <td>1.00</td>\n",
       "      <td>8.06</td>\n",
       "      <td>0.94</td>\n",
       "      <td>1.20</td>\n",
       "      <td>86.66</td>\n",
       "      <td>114.75</td>\n",
       "      <td>0.11</td>\n",
       "      <td>0.07</td>\n",
       "      <td>0.12</td>\n",
       "      <td>0.38</td>\n",
       "      <td>0.36</td>\n",
       "      <td>1779575.57</td>\n",
       "      <td>20986.66</td>\n",
       "    </tr>\n",
       "    <tr>\n",
       "      <td>1.20</td>\n",
       "      <td>4.69</td>\n",
       "      <td>0.82</td>\n",
       "      <td>1.41</td>\n",
       "      <td>228.40</td>\n",
       "      <td>242.07</td>\n",
       "      <td>0.00</td>\n",
       "      <td>0.00</td>\n",
       "      <td>0.00</td>\n",
       "      <td>0.26</td>\n",
       "      <td>0.28</td>\n",
       "      <td>2098470.47</td>\n",
       "      <td>12872.66</td>\n",
       "    </tr>\n",
       "    <tr>\n",
       "      <td>1.33</td>\n",
       "      <td>12.14</td>\n",
       "      <td>0.48</td>\n",
       "      <td>1.56</td>\n",
       "      <td>80.45</td>\n",
       "      <td>85.27</td>\n",
       "      <td>0.00</td>\n",
       "      <td>0.00</td>\n",
       "      <td>0.00</td>\n",
       "      <td>0.23</td>\n",
       "      <td>0.36</td>\n",
       "      <td>1656184.55</td>\n",
       "      <td>29568.65</td>\n",
       "    </tr>\n",
       "    <tr>\n",
       "      <td>1.44</td>\n",
       "      <td>0.45</td>\n",
       "      <td>0.02</td>\n",
       "      <td>1.37</td>\n",
       "      <td>22.26</td>\n",
       "      <td>280.56</td>\n",
       "      <td>0.00</td>\n",
       "      <td>0.00</td>\n",
       "      <td>0.05</td>\n",
       "      <td>0.32</td>\n",
       "      <td>0.18</td>\n",
       "      <td>1241867.95</td>\n",
       "      <td>16656.48</td>\n",
       "    </tr>\n",
       "    <tr>\n",
       "      <td>...</td>\n",
       "      <td>...</td>\n",
       "      <td>...</td>\n",
       "      <td>...</td>\n",
       "      <td>...</td>\n",
       "      <td>...</td>\n",
       "      <td>...</td>\n",
       "      <td>...</td>\n",
       "      <td>...</td>\n",
       "      <td>...</td>\n",
       "      <td>...</td>\n",
       "      <td>...</td>\n",
       "      <td>...</td>\n",
       "    </tr>\n",
       "    <tr>\n",
       "      <td>8.00</td>\n",
       "      <td>16.39</td>\n",
       "      <td>1.21</td>\n",
       "      <td>2.63</td>\n",
       "      <td>274.03</td>\n",
       "      <td>235.06</td>\n",
       "      <td>0.01</td>\n",
       "      <td>0.01</td>\n",
       "      <td>0.03</td>\n",
       "      <td>0.41</td>\n",
       "      <td>0.35</td>\n",
       "      <td>3062347.68</td>\n",
       "      <td>14258.09</td>\n",
       "    </tr>\n",
       "    <tr>\n",
       "      <td>8.25</td>\n",
       "      <td>21.00</td>\n",
       "      <td>1.11</td>\n",
       "      <td>2.91</td>\n",
       "      <td>310.27</td>\n",
       "      <td>209.00</td>\n",
       "      <td>0.00</td>\n",
       "      <td>0.00</td>\n",
       "      <td>0.00</td>\n",
       "      <td>0.45</td>\n",
       "      <td>0.45</td>\n",
       "      <td>4700000.00</td>\n",
       "      <td>29141.36</td>\n",
       "    </tr>\n",
       "    <tr>\n",
       "      <td>9.00</td>\n",
       "      <td>18.27</td>\n",
       "      <td>1.28</td>\n",
       "      <td>2.51</td>\n",
       "      <td>283.54</td>\n",
       "      <td>235.03</td>\n",
       "      <td>0.01</td>\n",
       "      <td>0.02</td>\n",
       "      <td>0.01</td>\n",
       "      <td>0.40</td>\n",
       "      <td>0.36</td>\n",
       "      <td>3218490.17</td>\n",
       "      <td>15493.86</td>\n",
       "    </tr>\n",
       "    <tr>\n",
       "      <td>9.20</td>\n",
       "      <td>10.00</td>\n",
       "      <td>0.00</td>\n",
       "      <td>2.00</td>\n",
       "      <td>40.00</td>\n",
       "      <td>40.00</td>\n",
       "      <td>0.00</td>\n",
       "      <td>0.00</td>\n",
       "      <td>0.00</td>\n",
       "      <td>1.00</td>\n",
       "      <td>1.00</td>\n",
       "      <td>750000.00</td>\n",
       "      <td>18750.00</td>\n",
       "    </tr>\n",
       "    <tr>\n",
       "      <td>10.00</td>\n",
       "      <td>14.93</td>\n",
       "      <td>1.10</td>\n",
       "      <td>2.41</td>\n",
       "      <td>293.69</td>\n",
       "      <td>252.23</td>\n",
       "      <td>0.00</td>\n",
       "      <td>0.02</td>\n",
       "      <td>0.01</td>\n",
       "      <td>0.51</td>\n",
       "      <td>0.45</td>\n",
       "      <td>3782522.69</td>\n",
       "      <td>17883.73</td>\n",
       "    </tr>\n",
       "  </tbody>\n",
       "</table>\n",
       "<p>412 rows × 12 columns</p>\n",
       "</div>"
      ],
      "text/plain": [
       "              antiguedad  garages  banos  metroscubiertos  metrostotales  \\\n",
       "habitaciones                                                               \n",
       "0.00                 nan     0.00   0.00            40.00          40.00   \n",
       "1.00                8.06     0.94   1.20            86.66         114.75   \n",
       "1.20                4.69     0.82   1.41           228.40         242.07   \n",
       "1.33               12.14     0.48   1.56            80.45          85.27   \n",
       "1.44                0.45     0.02   1.37            22.26         280.56   \n",
       "...                  ...      ...    ...              ...            ...   \n",
       "8.00               16.39     1.21   2.63           274.03         235.06   \n",
       "8.25               21.00     1.11   2.91           310.27         209.00   \n",
       "9.00               18.27     1.28   2.51           283.54         235.03   \n",
       "9.20               10.00     0.00   2.00            40.00          40.00   \n",
       "10.00              14.93     1.10   2.41           293.69         252.23   \n",
       "\n",
       "              gimnasio  usosmultiples  piscina  escuelascercanas  \\\n",
       "habitaciones                                                       \n",
       "0.00              0.00           0.00     0.00              0.00   \n",
       "1.00              0.11           0.07     0.12              0.38   \n",
       "1.20              0.00           0.00     0.00              0.26   \n",
       "1.33              0.00           0.00     0.00              0.23   \n",
       "1.44              0.00           0.00     0.05              0.32   \n",
       "...                ...            ...      ...               ...   \n",
       "8.00              0.01           0.01     0.03              0.41   \n",
       "8.25              0.00           0.00     0.00              0.45   \n",
       "9.00              0.01           0.02     0.01              0.40   \n",
       "9.20              0.00           0.00     0.00              1.00   \n",
       "10.00             0.00           0.02     0.01              0.51   \n",
       "\n",
       "              centroscomercialescercanos     precio  precio_m2  \n",
       "habitaciones                                                    \n",
       "0.00                                0.00  500000.00   12500.00  \n",
       "1.00                                0.36 1779575.57   20986.66  \n",
       "1.20                                0.28 2098470.47   12872.66  \n",
       "1.33                                0.36 1656184.55   29568.65  \n",
       "1.44                                0.18 1241867.95   16656.48  \n",
       "...                                  ...        ...        ...  \n",
       "8.00                                0.35 3062347.68   14258.09  \n",
       "8.25                                0.45 4700000.00   29141.36  \n",
       "9.00                                0.36 3218490.17   15493.86  \n",
       "9.20                                1.00  750000.00   18750.00  \n",
       "10.00                               0.45 3782522.69   17883.73  \n",
       "\n",
       "[412 rows x 12 columns]"
      ]
     },
     "execution_count": 194,
     "metadata": {},
     "output_type": "execute_result"
    }
   ],
   "source": [
    "# Caracteristicas principales de agrupar por habitaciones\n",
    "# Las casas de mas habitaciones, son mucho mas viejas\n",
    "# No es algo muy importante, pero es un dato curioso\n",
    "df.groupby('habitaciones').mean()"
   ]
  },
  {
   "cell_type": "code",
   "execution_count": 195,
   "metadata": {},
   "outputs": [
    {
     "data": {
      "text/plain": [
       "Casa                             134968\n",
       "Apartamento                       56447\n",
       "Casa en condominio                18691\n",
       "Terreno                            9939\n",
       "Local Comercial                    2732\n",
       "Oficina comercial                  1623\n",
       "Terreno comercial                  1316\n",
       "Bodega comercial                   1113\n",
       "Edificio                            720\n",
       "Casa uso de suelo                   608\n",
       "Quinta Vacacional                   382\n",
       "Duplex                              338\n",
       "Villa                               333\n",
       "Rancho                              166\n",
       "Inmuebles productivos urbanos       165\n",
       "Local en centro comercial           160\n",
       "Departamento Compartido             139\n",
       "Otros                                88\n",
       "Nave industrial                      64\n",
       "Terreno industrial                   22\n",
       "Huerta                               20\n",
       "Hospedaje                             1\n",
       "Garage                                1\n",
       "Name: tipodepropiedad, dtype: int64"
      ]
     },
     "execution_count": 195,
     "metadata": {},
     "output_type": "execute_result"
    }
   ],
   "source": [
    "# Cantidad de tipos de propiedades\n",
    "df.tipodepropiedad.value_counts()"
   ]
  },
  {
   "cell_type": "code",
   "execution_count": 196,
   "metadata": {},
   "outputs": [
    {
     "data": {
      "text/plain": [
       "<matplotlib.axes._subplots.AxesSubplot at 0x18a0af70>"
      ]
     },
     "execution_count": 196,
     "metadata": {},
     "output_type": "execute_result"
    },
    {
     "data": {
      "image/png": "[encoded data removed]",
      "text/plain": [
       "<Figure size 432x288 with 1 Axes>"
      ]
     },
     "metadata": {
      "needs_background": "light"
     },
     "output_type": "display_data"
    }
   ],
   "source": [
    "# Grafico muy sencillo como para ver como aumentan en conjunto precio y metrostotales\n",
    "df.groupby('metrostotales').agg({'precio':'mean'}).plot()"
   ]
  },
  {
   "cell_type": "code",
   "execution_count": 197,
   "metadata": {},
   "outputs": [
    {
     "data": {
      "text/plain": [
       "<matplotlib.axes._subplots.AxesSubplot at 0x1db3b450>"
      ]
     },
     "execution_count": 197,
     "metadata": {},
     "output_type": "execute_result"
    },
    {
     "data": {
      "image/png": "[encoded data removed]",
      "text/plain": [
       "<Figure size 432x288 with 1 Axes>"
      ]
     },
     "metadata": {
      "needs_background": "light"
     },
     "output_type": "display_data"
    }
   ],
   "source": [
    "df.groupby('metroscubiertos').agg({'precio':'mean'}).plot()"
   ]
  },
  {
   "cell_type": "code",
   "execution_count": 198,
   "metadata": {},
   "outputs": [
    {
     "data": {
      "text/html": [
       "<div>\n",
       "<style scoped>\n",
       "    .dataframe tbody tr th:only-of-type {\n",
       "        vertical-align: middle;\n",
       "    }\n",
       "\n",
       "    .dataframe tbody tr th {\n",
       "        vertical-align: top;\n",
       "    }\n",
       "\n",
       "    .dataframe thead th {\n",
       "        text-align: right;\n",
       "    }\n",
       "</style>\n",
       "<table border=\"1\" class=\"dataframe\">\n",
       "  <thead>\n",
       "    <tr style=\"text-align: right;\">\n",
       "      <th></th>\n",
       "      <th></th>\n",
       "      <th>precio_m2</th>\n",
       "    </tr>\n",
       "    <tr>\n",
       "      <th>provincia</th>\n",
       "      <th>ciudad</th>\n",
       "      <th></th>\n",
       "    </tr>\n",
       "  </thead>\n",
       "  <tbody>\n",
       "    <tr>\n",
       "      <td rowspan=\"5\" valign=\"top\">Aguascalientes</td>\n",
       "      <td>Aguascalientes</td>\n",
       "      <td>10355.61</td>\n",
       "    </tr>\n",
       "    <tr>\n",
       "      <td>Asientos</td>\n",
       "      <td>10885.05</td>\n",
       "    </tr>\n",
       "    <tr>\n",
       "      <td>El Llano</td>\n",
       "      <td>5000.00</td>\n",
       "    </tr>\n",
       "    <tr>\n",
       "      <td>Jesús María</td>\n",
       "      <td>7984.62</td>\n",
       "    </tr>\n",
       "    <tr>\n",
       "      <td>Pabellón de Arteaga</td>\n",
       "      <td>7000.00</td>\n",
       "    </tr>\n",
       "    <tr>\n",
       "      <td>...</td>\n",
       "      <td>...</td>\n",
       "      <td>...</td>\n",
       "    </tr>\n",
       "    <tr>\n",
       "      <td rowspan=\"5\" valign=\"top\">Zacatecas</td>\n",
       "      <td>Guadalupe</td>\n",
       "      <td>7972.42</td>\n",
       "    </tr>\n",
       "    <tr>\n",
       "      <td>Morelos</td>\n",
       "      <td>7940.20</td>\n",
       "    </tr>\n",
       "    <tr>\n",
       "      <td>Río Grande</td>\n",
       "      <td>4600.00</td>\n",
       "    </tr>\n",
       "    <tr>\n",
       "      <td>Villa de Cos</td>\n",
       "      <td>3322.78</td>\n",
       "    </tr>\n",
       "    <tr>\n",
       "      <td>Zacatecas</td>\n",
       "      <td>9073.75</td>\n",
       "    </tr>\n",
       "  </tbody>\n",
       "</table>\n",
       "<p>626 rows × 1 columns</p>\n",
       "</div>"
      ],
      "text/plain": [
       "                                    precio_m2\n",
       "provincia      ciudad                        \n",
       "Aguascalientes Aguascalientes        10355.61\n",
       "               Asientos              10885.05\n",
       "               El Llano               5000.00\n",
       "               Jesús María            7984.62\n",
       "               Pabellón de Arteaga    7000.00\n",
       "...                                       ...\n",
       "Zacatecas      Guadalupe              7972.42\n",
       "               Morelos                7940.20\n",
       "               Río Grande             4600.00\n",
       "               Villa de Cos           3322.78\n",
       "               Zacatecas              9073.75\n",
       "\n",
       "[626 rows x 1 columns]"
      ]
     },
     "execution_count": 198,
     "metadata": {},
     "output_type": "execute_result"
    }
   ],
   "source": [
    "# Valor de metro cuadrado por provincia y ciudad.\n",
    "# Se podria hacer mucho mejor esto\n",
    "df3 = df[df.piscina==0]\n",
    "df3 = df[df.gimnasio==0]\n",
    "df3 = df[df.antiguedad<5]\n",
    "m2_x_zona = df3.groupby(['provincia','ciudad']).agg({'precio_m2':'mean'})\n",
    "m2_x_zona"
   ]
  },
  {
   "cell_type": "code",
   "execution_count": 373,
   "metadata": {},
   "outputs": [
    {
     "data": {
      "text/plain": [
       "ciudad\n",
       "Miguel Hidalgo          5637\n",
       "Naucalpan de Juárez     6074\n",
       "Monterrey               6379\n",
       "Cuauhtémoc              6405\n",
       "Alvaro Obregón          6411\n",
       "Mérida                  6876\n",
       "San Luis Potosí         7200\n",
       "Zapopan                10061\n",
       "Benito Juárez          10764\n",
       "Querétaro              12285\n",
       "dtype: int64"
      ]
     },
     "execution_count": 373,
     "metadata": {},
     "output_type": "execute_result"
    }
   ],
   "source": [
    "# Provincias mas grandes\n",
    "df.groupby(['ciudad']).size().sort_values()[-10:]"
   ]
  },
  {
   "cell_type": "code",
   "execution_count": 383,
   "metadata": {},
   "outputs": [
    {
     "data": {
      "text/html": [
       "<div>\n",
       "<style scoped>\n",
       "    .dataframe tbody tr th:only-of-type {\n",
       "        vertical-align: middle;\n",
       "    }\n",
       "\n",
       "    .dataframe tbody tr th {\n",
       "        vertical-align: top;\n",
       "    }\n",
       "\n",
       "    .dataframe thead th {\n",
       "        text-align: right;\n",
       "    }\n",
       "</style>\n",
       "<table border=\"1\" class=\"dataframe\">\n",
       "  <thead>\n",
       "    <tr style=\"text-align: right;\">\n",
       "      <th></th>\n",
       "      <th>provincia</th>\n",
       "      <th>ciudad</th>\n",
       "      <th>tipodepropiedad</th>\n",
       "      <th>0</th>\n",
       "    </tr>\n",
       "  </thead>\n",
       "  <tbody>\n",
       "    <tr>\n",
       "      <td>440</td>\n",
       "      <td>Querétaro</td>\n",
       "      <td>Querétaro</td>\n",
       "      <td>Rancho</td>\n",
       "      <td>1</td>\n",
       "    </tr>\n",
       "    <tr>\n",
       "      <td>441</td>\n",
       "      <td>Querétaro</td>\n",
       "      <td>Querétaro</td>\n",
       "      <td>Nave industrial</td>\n",
       "      <td>1</td>\n",
       "    </tr>\n",
       "    <tr>\n",
       "      <td>1261</td>\n",
       "      <td>Querétaro</td>\n",
       "      <td>Querétaro</td>\n",
       "      <td>Quinta Vacacional</td>\n",
       "      <td>2</td>\n",
       "    </tr>\n",
       "    <tr>\n",
       "      <td>1266</td>\n",
       "      <td>Querétaro</td>\n",
       "      <td>Querétaro</td>\n",
       "      <td>Villa</td>\n",
       "      <td>2</td>\n",
       "    </tr>\n",
       "    <tr>\n",
       "      <td>2018</td>\n",
       "      <td>Querétaro</td>\n",
       "      <td>Querétaro</td>\n",
       "      <td>Inmuebles productivos urbanos</td>\n",
       "      <td>5</td>\n",
       "    </tr>\n",
       "    <tr>\n",
       "      <td>2435</td>\n",
       "      <td>Querétaro</td>\n",
       "      <td>Querétaro</td>\n",
       "      <td>Otros</td>\n",
       "      <td>13</td>\n",
       "    </tr>\n",
       "    <tr>\n",
       "      <td>2469</td>\n",
       "      <td>Querétaro</td>\n",
       "      <td>Querétaro</td>\n",
       "      <td>Duplex</td>\n",
       "      <td>15</td>\n",
       "    </tr>\n",
       "    <tr>\n",
       "      <td>2471</td>\n",
       "      <td>Querétaro</td>\n",
       "      <td>Querétaro</td>\n",
       "      <td>Local en centro comercial</td>\n",
       "      <td>15</td>\n",
       "    </tr>\n",
       "    <tr>\n",
       "      <td>2519</td>\n",
       "      <td>Querétaro</td>\n",
       "      <td>Querétaro</td>\n",
       "      <td>Edificio</td>\n",
       "      <td>17</td>\n",
       "    </tr>\n",
       "    <tr>\n",
       "      <td>2568</td>\n",
       "      <td>Querétaro</td>\n",
       "      <td>Querétaro</td>\n",
       "      <td>Casa uso de suelo</td>\n",
       "      <td>20</td>\n",
       "    </tr>\n",
       "    <tr>\n",
       "      <td>2770</td>\n",
       "      <td>Querétaro</td>\n",
       "      <td>Querétaro</td>\n",
       "      <td>Bodega comercial</td>\n",
       "      <td>48</td>\n",
       "    </tr>\n",
       "    <tr>\n",
       "      <td>2901</td>\n",
       "      <td>Querétaro</td>\n",
       "      <td>Querétaro</td>\n",
       "      <td>Terreno comercial</td>\n",
       "      <td>102</td>\n",
       "    </tr>\n",
       "    <tr>\n",
       "      <td>2907</td>\n",
       "      <td>Querétaro</td>\n",
       "      <td>Querétaro</td>\n",
       "      <td>Oficina comercial</td>\n",
       "      <td>105</td>\n",
       "    </tr>\n",
       "    <tr>\n",
       "      <td>2951</td>\n",
       "      <td>Querétaro</td>\n",
       "      <td>Querétaro</td>\n",
       "      <td>Local Comercial</td>\n",
       "      <td>159</td>\n",
       "    </tr>\n",
       "    <tr>\n",
       "      <td>3084</td>\n",
       "      <td>Querétaro</td>\n",
       "      <td>Querétaro</td>\n",
       "      <td>Apartamento</td>\n",
       "      <td>866</td>\n",
       "    </tr>\n",
       "    <tr>\n",
       "      <td>3086</td>\n",
       "      <td>Querétaro</td>\n",
       "      <td>Querétaro</td>\n",
       "      <td>Terreno</td>\n",
       "      <td>872</td>\n",
       "    </tr>\n",
       "    <tr>\n",
       "      <td>3121</td>\n",
       "      <td>Querétaro</td>\n",
       "      <td>Querétaro</td>\n",
       "      <td>Casa en condominio</td>\n",
       "      <td>1779</td>\n",
       "    </tr>\n",
       "    <tr>\n",
       "      <td>3148</td>\n",
       "      <td>Querétaro</td>\n",
       "      <td>Querétaro</td>\n",
       "      <td>Casa</td>\n",
       "      <td>8263</td>\n",
       "    </tr>\n",
       "  </tbody>\n",
       "</table>\n",
       "</div>"
      ],
      "text/plain": [
       "      provincia     ciudad                tipodepropiedad     0\n",
       "440   Querétaro  Querétaro                         Rancho     1\n",
       "441   Querétaro  Querétaro                Nave industrial     1\n",
       "1261  Querétaro  Querétaro              Quinta Vacacional     2\n",
       "1266  Querétaro  Querétaro                          Villa     2\n",
       "2018  Querétaro  Querétaro  Inmuebles productivos urbanos     5\n",
       "2435  Querétaro  Querétaro                          Otros    13\n",
       "2469  Querétaro  Querétaro                         Duplex    15\n",
       "2471  Querétaro  Querétaro      Local en centro comercial    15\n",
       "2519  Querétaro  Querétaro                       Edificio    17\n",
       "2568  Querétaro  Querétaro              Casa uso de suelo    20\n",
       "2770  Querétaro  Querétaro               Bodega comercial    48\n",
       "2901  Querétaro  Querétaro              Terreno comercial   102\n",
       "2907  Querétaro  Querétaro              Oficina comercial   105\n",
       "2951  Querétaro  Querétaro                Local Comercial   159\n",
       "3084  Querétaro  Querétaro                    Apartamento   866\n",
       "3086  Querétaro  Querétaro                        Terreno   872\n",
       "3121  Querétaro  Querétaro             Casa en condominio  1779\n",
       "3148  Querétaro  Querétaro                           Casa  8263"
      ]
     },
     "execution_count": 383,
     "metadata": {},
     "output_type": "execute_result"
    }
   ],
   "source": [
    "df_p = df.groupby(['provincia','ciudad','tipodepropiedad']).size().sort_values().reset_index()\n",
    "\n",
    "df_p[df_p['ciudad']=='Querétaro']"
   ]
  },
  {
   "cell_type": "code",
   "execution_count": 404,
   "metadata": {},
   "outputs": [
    {
     "data": {
      "text/plain": [
       "(48414, 20)"
      ]
     },
     "execution_count": 404,
     "metadata": {},
     "output_type": "execute_result"
    }
   ],
   "source": [
    "df[df.antiguedad==0].shape"
   ]
  },
  {
   "cell_type": "code",
   "execution_count": null,
   "metadata": {},
   "outputs": [],
   "source": []
  }
 ],
 "metadata": {
  "kernelspec": {
   "display_name": "Python 3",
   "language": "python",
   "name": "python3"
  },
  "language_info": {
   "codemirror_mode": {
    "name": "ipython",
    "version": 3
   },
   "file_extension": ".py",
   "mimetype": "text/x-python",
   "name": "python",
   "nbconvert_exporter": "python",
   "pygments_lexer": "ipython3",
   "version": "3.7.4"
  }
 },
 "nbformat": 4,
 "nbformat_minor": 2
}
